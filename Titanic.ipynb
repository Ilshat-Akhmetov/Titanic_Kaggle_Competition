{
 "cells": [
  {
   "cell_type": "code",
   "execution_count": 1,
   "id": "simple-carroll",
   "metadata": {
    "ExecuteTime": {
     "end_time": "2021-07-14T08:08:56.313438Z",
     "start_time": "2021-07-14T08:08:54.197548Z"
    }
   },
   "outputs": [],
   "source": [
    "import pandas as pd\n",
    "import sklearn\n",
    "import re\n",
    "from sklearn.ensemble import RandomForestClassifier, GradientBoostingClassifier\n",
    "from sklearn.model_selection import train_test_split, GridSearchCV, cross_val_score\n",
    "from sklearn.preprocessing import LabelEncoder\n",
    "import seaborn as sns\n",
    "from sklearn.metrics import classification_report, plot_confusion_matrix, accuracy_score, roc_auc_score\n",
    "import matplotlib.pyplot as plt"
   ]
  },
  {
   "cell_type": "markdown",
   "id": "simplified-experiment",
   "metadata": {},
   "source": [
    "## First look"
   ]
  },
  {
   "cell_type": "code",
   "execution_count": 2,
   "id": "great-entity",
   "metadata": {
    "ExecuteTime": {
     "end_time": "2021-07-14T08:08:56.345398Z",
     "start_time": "2021-07-14T08:08:56.319420Z"
    }
   },
   "outputs": [],
   "source": [
    "main_df = pd.read_csv(\"train.csv\")\n",
    "test_df = pd.read_csv(\"test.csv\")\n",
    "PassengerID = test_df['PassengerId']\n",
    "Survived = main_df['Survived']"
   ]
  },
  {
   "cell_type": "code",
   "execution_count": 3,
   "id": "minute-chest",
   "metadata": {
    "ExecuteTime": {
     "end_time": "2021-07-14T08:08:56.425181Z",
     "start_time": "2021-07-14T08:08:56.354375Z"
    }
   },
   "outputs": [
    {
     "data": {
      "text/html": [
       "<div>\n",
       "<style scoped>\n",
       "    .dataframe tbody tr th:only-of-type {\n",
       "        vertical-align: middle;\n",
       "    }\n",
       "\n",
       "    .dataframe tbody tr th {\n",
       "        vertical-align: top;\n",
       "    }\n",
       "\n",
       "    .dataframe thead th {\n",
       "        text-align: right;\n",
       "    }\n",
       "</style>\n",
       "<table border=\"1\" class=\"dataframe\">\n",
       "  <thead>\n",
       "    <tr style=\"text-align: right;\">\n",
       "      <th></th>\n",
       "      <th>PassengerId</th>\n",
       "      <th>Survived</th>\n",
       "      <th>Pclass</th>\n",
       "      <th>Name</th>\n",
       "      <th>Sex</th>\n",
       "      <th>Age</th>\n",
       "      <th>SibSp</th>\n",
       "      <th>Parch</th>\n",
       "      <th>Ticket</th>\n",
       "      <th>Fare</th>\n",
       "      <th>Cabin</th>\n",
       "      <th>Embarked</th>\n",
       "    </tr>\n",
       "  </thead>\n",
       "  <tbody>\n",
       "    <tr>\n",
       "      <th>0</th>\n",
       "      <td>1</td>\n",
       "      <td>0</td>\n",
       "      <td>3</td>\n",
       "      <td>Braund, Mr. Owen Harris</td>\n",
       "      <td>male</td>\n",
       "      <td>22.0</td>\n",
       "      <td>1</td>\n",
       "      <td>0</td>\n",
       "      <td>A/5 21171</td>\n",
       "      <td>7.2500</td>\n",
       "      <td>NaN</td>\n",
       "      <td>S</td>\n",
       "    </tr>\n",
       "    <tr>\n",
       "      <th>1</th>\n",
       "      <td>2</td>\n",
       "      <td>1</td>\n",
       "      <td>1</td>\n",
       "      <td>Cumings, Mrs. John Bradley (Florence Briggs Th...</td>\n",
       "      <td>female</td>\n",
       "      <td>38.0</td>\n",
       "      <td>1</td>\n",
       "      <td>0</td>\n",
       "      <td>PC 17599</td>\n",
       "      <td>71.2833</td>\n",
       "      <td>C85</td>\n",
       "      <td>C</td>\n",
       "    </tr>\n",
       "    <tr>\n",
       "      <th>2</th>\n",
       "      <td>3</td>\n",
       "      <td>1</td>\n",
       "      <td>3</td>\n",
       "      <td>Heikkinen, Miss. Laina</td>\n",
       "      <td>female</td>\n",
       "      <td>26.0</td>\n",
       "      <td>0</td>\n",
       "      <td>0</td>\n",
       "      <td>STON/O2. 3101282</td>\n",
       "      <td>7.9250</td>\n",
       "      <td>NaN</td>\n",
       "      <td>S</td>\n",
       "    </tr>\n",
       "    <tr>\n",
       "      <th>3</th>\n",
       "      <td>4</td>\n",
       "      <td>1</td>\n",
       "      <td>1</td>\n",
       "      <td>Futrelle, Mrs. Jacques Heath (Lily May Peel)</td>\n",
       "      <td>female</td>\n",
       "      <td>35.0</td>\n",
       "      <td>1</td>\n",
       "      <td>0</td>\n",
       "      <td>113803</td>\n",
       "      <td>53.1000</td>\n",
       "      <td>C123</td>\n",
       "      <td>S</td>\n",
       "    </tr>\n",
       "    <tr>\n",
       "      <th>4</th>\n",
       "      <td>5</td>\n",
       "      <td>0</td>\n",
       "      <td>3</td>\n",
       "      <td>Allen, Mr. William Henry</td>\n",
       "      <td>male</td>\n",
       "      <td>35.0</td>\n",
       "      <td>0</td>\n",
       "      <td>0</td>\n",
       "      <td>373450</td>\n",
       "      <td>8.0500</td>\n",
       "      <td>NaN</td>\n",
       "      <td>S</td>\n",
       "    </tr>\n",
       "    <tr>\n",
       "      <th>...</th>\n",
       "      <td>...</td>\n",
       "      <td>...</td>\n",
       "      <td>...</td>\n",
       "      <td>...</td>\n",
       "      <td>...</td>\n",
       "      <td>...</td>\n",
       "      <td>...</td>\n",
       "      <td>...</td>\n",
       "      <td>...</td>\n",
       "      <td>...</td>\n",
       "      <td>...</td>\n",
       "      <td>...</td>\n",
       "    </tr>\n",
       "    <tr>\n",
       "      <th>886</th>\n",
       "      <td>887</td>\n",
       "      <td>0</td>\n",
       "      <td>2</td>\n",
       "      <td>Montvila, Rev. Juozas</td>\n",
       "      <td>male</td>\n",
       "      <td>27.0</td>\n",
       "      <td>0</td>\n",
       "      <td>0</td>\n",
       "      <td>211536</td>\n",
       "      <td>13.0000</td>\n",
       "      <td>NaN</td>\n",
       "      <td>S</td>\n",
       "    </tr>\n",
       "    <tr>\n",
       "      <th>887</th>\n",
       "      <td>888</td>\n",
       "      <td>1</td>\n",
       "      <td>1</td>\n",
       "      <td>Graham, Miss. Margaret Edith</td>\n",
       "      <td>female</td>\n",
       "      <td>19.0</td>\n",
       "      <td>0</td>\n",
       "      <td>0</td>\n",
       "      <td>112053</td>\n",
       "      <td>30.0000</td>\n",
       "      <td>B42</td>\n",
       "      <td>S</td>\n",
       "    </tr>\n",
       "    <tr>\n",
       "      <th>888</th>\n",
       "      <td>889</td>\n",
       "      <td>0</td>\n",
       "      <td>3</td>\n",
       "      <td>Johnston, Miss. Catherine Helen \"Carrie\"</td>\n",
       "      <td>female</td>\n",
       "      <td>NaN</td>\n",
       "      <td>1</td>\n",
       "      <td>2</td>\n",
       "      <td>W./C. 6607</td>\n",
       "      <td>23.4500</td>\n",
       "      <td>NaN</td>\n",
       "      <td>S</td>\n",
       "    </tr>\n",
       "    <tr>\n",
       "      <th>889</th>\n",
       "      <td>890</td>\n",
       "      <td>1</td>\n",
       "      <td>1</td>\n",
       "      <td>Behr, Mr. Karl Howell</td>\n",
       "      <td>male</td>\n",
       "      <td>26.0</td>\n",
       "      <td>0</td>\n",
       "      <td>0</td>\n",
       "      <td>111369</td>\n",
       "      <td>30.0000</td>\n",
       "      <td>C148</td>\n",
       "      <td>C</td>\n",
       "    </tr>\n",
       "    <tr>\n",
       "      <th>890</th>\n",
       "      <td>891</td>\n",
       "      <td>0</td>\n",
       "      <td>3</td>\n",
       "      <td>Dooley, Mr. Patrick</td>\n",
       "      <td>male</td>\n",
       "      <td>32.0</td>\n",
       "      <td>0</td>\n",
       "      <td>0</td>\n",
       "      <td>370376</td>\n",
       "      <td>7.7500</td>\n",
       "      <td>NaN</td>\n",
       "      <td>Q</td>\n",
       "    </tr>\n",
       "  </tbody>\n",
       "</table>\n",
       "<p>891 rows × 12 columns</p>\n",
       "</div>"
      ],
      "text/plain": [
       "     PassengerId  Survived  Pclass  \\\n",
       "0              1         0       3   \n",
       "1              2         1       1   \n",
       "2              3         1       3   \n",
       "3              4         1       1   \n",
       "4              5         0       3   \n",
       "..           ...       ...     ...   \n",
       "886          887         0       2   \n",
       "887          888         1       1   \n",
       "888          889         0       3   \n",
       "889          890         1       1   \n",
       "890          891         0       3   \n",
       "\n",
       "                                                  Name     Sex   Age  SibSp  \\\n",
       "0                              Braund, Mr. Owen Harris    male  22.0      1   \n",
       "1    Cumings, Mrs. John Bradley (Florence Briggs Th...  female  38.0      1   \n",
       "2                               Heikkinen, Miss. Laina  female  26.0      0   \n",
       "3         Futrelle, Mrs. Jacques Heath (Lily May Peel)  female  35.0      1   \n",
       "4                             Allen, Mr. William Henry    male  35.0      0   \n",
       "..                                                 ...     ...   ...    ...   \n",
       "886                              Montvila, Rev. Juozas    male  27.0      0   \n",
       "887                       Graham, Miss. Margaret Edith  female  19.0      0   \n",
       "888           Johnston, Miss. Catherine Helen \"Carrie\"  female   NaN      1   \n",
       "889                              Behr, Mr. Karl Howell    male  26.0      0   \n",
       "890                                Dooley, Mr. Patrick    male  32.0      0   \n",
       "\n",
       "     Parch            Ticket     Fare Cabin Embarked  \n",
       "0        0         A/5 21171   7.2500   NaN        S  \n",
       "1        0          PC 17599  71.2833   C85        C  \n",
       "2        0  STON/O2. 3101282   7.9250   NaN        S  \n",
       "3        0            113803  53.1000  C123        S  \n",
       "4        0            373450   8.0500   NaN        S  \n",
       "..     ...               ...      ...   ...      ...  \n",
       "886      0            211536  13.0000   NaN        S  \n",
       "887      0            112053  30.0000   B42        S  \n",
       "888      2        W./C. 6607  23.4500   NaN        S  \n",
       "889      0            111369  30.0000  C148        C  \n",
       "890      0            370376   7.7500   NaN        Q  \n",
       "\n",
       "[891 rows x 12 columns]"
      ]
     },
     "execution_count": 3,
     "metadata": {},
     "output_type": "execute_result"
    }
   ],
   "source": [
    "main_df"
   ]
  },
  {
   "cell_type": "code",
   "execution_count": 4,
   "id": "eight-furniture",
   "metadata": {
    "ExecuteTime": {
     "end_time": "2021-07-14T08:08:56.457092Z",
     "start_time": "2021-07-14T08:08:56.427174Z"
    }
   },
   "outputs": [
    {
     "data": {
      "text/html": [
       "<div>\n",
       "<style scoped>\n",
       "    .dataframe tbody tr th:only-of-type {\n",
       "        vertical-align: middle;\n",
       "    }\n",
       "\n",
       "    .dataframe tbody tr th {\n",
       "        vertical-align: top;\n",
       "    }\n",
       "\n",
       "    .dataframe thead th {\n",
       "        text-align: right;\n",
       "    }\n",
       "</style>\n",
       "<table border=\"1\" class=\"dataframe\">\n",
       "  <thead>\n",
       "    <tr style=\"text-align: right;\">\n",
       "      <th></th>\n",
       "      <th>PassengerId</th>\n",
       "      <th>Pclass</th>\n",
       "      <th>Name</th>\n",
       "      <th>Sex</th>\n",
       "      <th>Age</th>\n",
       "      <th>SibSp</th>\n",
       "      <th>Parch</th>\n",
       "      <th>Ticket</th>\n",
       "      <th>Fare</th>\n",
       "      <th>Cabin</th>\n",
       "      <th>Embarked</th>\n",
       "    </tr>\n",
       "  </thead>\n",
       "  <tbody>\n",
       "    <tr>\n",
       "      <th>0</th>\n",
       "      <td>892</td>\n",
       "      <td>3</td>\n",
       "      <td>Kelly, Mr. James</td>\n",
       "      <td>male</td>\n",
       "      <td>34.5</td>\n",
       "      <td>0</td>\n",
       "      <td>0</td>\n",
       "      <td>330911</td>\n",
       "      <td>7.8292</td>\n",
       "      <td>NaN</td>\n",
       "      <td>Q</td>\n",
       "    </tr>\n",
       "    <tr>\n",
       "      <th>1</th>\n",
       "      <td>893</td>\n",
       "      <td>3</td>\n",
       "      <td>Wilkes, Mrs. James (Ellen Needs)</td>\n",
       "      <td>female</td>\n",
       "      <td>47.0</td>\n",
       "      <td>1</td>\n",
       "      <td>0</td>\n",
       "      <td>363272</td>\n",
       "      <td>7.0000</td>\n",
       "      <td>NaN</td>\n",
       "      <td>S</td>\n",
       "    </tr>\n",
       "    <tr>\n",
       "      <th>2</th>\n",
       "      <td>894</td>\n",
       "      <td>2</td>\n",
       "      <td>Myles, Mr. Thomas Francis</td>\n",
       "      <td>male</td>\n",
       "      <td>62.0</td>\n",
       "      <td>0</td>\n",
       "      <td>0</td>\n",
       "      <td>240276</td>\n",
       "      <td>9.6875</td>\n",
       "      <td>NaN</td>\n",
       "      <td>Q</td>\n",
       "    </tr>\n",
       "    <tr>\n",
       "      <th>3</th>\n",
       "      <td>895</td>\n",
       "      <td>3</td>\n",
       "      <td>Wirz, Mr. Albert</td>\n",
       "      <td>male</td>\n",
       "      <td>27.0</td>\n",
       "      <td>0</td>\n",
       "      <td>0</td>\n",
       "      <td>315154</td>\n",
       "      <td>8.6625</td>\n",
       "      <td>NaN</td>\n",
       "      <td>S</td>\n",
       "    </tr>\n",
       "    <tr>\n",
       "      <th>4</th>\n",
       "      <td>896</td>\n",
       "      <td>3</td>\n",
       "      <td>Hirvonen, Mrs. Alexander (Helga E Lindqvist)</td>\n",
       "      <td>female</td>\n",
       "      <td>22.0</td>\n",
       "      <td>1</td>\n",
       "      <td>1</td>\n",
       "      <td>3101298</td>\n",
       "      <td>12.2875</td>\n",
       "      <td>NaN</td>\n",
       "      <td>S</td>\n",
       "    </tr>\n",
       "    <tr>\n",
       "      <th>...</th>\n",
       "      <td>...</td>\n",
       "      <td>...</td>\n",
       "      <td>...</td>\n",
       "      <td>...</td>\n",
       "      <td>...</td>\n",
       "      <td>...</td>\n",
       "      <td>...</td>\n",
       "      <td>...</td>\n",
       "      <td>...</td>\n",
       "      <td>...</td>\n",
       "      <td>...</td>\n",
       "    </tr>\n",
       "    <tr>\n",
       "      <th>413</th>\n",
       "      <td>1305</td>\n",
       "      <td>3</td>\n",
       "      <td>Spector, Mr. Woolf</td>\n",
       "      <td>male</td>\n",
       "      <td>NaN</td>\n",
       "      <td>0</td>\n",
       "      <td>0</td>\n",
       "      <td>A.5. 3236</td>\n",
       "      <td>8.0500</td>\n",
       "      <td>NaN</td>\n",
       "      <td>S</td>\n",
       "    </tr>\n",
       "    <tr>\n",
       "      <th>414</th>\n",
       "      <td>1306</td>\n",
       "      <td>1</td>\n",
       "      <td>Oliva y Ocana, Dona. Fermina</td>\n",
       "      <td>female</td>\n",
       "      <td>39.0</td>\n",
       "      <td>0</td>\n",
       "      <td>0</td>\n",
       "      <td>PC 17758</td>\n",
       "      <td>108.9000</td>\n",
       "      <td>C105</td>\n",
       "      <td>C</td>\n",
       "    </tr>\n",
       "    <tr>\n",
       "      <th>415</th>\n",
       "      <td>1307</td>\n",
       "      <td>3</td>\n",
       "      <td>Saether, Mr. Simon Sivertsen</td>\n",
       "      <td>male</td>\n",
       "      <td>38.5</td>\n",
       "      <td>0</td>\n",
       "      <td>0</td>\n",
       "      <td>SOTON/O.Q. 3101262</td>\n",
       "      <td>7.2500</td>\n",
       "      <td>NaN</td>\n",
       "      <td>S</td>\n",
       "    </tr>\n",
       "    <tr>\n",
       "      <th>416</th>\n",
       "      <td>1308</td>\n",
       "      <td>3</td>\n",
       "      <td>Ware, Mr. Frederick</td>\n",
       "      <td>male</td>\n",
       "      <td>NaN</td>\n",
       "      <td>0</td>\n",
       "      <td>0</td>\n",
       "      <td>359309</td>\n",
       "      <td>8.0500</td>\n",
       "      <td>NaN</td>\n",
       "      <td>S</td>\n",
       "    </tr>\n",
       "    <tr>\n",
       "      <th>417</th>\n",
       "      <td>1309</td>\n",
       "      <td>3</td>\n",
       "      <td>Peter, Master. Michael J</td>\n",
       "      <td>male</td>\n",
       "      <td>NaN</td>\n",
       "      <td>1</td>\n",
       "      <td>1</td>\n",
       "      <td>2668</td>\n",
       "      <td>22.3583</td>\n",
       "      <td>NaN</td>\n",
       "      <td>C</td>\n",
       "    </tr>\n",
       "  </tbody>\n",
       "</table>\n",
       "<p>418 rows × 11 columns</p>\n",
       "</div>"
      ],
      "text/plain": [
       "     PassengerId  Pclass                                          Name  \\\n",
       "0            892       3                              Kelly, Mr. James   \n",
       "1            893       3              Wilkes, Mrs. James (Ellen Needs)   \n",
       "2            894       2                     Myles, Mr. Thomas Francis   \n",
       "3            895       3                              Wirz, Mr. Albert   \n",
       "4            896       3  Hirvonen, Mrs. Alexander (Helga E Lindqvist)   \n",
       "..           ...     ...                                           ...   \n",
       "413         1305       3                            Spector, Mr. Woolf   \n",
       "414         1306       1                  Oliva y Ocana, Dona. Fermina   \n",
       "415         1307       3                  Saether, Mr. Simon Sivertsen   \n",
       "416         1308       3                           Ware, Mr. Frederick   \n",
       "417         1309       3                      Peter, Master. Michael J   \n",
       "\n",
       "        Sex   Age  SibSp  Parch              Ticket      Fare Cabin Embarked  \n",
       "0      male  34.5      0      0              330911    7.8292   NaN        Q  \n",
       "1    female  47.0      1      0              363272    7.0000   NaN        S  \n",
       "2      male  62.0      0      0              240276    9.6875   NaN        Q  \n",
       "3      male  27.0      0      0              315154    8.6625   NaN        S  \n",
       "4    female  22.0      1      1             3101298   12.2875   NaN        S  \n",
       "..      ...   ...    ...    ...                 ...       ...   ...      ...  \n",
       "413    male   NaN      0      0           A.5. 3236    8.0500   NaN        S  \n",
       "414  female  39.0      0      0            PC 17758  108.9000  C105        C  \n",
       "415    male  38.5      0      0  SOTON/O.Q. 3101262    7.2500   NaN        S  \n",
       "416    male   NaN      0      0              359309    8.0500   NaN        S  \n",
       "417    male   NaN      1      1                2668   22.3583   NaN        C  \n",
       "\n",
       "[418 rows x 11 columns]"
      ]
     },
     "execution_count": 4,
     "metadata": {},
     "output_type": "execute_result"
    }
   ],
   "source": [
    "test_df"
   ]
  },
  {
   "cell_type": "markdown",
   "id": "accredited-storage",
   "metadata": {},
   "source": [
    "## Dealing with NaNs"
   ]
  },
  {
   "cell_type": "code",
   "execution_count": 5,
   "id": "secret-adult",
   "metadata": {
    "ExecuteTime": {
     "end_time": "2021-07-14T08:08:56.473053Z",
     "start_time": "2021-07-14T08:08:56.459089Z"
    }
   },
   "outputs": [
    {
     "data": {
      "text/plain": [
       "PassengerId      0\n",
       "Survived         0\n",
       "Pclass           0\n",
       "Name             0\n",
       "Sex              0\n",
       "Age            177\n",
       "SibSp            0\n",
       "Parch            0\n",
       "Ticket           0\n",
       "Fare             0\n",
       "Cabin          687\n",
       "Embarked         2\n",
       "dtype: int64"
      ]
     },
     "execution_count": 5,
     "metadata": {},
     "output_type": "execute_result"
    }
   ],
   "source": [
    "main_df.isna().sum()"
   ]
  },
  {
   "cell_type": "code",
   "execution_count": 6,
   "id": "voluntary-impossible",
   "metadata": {
    "ExecuteTime": {
     "end_time": "2021-07-14T08:08:56.489008Z",
     "start_time": "2021-07-14T08:08:56.477041Z"
    }
   },
   "outputs": [
    {
     "data": {
      "text/plain": [
       "PassengerId      0\n",
       "Pclass           0\n",
       "Name             0\n",
       "Sex              0\n",
       "Age             86\n",
       "SibSp            0\n",
       "Parch            0\n",
       "Ticket           0\n",
       "Fare             1\n",
       "Cabin          327\n",
       "Embarked         0\n",
       "dtype: int64"
      ]
     },
     "execution_count": 6,
     "metadata": {},
     "output_type": "execute_result"
    }
   ],
   "source": [
    "test_df.isna().sum()"
   ]
  },
  {
   "cell_type": "code",
   "execution_count": 7,
   "id": "adequate-andrews",
   "metadata": {
    "ExecuteTime": {
     "end_time": "2021-07-14T08:08:56.504965Z",
     "start_time": "2021-07-14T08:08:56.492998Z"
    }
   },
   "outputs": [],
   "source": [
    "def get_rid_of_nans(df):\n",
    "    df['Age'].fillna(value = df['Age'].mean(), inplace = True)\n",
    "    df['Fare'].fillna(value = df['Fare'].mean(), inplace = True)\n",
    "    df['Embarked'].fillna(value = df['Embarked'].mode()[0], inplace = True)\n",
    "    df['Cabin'].fillna(value = 'NoCabin', inplace = True)\n",
    "    re_cabin_template = \"[A-Za-z]+\"\n",
    "    df['Cabin'] = df['Cabin'].apply(lambda x: re.search(re_cabin_template, x).group(0))"
   ]
  },
  {
   "cell_type": "code",
   "execution_count": 8,
   "id": "monetary-sudan",
   "metadata": {
    "ExecuteTime": {
     "end_time": "2021-07-14T08:08:56.520922Z",
     "start_time": "2021-07-14T08:08:56.506962Z"
    }
   },
   "outputs": [],
   "source": [
    "get_rid_of_nans(main_df)\n",
    "get_rid_of_nans(test_df)"
   ]
  },
  {
   "cell_type": "code",
   "execution_count": 9,
   "id": "seeing-hughes",
   "metadata": {
    "ExecuteTime": {
     "end_time": "2021-07-14T08:08:56.536880Z",
     "start_time": "2021-07-14T08:08:56.522919Z"
    }
   },
   "outputs": [
    {
     "data": {
      "text/plain": [
       "PassengerId    0\n",
       "Survived       0\n",
       "Pclass         0\n",
       "Name           0\n",
       "Sex            0\n",
       "Age            0\n",
       "SibSp          0\n",
       "Parch          0\n",
       "Ticket         0\n",
       "Fare           0\n",
       "Cabin          0\n",
       "Embarked       0\n",
       "dtype: int64"
      ]
     },
     "execution_count": 9,
     "metadata": {},
     "output_type": "execute_result"
    }
   ],
   "source": [
    "main_df.isna().sum()"
   ]
  },
  {
   "cell_type": "markdown",
   "id": "honey-corpus",
   "metadata": {},
   "source": [
    "## Feature engineering"
   ]
  },
  {
   "cell_type": "code",
   "execution_count": 10,
   "id": "distant-broad",
   "metadata": {
    "ExecuteTime": {
     "end_time": "2021-07-14T08:08:56.552837Z",
     "start_time": "2021-07-14T08:08:56.537877Z"
    }
   },
   "outputs": [],
   "source": [
    "def make_title(df):\n",
    "    re_title_template = '([A-Za-z]+)\\.'\n",
    "    df['Title'] = df.Name.apply(lambda x: re.search(re_title_template, x).group(1))"
   ]
  },
  {
   "cell_type": "code",
   "execution_count": 11,
   "id": "traditional-religious",
   "metadata": {
    "ExecuteTime": {
     "end_time": "2021-07-14T08:08:56.568473Z",
     "start_time": "2021-07-14T08:08:56.554511Z"
    }
   },
   "outputs": [],
   "source": [
    "make_title(main_df)\n",
    "make_title(test_df)"
   ]
  },
  {
   "cell_type": "code",
   "execution_count": 12,
   "id": "purple-begin",
   "metadata": {
    "ExecuteTime": {
     "end_time": "2021-07-14T08:08:56.583433Z",
     "start_time": "2021-07-14T08:08:56.570469Z"
    }
   },
   "outputs": [
    {
     "data": {
      "text/plain": [
       "Mr          517\n",
       "Miss        182\n",
       "Mrs         125\n",
       "Master       40\n",
       "Dr            7\n",
       "Rev           6\n",
       "Mlle          2\n",
       "Major         2\n",
       "Col           2\n",
       "Mme           1\n",
       "Jonkheer      1\n",
       "Sir           1\n",
       "Lady          1\n",
       "Capt          1\n",
       "Countess      1\n",
       "Don           1\n",
       "Ms            1\n",
       "Name: Title, dtype: int64"
      ]
     },
     "execution_count": 12,
     "metadata": {},
     "output_type": "execute_result"
    }
   ],
   "source": [
    "main_df.Title.value_counts()"
   ]
  },
  {
   "cell_type": "code",
   "execution_count": 13,
   "id": "diagnostic-labor",
   "metadata": {
    "ExecuteTime": {
     "end_time": "2021-07-14T08:08:56.598394Z",
     "start_time": "2021-07-14T08:08:56.584431Z"
    }
   },
   "outputs": [],
   "source": [
    "def replace_title_name(x):\n",
    "    title = x['Title']\n",
    "    man_mr_titles = ['Don', 'Major', 'Capt', 'Jonkheer', 'Rev', 'Col', 'Sir']\n",
    "    woman_mrs_titles = ['Countess', 'Mme','Dona']\n",
    "    woman_miss_titles = ['Mlle', 'Ms','Lady']\n",
    "    if title in man_mr_titles:\n",
    "        return 'Mr'\n",
    "    elif title in woman_mrs_titles:\n",
    "        return 'Mrs'\n",
    "    elif title in woman_miss_titles:\n",
    "        return 'Miss'\n",
    "    elif title =='Dr':\n",
    "        if x['Sex'] == 'Male':\n",
    "            return 'Mr'\n",
    "        else:\n",
    "            return 'Mrs'\n",
    "    else:\n",
    "        return title"
   ]
  },
  {
   "cell_type": "code",
   "execution_count": 14,
   "id": "dressed-french",
   "metadata": {
    "ExecuteTime": {
     "end_time": "2021-07-14T08:08:56.630309Z",
     "start_time": "2021-07-14T08:08:56.599392Z"
    }
   },
   "outputs": [
    {
     "data": {
      "text/html": [
       "<div>\n",
       "<style scoped>\n",
       "    .dataframe tbody tr th:only-of-type {\n",
       "        vertical-align: middle;\n",
       "    }\n",
       "\n",
       "    .dataframe tbody tr th {\n",
       "        vertical-align: top;\n",
       "    }\n",
       "\n",
       "    .dataframe thead th {\n",
       "        text-align: right;\n",
       "    }\n",
       "</style>\n",
       "<table border=\"1\" class=\"dataframe\">\n",
       "  <thead>\n",
       "    <tr style=\"text-align: right;\">\n",
       "      <th></th>\n",
       "      <th>PassengerId</th>\n",
       "      <th>Pclass</th>\n",
       "      <th>Name</th>\n",
       "      <th>Sex</th>\n",
       "      <th>Age</th>\n",
       "      <th>SibSp</th>\n",
       "      <th>Parch</th>\n",
       "      <th>Ticket</th>\n",
       "      <th>Fare</th>\n",
       "      <th>Cabin</th>\n",
       "      <th>Embarked</th>\n",
       "      <th>Title</th>\n",
       "    </tr>\n",
       "  </thead>\n",
       "  <tbody>\n",
       "    <tr>\n",
       "      <th>0</th>\n",
       "      <td>892</td>\n",
       "      <td>3</td>\n",
       "      <td>Kelly, Mr. James</td>\n",
       "      <td>male</td>\n",
       "      <td>34.50000</td>\n",
       "      <td>0</td>\n",
       "      <td>0</td>\n",
       "      <td>330911</td>\n",
       "      <td>7.8292</td>\n",
       "      <td>NoCabin</td>\n",
       "      <td>Q</td>\n",
       "      <td>Mr</td>\n",
       "    </tr>\n",
       "    <tr>\n",
       "      <th>1</th>\n",
       "      <td>893</td>\n",
       "      <td>3</td>\n",
       "      <td>Wilkes, Mrs. James (Ellen Needs)</td>\n",
       "      <td>female</td>\n",
       "      <td>47.00000</td>\n",
       "      <td>1</td>\n",
       "      <td>0</td>\n",
       "      <td>363272</td>\n",
       "      <td>7.0000</td>\n",
       "      <td>NoCabin</td>\n",
       "      <td>S</td>\n",
       "      <td>Mrs</td>\n",
       "    </tr>\n",
       "    <tr>\n",
       "      <th>2</th>\n",
       "      <td>894</td>\n",
       "      <td>2</td>\n",
       "      <td>Myles, Mr. Thomas Francis</td>\n",
       "      <td>male</td>\n",
       "      <td>62.00000</td>\n",
       "      <td>0</td>\n",
       "      <td>0</td>\n",
       "      <td>240276</td>\n",
       "      <td>9.6875</td>\n",
       "      <td>NoCabin</td>\n",
       "      <td>Q</td>\n",
       "      <td>Mr</td>\n",
       "    </tr>\n",
       "    <tr>\n",
       "      <th>3</th>\n",
       "      <td>895</td>\n",
       "      <td>3</td>\n",
       "      <td>Wirz, Mr. Albert</td>\n",
       "      <td>male</td>\n",
       "      <td>27.00000</td>\n",
       "      <td>0</td>\n",
       "      <td>0</td>\n",
       "      <td>315154</td>\n",
       "      <td>8.6625</td>\n",
       "      <td>NoCabin</td>\n",
       "      <td>S</td>\n",
       "      <td>Mr</td>\n",
       "    </tr>\n",
       "    <tr>\n",
       "      <th>4</th>\n",
       "      <td>896</td>\n",
       "      <td>3</td>\n",
       "      <td>Hirvonen, Mrs. Alexander (Helga E Lindqvist)</td>\n",
       "      <td>female</td>\n",
       "      <td>22.00000</td>\n",
       "      <td>1</td>\n",
       "      <td>1</td>\n",
       "      <td>3101298</td>\n",
       "      <td>12.2875</td>\n",
       "      <td>NoCabin</td>\n",
       "      <td>S</td>\n",
       "      <td>Mrs</td>\n",
       "    </tr>\n",
       "    <tr>\n",
       "      <th>...</th>\n",
       "      <td>...</td>\n",
       "      <td>...</td>\n",
       "      <td>...</td>\n",
       "      <td>...</td>\n",
       "      <td>...</td>\n",
       "      <td>...</td>\n",
       "      <td>...</td>\n",
       "      <td>...</td>\n",
       "      <td>...</td>\n",
       "      <td>...</td>\n",
       "      <td>...</td>\n",
       "      <td>...</td>\n",
       "    </tr>\n",
       "    <tr>\n",
       "      <th>413</th>\n",
       "      <td>1305</td>\n",
       "      <td>3</td>\n",
       "      <td>Spector, Mr. Woolf</td>\n",
       "      <td>male</td>\n",
       "      <td>30.27259</td>\n",
       "      <td>0</td>\n",
       "      <td>0</td>\n",
       "      <td>A.5. 3236</td>\n",
       "      <td>8.0500</td>\n",
       "      <td>NoCabin</td>\n",
       "      <td>S</td>\n",
       "      <td>Mr</td>\n",
       "    </tr>\n",
       "    <tr>\n",
       "      <th>414</th>\n",
       "      <td>1306</td>\n",
       "      <td>1</td>\n",
       "      <td>Oliva y Ocana, Dona. Fermina</td>\n",
       "      <td>female</td>\n",
       "      <td>39.00000</td>\n",
       "      <td>0</td>\n",
       "      <td>0</td>\n",
       "      <td>PC 17758</td>\n",
       "      <td>108.9000</td>\n",
       "      <td>C</td>\n",
       "      <td>C</td>\n",
       "      <td>Dona</td>\n",
       "    </tr>\n",
       "    <tr>\n",
       "      <th>415</th>\n",
       "      <td>1307</td>\n",
       "      <td>3</td>\n",
       "      <td>Saether, Mr. Simon Sivertsen</td>\n",
       "      <td>male</td>\n",
       "      <td>38.50000</td>\n",
       "      <td>0</td>\n",
       "      <td>0</td>\n",
       "      <td>SOTON/O.Q. 3101262</td>\n",
       "      <td>7.2500</td>\n",
       "      <td>NoCabin</td>\n",
       "      <td>S</td>\n",
       "      <td>Mr</td>\n",
       "    </tr>\n",
       "    <tr>\n",
       "      <th>416</th>\n",
       "      <td>1308</td>\n",
       "      <td>3</td>\n",
       "      <td>Ware, Mr. Frederick</td>\n",
       "      <td>male</td>\n",
       "      <td>30.27259</td>\n",
       "      <td>0</td>\n",
       "      <td>0</td>\n",
       "      <td>359309</td>\n",
       "      <td>8.0500</td>\n",
       "      <td>NoCabin</td>\n",
       "      <td>S</td>\n",
       "      <td>Mr</td>\n",
       "    </tr>\n",
       "    <tr>\n",
       "      <th>417</th>\n",
       "      <td>1309</td>\n",
       "      <td>3</td>\n",
       "      <td>Peter, Master. Michael J</td>\n",
       "      <td>male</td>\n",
       "      <td>30.27259</td>\n",
       "      <td>1</td>\n",
       "      <td>1</td>\n",
       "      <td>2668</td>\n",
       "      <td>22.3583</td>\n",
       "      <td>NoCabin</td>\n",
       "      <td>C</td>\n",
       "      <td>Master</td>\n",
       "    </tr>\n",
       "  </tbody>\n",
       "</table>\n",
       "<p>418 rows × 12 columns</p>\n",
       "</div>"
      ],
      "text/plain": [
       "     PassengerId  Pclass                                          Name  \\\n",
       "0            892       3                              Kelly, Mr. James   \n",
       "1            893       3              Wilkes, Mrs. James (Ellen Needs)   \n",
       "2            894       2                     Myles, Mr. Thomas Francis   \n",
       "3            895       3                              Wirz, Mr. Albert   \n",
       "4            896       3  Hirvonen, Mrs. Alexander (Helga E Lindqvist)   \n",
       "..           ...     ...                                           ...   \n",
       "413         1305       3                            Spector, Mr. Woolf   \n",
       "414         1306       1                  Oliva y Ocana, Dona. Fermina   \n",
       "415         1307       3                  Saether, Mr. Simon Sivertsen   \n",
       "416         1308       3                           Ware, Mr. Frederick   \n",
       "417         1309       3                      Peter, Master. Michael J   \n",
       "\n",
       "        Sex       Age  SibSp  Parch              Ticket      Fare    Cabin  \\\n",
       "0      male  34.50000      0      0              330911    7.8292  NoCabin   \n",
       "1    female  47.00000      1      0              363272    7.0000  NoCabin   \n",
       "2      male  62.00000      0      0              240276    9.6875  NoCabin   \n",
       "3      male  27.00000      0      0              315154    8.6625  NoCabin   \n",
       "4    female  22.00000      1      1             3101298   12.2875  NoCabin   \n",
       "..      ...       ...    ...    ...                 ...       ...      ...   \n",
       "413    male  30.27259      0      0           A.5. 3236    8.0500  NoCabin   \n",
       "414  female  39.00000      0      0            PC 17758  108.9000        C   \n",
       "415    male  38.50000      0      0  SOTON/O.Q. 3101262    7.2500  NoCabin   \n",
       "416    male  30.27259      0      0              359309    8.0500  NoCabin   \n",
       "417    male  30.27259      1      1                2668   22.3583  NoCabin   \n",
       "\n",
       "    Embarked   Title  \n",
       "0          Q      Mr  \n",
       "1          S     Mrs  \n",
       "2          Q      Mr  \n",
       "3          S      Mr  \n",
       "4          S     Mrs  \n",
       "..       ...     ...  \n",
       "413        S      Mr  \n",
       "414        C    Dona  \n",
       "415        S      Mr  \n",
       "416        S      Mr  \n",
       "417        C  Master  \n",
       "\n",
       "[418 rows x 12 columns]"
      ]
     },
     "execution_count": 14,
     "metadata": {},
     "output_type": "execute_result"
    }
   ],
   "source": [
    "test_df"
   ]
  },
  {
   "cell_type": "code",
   "execution_count": 15,
   "id": "familiar-bristol",
   "metadata": {
    "ExecuteTime": {
     "end_time": "2021-07-14T08:08:56.661397Z",
     "start_time": "2021-07-14T08:08:56.631305Z"
    }
   },
   "outputs": [],
   "source": [
    "main_df['Title'] = main_df.apply(replace_title_name, axis = 1)\n",
    "test_df['Title'] = test_df.apply(replace_title_name, axis = 1)"
   ]
  },
  {
   "cell_type": "code",
   "execution_count": 16,
   "id": "statutory-drama",
   "metadata": {
    "ExecuteTime": {
     "end_time": "2021-07-14T08:08:56.688173Z",
     "start_time": "2021-07-14T08:08:56.667123Z"
    }
   },
   "outputs": [
    {
     "data": {
      "text/plain": [
       "Mr        531\n",
       "Miss      186\n",
       "Mrs       134\n",
       "Master     40\n",
       "Name: Title, dtype: int64"
      ]
     },
     "execution_count": 16,
     "metadata": {},
     "output_type": "execute_result"
    }
   ],
   "source": [
    "main_df.Title.value_counts()"
   ]
  },
  {
   "cell_type": "code",
   "execution_count": 17,
   "id": "driven-vienna",
   "metadata": {
    "ExecuteTime": {
     "end_time": "2021-07-14T08:08:56.729038Z",
     "start_time": "2021-07-14T08:08:56.688689Z"
    }
   },
   "outputs": [
    {
     "data": {
      "text/plain": [
       "Mr        244\n",
       "Miss       79\n",
       "Mrs        74\n",
       "Master     21\n",
       "Name: Title, dtype: int64"
      ]
     },
     "execution_count": 17,
     "metadata": {},
     "output_type": "execute_result"
    }
   ],
   "source": [
    "test_df.Title.value_counts()"
   ]
  },
  {
   "cell_type": "code",
   "execution_count": 18,
   "id": "certified-batman",
   "metadata": {
    "ExecuteTime": {
     "end_time": "2021-07-14T08:08:56.745706Z",
     "start_time": "2021-07-14T08:08:56.730085Z"
    }
   },
   "outputs": [],
   "source": [
    "def make_features(df):\n",
    "    children_with_nanny = (df['Age']<18) & (df['Parch']==0)\n",
    "    df['Family_Size'] = df['SibSp'] + df['Parch']\n",
    "    # children without parents travell with nanny\n",
    "    # df.Family_Size[children_with_nanny] = df.apply(lambda x: x['SibSp'] + 1, axis = 1)\n",
    "    # family size and the person himself\n",
    "    df['Fare_Per_Person'] = df['Fare'] / (df['Family_Size'] + 1)\n",
    "    df['Age*Class'] = df['Age'] * df['Pclass']"
   ]
  },
  {
   "cell_type": "code",
   "execution_count": 19,
   "id": "automatic-radiation",
   "metadata": {
    "ExecuteTime": {
     "end_time": "2021-07-14T08:08:56.761336Z",
     "start_time": "2021-07-14T08:08:56.745706Z"
    }
   },
   "outputs": [],
   "source": [
    "make_features(main_df)\n",
    "make_features(test_df)"
   ]
  },
  {
   "cell_type": "code",
   "execution_count": 20,
   "id": "progressive-establishment",
   "metadata": {
    "ExecuteTime": {
     "end_time": "2021-07-14T08:08:56.776061Z",
     "start_time": "2021-07-14T08:08:56.762099Z"
    }
   },
   "outputs": [],
   "source": [
    "def drop_columns(df):\n",
    "    columns_to_drop = ['PassengerId', 'Ticket','Name', 'Cabin', 'Embarked'] # 'Cabin', 'Embarked' maybe too\n",
    "    if 'Survived' in df.columns:\n",
    "        columns_to_drop.append('Survived')\n",
    "    df.drop(columns = columns_to_drop, inplace = True)\n",
    "#     columns_to_drop = ['SibSp', 'Parch', 'Fare']\n",
    "#     df.drop(columns = columns_to_drop, inplace = True)"
   ]
  },
  {
   "cell_type": "code",
   "execution_count": 21,
   "id": "moderate-technician",
   "metadata": {
    "ExecuteTime": {
     "end_time": "2021-07-14T08:08:56.792019Z",
     "start_time": "2021-07-14T08:08:56.777058Z"
    }
   },
   "outputs": [],
   "source": [
    "drop_columns(main_df)\n",
    "drop_columns(test_df)"
   ]
  },
  {
   "cell_type": "markdown",
   "id": "informational-stuart",
   "metadata": {},
   "source": [
    "## Data preprocessing"
   ]
  },
  {
   "cell_type": "code",
   "execution_count": 22,
   "id": "several-royalty",
   "metadata": {
    "ExecuteTime": {
     "end_time": "2021-07-14T08:08:56.807975Z",
     "start_time": "2021-07-14T08:08:56.793016Z"
    }
   },
   "outputs": [],
   "source": [
    "rand_state = 200"
   ]
  },
  {
   "cell_type": "code",
   "execution_count": 23,
   "id": "narrow-distribution",
   "metadata": {
    "ExecuteTime": {
     "end_time": "2021-07-14T08:08:56.823974Z",
     "start_time": "2021-07-14T08:08:56.811965Z"
    }
   },
   "outputs": [
    {
     "data": {
      "text/plain": [
       "Pclass               int64\n",
       "Sex                 object\n",
       "Age                float64\n",
       "SibSp                int64\n",
       "Parch                int64\n",
       "Fare               float64\n",
       "Title               object\n",
       "Family_Size          int64\n",
       "Fare_Per_Person    float64\n",
       "Age*Class          float64\n",
       "dtype: object"
      ]
     },
     "execution_count": 23,
     "metadata": {},
     "output_type": "execute_result"
    }
   ],
   "source": [
    "main_df.dtypes"
   ]
  },
  {
   "cell_type": "code",
   "execution_count": 24,
   "id": "social-folks",
   "metadata": {
    "ExecuteTime": {
     "end_time": "2021-07-14T08:08:56.845357Z",
     "start_time": "2021-07-14T08:08:56.823974Z"
    }
   },
   "outputs": [],
   "source": [
    "def make_obj_features(df):\n",
    "    obj_features = ['Pclass']\n",
    "    df[obj_features] = df[obj_features].astype('object')"
   ]
  },
  {
   "cell_type": "code",
   "execution_count": 25,
   "id": "tested-defensive",
   "metadata": {
    "ExecuteTime": {
     "end_time": "2021-07-14T08:08:56.860979Z",
     "start_time": "2021-07-14T08:08:56.845357Z"
    }
   },
   "outputs": [],
   "source": [
    "make_obj_features(test_df)\n",
    "make_obj_features(main_df)"
   ]
  },
  {
   "cell_type": "code",
   "execution_count": 26,
   "id": "pursuant-asthma",
   "metadata": {
    "ExecuteTime": {
     "end_time": "2021-07-14T08:08:56.865349Z",
     "start_time": "2021-07-14T08:08:56.860979Z"
    }
   },
   "outputs": [],
   "source": [
    "def encoding_columns(df):\n",
    "#     LE = LabelEncoder()\n",
    "#     for feature in df.select_dtypes(include = ['object']):\n",
    "#         df[feature] = LE.fit_transform(df[feature])\n",
    "    df = pd.get_dummies(df)\n",
    "    return df"
   ]
  },
  {
   "cell_type": "code",
   "execution_count": 27,
   "id": "unexpected-hammer",
   "metadata": {
    "ExecuteTime": {
     "end_time": "2021-07-14T08:08:56.889105Z",
     "start_time": "2021-07-14T08:08:56.865349Z"
    }
   },
   "outputs": [],
   "source": [
    "main_df = encoding_columns(main_df)\n",
    "test_df = encoding_columns(test_df)"
   ]
  },
  {
   "cell_type": "code",
   "execution_count": 28,
   "id": "compliant-family",
   "metadata": {
    "ExecuteTime": {
     "end_time": "2021-07-14T08:08:56.901945Z",
     "start_time": "2021-07-14T08:08:56.890518Z"
    }
   },
   "outputs": [
    {
     "name": "stdout",
     "output_type": "stream",
     "text": [
      "set()\n",
      "set()\n"
     ]
    }
   ],
   "source": [
    "main_df_columns = set(main_df.columns)\n",
    "test_df_columns = set(test_df.columns)\n",
    "print(main_df_columns.difference(test_df_columns))\n",
    "print(test_df_columns.difference(main_df_columns))"
   ]
  },
  {
   "cell_type": "code",
   "execution_count": 29,
   "id": "ruled-liberal",
   "metadata": {
    "ExecuteTime": {
     "end_time": "2021-07-14T08:08:56.906376Z",
     "start_time": "2021-07-14T08:08:56.901945Z"
    }
   },
   "outputs": [],
   "source": [
    "# main_df.drop(columns = ['Cabin_T'], inplace =True)"
   ]
  },
  {
   "cell_type": "code",
   "execution_count": 30,
   "id": "inside-captain",
   "metadata": {
    "ExecuteTime": {
     "end_time": "2021-07-14T08:08:56.927429Z",
     "start_time": "2021-07-14T08:08:56.906376Z"
    }
   },
   "outputs": [],
   "source": [
    "train_data, valid_data, train_value, valid_value  = train_test_split(main_df, Survived, test_size = 0.2, random_state = rand_state, shuffle = True)"
   ]
  },
  {
   "cell_type": "markdown",
   "id": "signed-little",
   "metadata": {},
   "source": [
    "# Some experiments before training in order to find out approximately which parameters are best"
   ]
  },
  {
   "cell_type": "code",
   "execution_count": 31,
   "id": "essential-gateway",
   "metadata": {
    "ExecuteTime": {
     "end_time": "2021-07-14T08:09:25.190442Z",
     "start_time": "2021-07-14T08:08:56.927429Z"
    }
   },
   "outputs": [
    {
     "name": "stdout",
     "output_type": "stream",
     "text": [
      "Max tree depth: 2\n",
      "Mean_cv_score: 0.8131882202304738\n",
      "Std_cv_score: 0.025517488554329594\n",
      "[0.82517483 0.81118881 0.84507042 0.81690141 0.76760563]\n",
      "Max tree depth: 3\n",
      "Mean_cv_score: 0.8356544863587118\n",
      "Std_cv_score: 0.01530679696581805\n",
      "[0.82517483 0.86013986 0.84507042 0.83098592 0.81690141]\n",
      "Max tree depth: 4\n",
      "Mean_cv_score: 0.8398798384713878\n",
      "Std_cv_score: 0.017522565223241707\n",
      "[0.83216783 0.85314685 0.86619718 0.83098592 0.81690141]\n",
      "Max tree depth: 5\n",
      "Mean_cv_score: 0.8384713877671626\n",
      "Std_cv_score: 0.01845484976892375\n",
      "[0.83916084 0.84615385 0.86619718 0.83098592 0.80985915]\n",
      "Max tree depth: 6\n",
      "Mean_cv_score: 0.8426967398798386\n",
      "Std_cv_score: 0.01700665658307255\n",
      "[0.83916084 0.84615385 0.87323944 0.83098592 0.82394366]\n",
      "Max tree depth: 7\n",
      "Mean_cv_score: 0.8426967398798386\n",
      "Std_cv_score: 0.01700665658307255\n",
      "[0.83916084 0.84615385 0.87323944 0.83098592 0.82394366]\n",
      "Max tree depth: 8\n",
      "Mean_cv_score: 0.8412882891756132\n",
      "Std_cv_score: 0.018707936103465512\n",
      "[0.83916084 0.84615385 0.87323944 0.83098592 0.81690141]\n",
      "Max tree depth: 9\n",
      "Mean_cv_score: 0.8426868905742145\n",
      "Std_cv_score: 0.015249912435590852\n",
      "[0.83916084 0.85314685 0.86619718 0.83098592 0.82394366]\n",
      "Max tree depth: 10\n",
      "Mean_cv_score: 0.8440953412784399\n",
      "Std_cv_score: 0.01751345023012672\n",
      "[0.83916084 0.85314685 0.87323944 0.83098592 0.82394366]\n",
      "Max tree depth: 11\n",
      "Mean_cv_score: 0.8440953412784399\n",
      "Std_cv_score: 0.01751345023012672\n",
      "[0.83916084 0.85314685 0.87323944 0.83098592 0.82394366]\n",
      "Max tree depth: 12\n",
      "Mean_cv_score: 0.8440953412784399\n",
      "Std_cv_score: 0.01751345023012672\n",
      "[0.83916084 0.85314685 0.87323944 0.83098592 0.82394366]\n",
      "Max tree depth: 13\n",
      "Mean_cv_score: 0.8440953412784399\n",
      "Std_cv_score: 0.01751345023012672\n",
      "[0.83916084 0.85314685 0.87323944 0.83098592 0.82394366]\n",
      "Max tree depth: 14\n",
      "Mean_cv_score: 0.8440953412784399\n",
      "Std_cv_score: 0.01751345023012672\n",
      "[0.83916084 0.85314685 0.87323944 0.83098592 0.82394366]\n",
      "Max tree depth: 15\n",
      "Mean_cv_score: 0.8440953412784399\n",
      "Std_cv_score: 0.01751345023012672\n",
      "[0.83916084 0.85314685 0.87323944 0.83098592 0.82394366]\n",
      "Max tree depth: 16\n",
      "Mean_cv_score: 0.8440953412784399\n",
      "Std_cv_score: 0.01751345023012672\n",
      "[0.83916084 0.85314685 0.87323944 0.83098592 0.82394366]\n",
      "Max tree depth: 17\n",
      "Mean_cv_score: 0.8440953412784399\n",
      "Std_cv_score: 0.01751345023012672\n",
      "[0.83916084 0.85314685 0.87323944 0.83098592 0.82394366]\n",
      "Max tree depth: 18\n",
      "Mean_cv_score: 0.8440953412784399\n",
      "Std_cv_score: 0.01751345023012672\n",
      "[0.83916084 0.85314685 0.87323944 0.83098592 0.82394366]\n",
      "Max tree depth: 19\n",
      "Mean_cv_score: 0.8440953412784399\n",
      "Std_cv_score: 0.01751345023012672\n",
      "[0.83916084 0.85314685 0.87323944 0.83098592 0.82394366]\n",
      "Max tree depth: 20\n",
      "Mean_cv_score: 0.8440953412784399\n",
      "Std_cv_score: 0.01751345023012672\n",
      "[0.83916084 0.85314685 0.87323944 0.83098592 0.82394366]\n",
      "Max tree depth: 21\n",
      "Mean_cv_score: 0.8440953412784399\n",
      "Std_cv_score: 0.01751345023012672\n",
      "[0.83916084 0.85314685 0.87323944 0.83098592 0.82394366]\n",
      "Max tree depth: 22\n",
      "Mean_cv_score: 0.8440953412784399\n",
      "Std_cv_score: 0.01751345023012672\n",
      "[0.83916084 0.85314685 0.87323944 0.83098592 0.82394366]\n",
      "Max tree depth: 23\n",
      "Mean_cv_score: 0.8440953412784399\n",
      "Std_cv_score: 0.01751345023012672\n",
      "[0.83916084 0.85314685 0.87323944 0.83098592 0.82394366]\n",
      "Max tree depth: 24\n",
      "Mean_cv_score: 0.8440953412784399\n",
      "Std_cv_score: 0.01751345023012672\n",
      "[0.83916084 0.85314685 0.87323944 0.83098592 0.82394366]\n"
     ]
    }
   ],
   "source": [
    "mean_cv_scores = []\n",
    "std_cv_scores = []\n",
    "tree_depths = []\n",
    "n_depth_range = 25\n",
    "for i in range(2,n_depth_range):\n",
    "    rf_clsfr = RandomForestClassifier(n_estimators = 200, max_depth = i, min_samples_split = 10, \n",
    "                             min_samples_leaf = 5, random_state = rand_state, max_samples = 200)\n",
    "    cv_scores = cross_val_score(rf_clsfr, train_data, train_value, cv = 5)\n",
    "    mean_score = cv_scores.mean()\n",
    "    std_score = cv_scores.std()\n",
    "    mean_cv_scores.append(mean_score)\n",
    "    tree_depths.append(i)\n",
    "    std_cv_scores.append(std_score)\n",
    "    print(\"Max tree depth: {}\".format(i))\n",
    "    print(\"Mean_cv_score: {}\".format(mean_score))\n",
    "    print(\"Std_cv_score: {}\".format(std_score))\n",
    "    \n",
    "    print(cv_scores)"
   ]
  },
  {
   "cell_type": "code",
   "execution_count": 32,
   "id": "prepared-married",
   "metadata": {
    "ExecuteTime": {
     "end_time": "2021-07-14T08:09:25.363124Z",
     "start_time": "2021-07-14T08:09:25.191580Z"
    }
   },
   "outputs": [
    {
     "data": {
      "text/plain": [
       "[<matplotlib.lines.Line2D at 0x276e4563760>]"
      ]
     },
     "execution_count": 32,
     "metadata": {},
     "output_type": "execute_result"
    },
    {
     "data": {
      "image/png": "[encoded data removed]",
      "text/plain": [
       "<Figure size 432x288 with 1 Axes>"
      ]
     },
     "metadata": {
      "needs_background": "light"
     },
     "output_type": "display_data"
    }
   ],
   "source": [
    "plt.xlabel(\"tree_depth\")\n",
    "plt.ylabel(\"std cv_score\")\n",
    "plt.title(\"Dependency between a Cross Validation's Standard Deviation score and a tree's depth\")\n",
    "plt.plot(tree_depths, std_cv_scores)"
   ]
  },
  {
   "cell_type": "code",
   "execution_count": 33,
   "id": "ideal-ethiopia",
   "metadata": {
    "ExecuteTime": {
     "end_time": "2021-07-14T08:09:25.584533Z",
     "start_time": "2021-07-14T08:09:25.366124Z"
    }
   },
   "outputs": [
    {
     "data": {
      "text/plain": [
       "[<matplotlib.lines.Line2D at 0x276e469e220>]"
      ]
     },
     "execution_count": 33,
     "metadata": {},
     "output_type": "execute_result"
    },
    {
     "data": {
      "image/png": "[encoded data removed]",
      "text/plain": [
       "<Figure size 432x288 with 1 Axes>"
      ]
     },
     "metadata": {
      "needs_background": "light"
     },
     "output_type": "display_data"
    }
   ],
   "source": [
    "plt.xlabel(\"tree_depth\")\n",
    "plt.ylabel(\"mean cv_score\")\n",
    "plt.title(\"Dependency between a Cross Validation' mean score and a tree's depth\")\n",
    "plt.plot(tree_depths, mean_cv_scores)"
   ]
  },
  {
   "cell_type": "markdown",
   "id": "gothic-oakland",
   "metadata": {},
   "source": [
    "So we may choose depth = 15 as optimal one"
   ]
  },
  {
   "cell_type": "markdown",
   "id": "mature-france",
   "metadata": {},
   "source": [
    "## Building and train a RandomForest Model"
   ]
  },
  {
   "cell_type": "code",
   "execution_count": 34,
   "id": "legal-myanmar",
   "metadata": {
    "ExecuteTime": {
     "end_time": "2021-07-14T08:09:25.600490Z",
     "start_time": "2021-07-14T08:09:25.587525Z"
    }
   },
   "outputs": [],
   "source": [
    "# 'max_samples': [200, 300, 400, 500]"
   ]
  },
  {
   "cell_type": "code",
   "execution_count": 35,
   "id": "favorite-glass",
   "metadata": {
    "ExecuteTime": {
     "end_time": "2021-07-14T08:09:25.616446Z",
     "start_time": "2021-07-14T08:09:25.603482Z"
    }
   },
   "outputs": [],
   "source": [
    "def get_random_forest_model():\n",
    "    tuned_parameters = [{'n_estimators': [300, 500, 1000],\n",
    "                        'max_samples': [200, 300, 500]}]\n",
    "    # min_samples_split = 6, min_samples_leaf = 2\n",
    "    # RFC = RandomForestClassifier(n_estimators = 100, max_depth = 3, min_samples_split = 10, min_samples_leaf = 5, random_state = rand_state, max_samples = 200)\n",
    "    Random_Forest = RandomForestClassifier(random_state = rand_state, max_depth = 19,\n",
    "                                           criterion = 'entropy', min_samples_split = 10, min_samples_leaf = 5)\n",
    "    RFC = GridSearchCV(Random_Forest, tuned_parameters)\n",
    "    return RFC"
   ]
  },
  {
   "cell_type": "code",
   "execution_count": 36,
   "id": "synthetic-tomato",
   "metadata": {
    "ExecuteTime": {
     "end_time": "2021-07-14T08:10:00.900725Z",
     "start_time": "2021-07-14T08:09:25.618442Z"
    }
   },
   "outputs": [
    {
     "data": {
      "text/plain": [
       "GridSearchCV(estimator=RandomForestClassifier(criterion='entropy', max_depth=19,\n",
       "                                              min_samples_leaf=5,\n",
       "                                              min_samples_split=10,\n",
       "                                              random_state=200),\n",
       "             param_grid=[{'max_samples': [200, 300, 500],\n",
       "                          'n_estimators': [300, 500, 1000]}])"
      ]
     },
     "execution_count": 36,
     "metadata": {},
     "output_type": "execute_result"
    }
   ],
   "source": [
    "RFC = get_random_forest_model()\n",
    "RFC.fit(train_data, train_value)"
   ]
  },
  {
   "cell_type": "markdown",
   "id": "contrary-display",
   "metadata": {},
   "source": [
    "## Building a Gradient Boostring ML model"
   ]
  },
  {
   "cell_type": "code",
   "execution_count": 37,
   "id": "infrared-block",
   "metadata": {
    "ExecuteTime": {
     "end_time": "2021-07-14T08:10:00.916663Z",
     "start_time": "2021-07-14T08:10:00.901702Z"
    }
   },
   "outputs": [],
   "source": [
    "def get_gradient_boosting_model():\n",
    "    tuned_parameters = [{'n_estimators': [100, 200, 300, 500],\n",
    "                        'max_depth': [5, 7, 9]}]\n",
    "    Gradient_Boosting = GradientBoostingClassifier(random_state = rand_state, min_samples_split = 10,\n",
    "                                                   min_samples_leaf = 5, max_features = 'sqrt', learning_rate = 0.01)\n",
    "    GBC = GridSearchCV(Gradient_Boosting, tuned_parameters)\n",
    "    return GBC"
   ]
  },
  {
   "cell_type": "code",
   "execution_count": 38,
   "id": "annoying-supply",
   "metadata": {
    "ExecuteTime": {
     "end_time": "2021-07-14T08:10:23.769458Z",
     "start_time": "2021-07-14T08:10:00.917659Z"
    }
   },
   "outputs": [
    {
     "data": {
      "text/plain": [
       "GridSearchCV(estimator=GradientBoostingClassifier(learning_rate=0.01,\n",
       "                                                  max_features='sqrt',\n",
       "                                                  min_samples_leaf=5,\n",
       "                                                  min_samples_split=10,\n",
       "                                                  random_state=200),\n",
       "             param_grid=[{'max_depth': [5, 7, 9],\n",
       "                          'n_estimators': [100, 200, 300, 500]}])"
      ]
     },
     "execution_count": 38,
     "metadata": {},
     "output_type": "execute_result"
    }
   ],
   "source": [
    "GBC = get_gradient_boosting_model()\n",
    "GBC.fit(train_data, train_value)"
   ]
  },
  {
   "cell_type": "markdown",
   "id": "thirty-exemption",
   "metadata": {},
   "source": [
    "## Wriring results to the CSV file submission"
   ]
  },
  {
   "cell_type": "code",
   "execution_count": 39,
   "id": "provincial-synthetic",
   "metadata": {
    "ExecuteTime": {
     "end_time": "2021-07-14T08:10:23.784863Z",
     "start_time": "2021-07-14T08:10:23.770459Z"
    }
   },
   "outputs": [],
   "source": [
    "def make_csv_sub(df, PassengerID, rfc_classifier, filename):\n",
    "    test_predictions = rfc_classifier.predict(df)\n",
    "    submit_df = pd.DataFrame({\"PassengerID\": PassengerID, \"Survived\": test_predictions})\n",
    "    submit_df.to_csv(filename, index = False)"
   ]
  },
  {
   "cell_type": "code",
   "execution_count": 40,
   "id": "herbal-program",
   "metadata": {
    "ExecuteTime": {
     "end_time": "2021-07-14T08:10:23.927716Z",
     "start_time": "2021-07-14T08:10:23.786860Z"
    }
   },
   "outputs": [],
   "source": [
    "make_csv_sub(test_df, PassengerID, RFC, 'gener_submission_rfc.csv')\n",
    "make_csv_sub(test_df, PassengerID, GBC, 'gener_submission_gbc.csv')\n",
    "# value_predicted = RFC.predict(valid_data)"
   ]
  },
  {
   "cell_type": "markdown",
   "id": "deluxe-syndication",
   "metadata": {},
   "source": [
    "## PostHoc Analysis"
   ]
  },
  {
   "cell_type": "code",
   "execution_count": 41,
   "id": "exterior-macedonia",
   "metadata": {
    "ExecuteTime": {
     "end_time": "2021-07-14T08:10:23.943726Z",
     "start_time": "2021-07-14T08:10:23.928713Z"
    }
   },
   "outputs": [],
   "source": [
    "def get_feature_importance_df(train_data, ml_model):\n",
    "    feature_imp_df = pd.DataFrame({'Feature': train_data.columns , 'Importance':ml_model.best_estimator_.feature_importances_ })\n",
    "    feature_imp_df = feature_imp_df.sort_values('Importance', ascending = False)\n",
    "    return feature_imp_df"
   ]
  },
  {
   "cell_type": "code",
   "execution_count": 42,
   "id": "great-strip",
   "metadata": {
    "ExecuteTime": {
     "end_time": "2021-07-14T08:10:23.959816Z",
     "start_time": "2021-07-14T08:10:23.944723Z"
    }
   },
   "outputs": [],
   "source": [
    "def make_metrics_report(y_test, y_pred):\n",
    "    print(classification_report(y_test,y_pred))\n",
    "    print(\"Accuracy score: {}\".format(accuracy_score(y_test, y_pred)))\n",
    "    print(\"ROC-AUC score: {}\".format(roc_auc_score(y_test, y_pred)))"
   ]
  },
  {
   "cell_type": "code",
   "execution_count": 43,
   "id": "listed-event",
   "metadata": {
    "ExecuteTime": {
     "end_time": "2021-07-14T08:10:23.974983Z",
     "start_time": "2021-07-14T08:10:23.960818Z"
    }
   },
   "outputs": [],
   "source": [
    "def make_feature_importance_report(df, ml_model_name):\n",
    "    print(\"ML model name: {} \\n\".format(ml_model_name))\n",
    "    print(df)\n",
    "    sns.barplot(x = df['Importance'], y = df['Feature'] )"
   ]
  },
  {
   "cell_type": "code",
   "execution_count": 44,
   "id": "configured-sunrise",
   "metadata": {
    "ExecuteTime": {
     "end_time": "2021-07-14T08:10:23.990338Z",
     "start_time": "2021-07-14T08:10:23.976982Z"
    }
   },
   "outputs": [],
   "source": [
    "def make_post_hoc_report(ml_model, valid_data, valid_value, ml_model_name):\n",
    "    print(\"ML model name: {} \\n\".format(ml_model_name))\n",
    "    print(\"ML_model parameters: \\n\\n {} \\n\".format(ml_model.best_estimator_.get_params()))\n",
    "    plot_confusion_matrix(ml_model, valid_data, valid_value)\n",
    "    value_predicted = ml_model.predict(valid_data)\n",
    "    make_metrics_report(valid_value, value_predicted)"
   ]
  },
  {
   "cell_type": "code",
   "execution_count": 45,
   "id": "thorough-destiny",
   "metadata": {
    "ExecuteTime": {
     "end_time": "2021-07-14T08:10:24.132087Z",
     "start_time": "2021-07-14T08:10:23.990957Z"
    }
   },
   "outputs": [],
   "source": [
    "feature_imp_df_rfc = get_feature_importance_df(train_data, RFC)\n",
    "feature_imp_df_gbc = get_feature_importance_df(train_data, RFC)"
   ]
  },
  {
   "cell_type": "code",
   "execution_count": 46,
   "id": "complicated-vulnerability",
   "metadata": {
    "ExecuteTime": {
     "end_time": "2021-07-14T08:10:24.306517Z",
     "start_time": "2021-07-14T08:10:24.133087Z"
    }
   },
   "outputs": [
    {
     "name": "stdout",
     "output_type": "stream",
     "text": [
      "ML model name: GradientBoostingClassifier\n",
      "ML_model parameters: \n",
      "\n",
      " {'ccp_alpha': 0.0, 'criterion': 'friedman_mse', 'init': None, 'learning_rate': 0.01, 'loss': 'deviance', 'max_depth': 9, 'max_features': 'sqrt', 'max_leaf_nodes': None, 'min_impurity_decrease': 0.0, 'min_impurity_split': None, 'min_samples_leaf': 5, 'min_samples_split': 10, 'min_weight_fraction_leaf': 0.0, 'n_estimators': 200, 'n_iter_no_change': None, 'random_state': 200, 'subsample': 1.0, 'tol': 0.0001, 'validation_fraction': 0.1, 'verbose': 0, 'warm_start': False} \n",
      "\n",
      "              precision    recall  f1-score   support\n",
      "\n",
      "           0       0.77      0.88      0.82       104\n",
      "           1       0.79      0.64      0.71        75\n",
      "\n",
      "    accuracy                           0.78       179\n",
      "   macro avg       0.78      0.76      0.76       179\n",
      "weighted avg       0.78      0.78      0.77       179\n",
      "\n",
      "Accuracy score: 0.776536312849162\n",
      "ROC-AUC score: 0.7575000000000001\n"
     ]
    },
    {
     "data": {
      "image/png": "[encoded data removed]",
      "text/plain": [
       "<Figure size 432x288 with 2 Axes>"
      ]
     },
     "metadata": {
      "needs_background": "light"
     },
     "output_type": "display_data"
    }
   ],
   "source": [
    "make_post_hoc_report(GBC, valid_data, valid_value, \"GradientBoostingClassifier\")"
   ]
  },
  {
   "cell_type": "code",
   "execution_count": 47,
   "id": "finished-elevation",
   "metadata": {
    "ExecuteTime": {
     "end_time": "2021-07-14T08:10:24.670661Z",
     "start_time": "2021-07-14T08:10:24.307514Z"
    }
   },
   "outputs": [
    {
     "name": "stdout",
     "output_type": "stream",
     "text": [
      "ML model name: RandomForestClassifier\n",
      "ML_model parameters: \n",
      "\n",
      " {'bootstrap': True, 'ccp_alpha': 0.0, 'class_weight': None, 'criterion': 'entropy', 'max_depth': 19, 'max_features': 'auto', 'max_leaf_nodes': None, 'max_samples': 500, 'min_impurity_decrease': 0.0, 'min_impurity_split': None, 'min_samples_leaf': 5, 'min_samples_split': 10, 'min_weight_fraction_leaf': 0.0, 'n_estimators': 1000, 'n_jobs': None, 'oob_score': False, 'random_state': 200, 'verbose': 0, 'warm_start': False} \n",
      "\n",
      "              precision    recall  f1-score   support\n",
      "\n",
      "           0       0.76      0.84      0.80       104\n",
      "           1       0.74      0.64      0.69        75\n",
      "\n",
      "    accuracy                           0.75       179\n",
      "   macro avg       0.75      0.74      0.74       179\n",
      "weighted avg       0.75      0.75      0.75       179\n",
      "\n",
      "Accuracy score: 0.7541899441340782\n",
      "ROC-AUC score: 0.7382692307692308\n"
     ]
    },
    {
     "data": {
      "image/png": "[encoded data removed]",
      "text/plain": [
       "<Figure size 432x288 with 2 Axes>"
      ]
     },
     "metadata": {
      "needs_background": "light"
     },
     "output_type": "display_data"
    }
   ],
   "source": [
    "make_post_hoc_report(RFC, valid_data, valid_value, 'RandomForestClassifier')"
   ]
  },
  {
   "cell_type": "code",
   "execution_count": 48,
   "id": "transsexual-saudi",
   "metadata": {
    "ExecuteTime": {
     "end_time": "2021-07-14T08:10:24.909758Z",
     "start_time": "2021-07-14T08:10:24.671657Z"
    }
   },
   "outputs": [
    {
     "name": "stdout",
     "output_type": "stream",
     "text": [
      "ML model name: RandomForestClassifier\n",
      "            Feature  Importance\n",
      "14         Title_Mr    0.164311\n",
      "5   Fare_Per_Person    0.127979\n",
      "11         Sex_male    0.103874\n",
      "6         Age*Class    0.102988\n",
      "3              Fare    0.102908\n",
      "10       Sex_female    0.099444\n",
      "0               Age    0.070399\n",
      "9          Pclass_3    0.050762\n",
      "4       Family_Size    0.047788\n",
      "13       Title_Miss    0.033206\n",
      "1             SibSp    0.026720\n",
      "7          Pclass_1    0.021614\n",
      "15        Title_Mrs    0.013373\n",
      "8          Pclass_2    0.012724\n",
      "12     Title_Master    0.011036\n",
      "2             Parch    0.010874\n"
     ]
    },
    {
     "data": {
      "image/png": "[encoded data removed]",
      "text/plain": [
       "<Figure size 432x288 with 1 Axes>"
      ]
     },
     "metadata": {
      "needs_background": "light"
     },
     "output_type": "display_data"
    }
   ],
   "source": [
    "make_feature_importance_report(feature_imp_df_rfc, \"RandomForestClassifier\")"
   ]
  },
  {
   "cell_type": "code",
   "execution_count": 49,
   "id": "impaired-tomorrow",
   "metadata": {
    "ExecuteTime": {
     "end_time": "2021-07-14T08:10:25.149117Z",
     "start_time": "2021-07-14T08:10:24.910756Z"
    }
   },
   "outputs": [
    {
     "name": "stdout",
     "output_type": "stream",
     "text": [
      "ML model name: GradientBoostingClassifier\n",
      "            Feature  Importance\n",
      "14         Title_Mr    0.164311\n",
      "5   Fare_Per_Person    0.127979\n",
      "11         Sex_male    0.103874\n",
      "6         Age*Class    0.102988\n",
      "3              Fare    0.102908\n",
      "10       Sex_female    0.099444\n",
      "0               Age    0.070399\n",
      "9          Pclass_3    0.050762\n",
      "4       Family_Size    0.047788\n",
      "13       Title_Miss    0.033206\n",
      "1             SibSp    0.026720\n",
      "7          Pclass_1    0.021614\n",
      "15        Title_Mrs    0.013373\n",
      "8          Pclass_2    0.012724\n",
      "12     Title_Master    0.011036\n",
      "2             Parch    0.010874\n"
     ]
    },
    {
     "data": {
      "image/png": "[encoded data removed]",
      "text/plain": [
       "<Figure size 432x288 with 1 Axes>"
      ]
     },
     "metadata": {
      "needs_background": "light"
     },
     "output_type": "display_data"
    }
   ],
   "source": [
    "make_feature_importance_report(feature_imp_df_gbc, 'GradientBoostingClassifier')"
   ]
  },
  {
   "cell_type": "markdown",
   "id": "structured-nothing",
   "metadata": {},
   "source": [
    "# Make new model based on the knowledge of the feature importance"
   ]
  },
  {
   "cell_type": "markdown",
   "id": "modified-protocol",
   "metadata": {},
   "source": [
    "## a new random forest"
   ]
  },
  {
   "cell_type": "code",
   "execution_count": 50,
   "id": "acquired-greene",
   "metadata": {
    "ExecuteTime": {
     "end_time": "2021-07-14T08:10:25.165074Z",
     "start_time": "2021-07-14T08:10:25.150115Z"
    }
   },
   "outputs": [],
   "source": [
    "def get_dfs_with_most_important_features(test_df, feature_imp_df, N_features):\n",
    "    print(\"Number of features total: {}\".format(len(train_data.columns)))\n",
    "    print(\"Number of features selected: {}\".format(N_features))\n",
    "    selected_imp_features = feature_imp_df['Feature'][:N_features].to_list()\n",
    "    test_df_most_imp = test_df[selected_imp_features]\n",
    "    main_df_most_imp = main_df[selected_imp_features]\n",
    "    return test_df_most_imp, main_df_most_imp"
   ]
  },
  {
   "cell_type": "code",
   "execution_count": 51,
   "id": "dutch-ability",
   "metadata": {
    "ExecuteTime": {
     "end_time": "2021-07-14T08:10:25.181033Z",
     "start_time": "2021-07-14T08:10:25.166072Z"
    }
   },
   "outputs": [
    {
     "name": "stdout",
     "output_type": "stream",
     "text": [
      "Number of features total: 16\n",
      "Number of features selected: 8\n"
     ]
    }
   ],
   "source": [
    "test_df_most_imp, main_df_most_imp = get_dfs_with_most_important_features(test_df, feature_imp_df_rfc, 8)"
   ]
  },
  {
   "cell_type": "code",
   "execution_count": 52,
   "id": "industrial-sentence",
   "metadata": {
    "ExecuteTime": {
     "end_time": "2021-07-14T08:10:25.196990Z",
     "start_time": "2021-07-14T08:10:25.182029Z"
    }
   },
   "outputs": [],
   "source": [
    "train_data, valid_data, train_value, valid_value  = train_test_split(main_df_most_imp, Survived, test_size = 0.2, random_state = rand_state, shuffle = True)"
   ]
  },
  {
   "cell_type": "code",
   "execution_count": 53,
   "id": "addressed-bread",
   "metadata": {
    "ExecuteTime": {
     "end_time": "2021-07-14T08:10:25.212949Z",
     "start_time": "2021-07-14T08:10:25.197986Z"
    }
   },
   "outputs": [],
   "source": [
    "RFC_new = get_random_forest_model()"
   ]
  },
  {
   "cell_type": "code",
   "execution_count": 54,
   "id": "norwegian-horse",
   "metadata": {
    "ExecuteTime": {
     "end_time": "2021-07-14T08:10:59.141124Z",
     "start_time": "2021-07-14T08:10:25.213946Z"
    }
   },
   "outputs": [
    {
     "data": {
      "text/plain": [
       "GridSearchCV(estimator=RandomForestClassifier(criterion='entropy', max_depth=19,\n",
       "                                              min_samples_leaf=5,\n",
       "                                              min_samples_split=10,\n",
       "                                              random_state=200),\n",
       "             param_grid=[{'max_samples': [200, 300, 500],\n",
       "                          'n_estimators': [300, 500, 1000]}])"
      ]
     },
     "execution_count": 54,
     "metadata": {},
     "output_type": "execute_result"
    }
   ],
   "source": [
    "RFC_new.fit(train_data, train_value)"
   ]
  },
  {
   "cell_type": "code",
   "execution_count": 55,
   "id": "liable-starter",
   "metadata": {
    "ExecuteTime": {
     "end_time": "2021-07-14T08:10:59.410264Z",
     "start_time": "2021-07-14T08:10:59.143119Z"
    }
   },
   "outputs": [
    {
     "name": "stdout",
     "output_type": "stream",
     "text": [
      "ML model name: RandomForestClassifier\n",
      "ML_model parameters: \n",
      "\n",
      " {'bootstrap': True, 'ccp_alpha': 0.0, 'class_weight': None, 'criterion': 'entropy', 'max_depth': 19, 'max_features': 'auto', 'max_leaf_nodes': None, 'max_samples': 500, 'min_impurity_decrease': 0.0, 'min_impurity_split': None, 'min_samples_leaf': 5, 'min_samples_split': 10, 'min_weight_fraction_leaf': 0.0, 'n_estimators': 500, 'n_jobs': None, 'oob_score': False, 'random_state': 200, 'verbose': 0, 'warm_start': False} \n",
      "\n",
      "              precision    recall  f1-score   support\n",
      "\n",
      "           0       0.76      0.87      0.81       104\n",
      "           1       0.77      0.63      0.69        75\n",
      "\n",
      "    accuracy                           0.77       179\n",
      "   macro avg       0.77      0.75      0.75       179\n",
      "weighted avg       0.77      0.77      0.76       179\n",
      "\n",
      "Accuracy score: 0.7653631284916201\n",
      "ROC-AUC score: 0.7460256410256411\n"
     ]
    },
    {
     "data": {
      "image/png": "[encoded data removed]",
      "text/plain": [
       "<Figure size 432x288 with 2 Axes>"
      ]
     },
     "metadata": {
      "needs_background": "light"
     },
     "output_type": "display_data"
    }
   ],
   "source": [
    "make_post_hoc_report(RFC_new, valid_data, valid_value, 'RandomForestClassifier')"
   ]
  },
  {
   "cell_type": "code",
   "execution_count": 56,
   "id": "south-church",
   "metadata": {
    "ExecuteTime": {
     "end_time": "2021-07-14T08:10:59.489429Z",
     "start_time": "2021-07-14T08:10:59.413253Z"
    }
   },
   "outputs": [],
   "source": [
    "make_csv_sub(test_df_most_imp, PassengerID, RFC_new, 'gender_submission_rfc_new.csv')"
   ]
  },
  {
   "cell_type": "markdown",
   "id": "promotional-technique",
   "metadata": {},
   "source": [
    "## a new gradient boosting classificator"
   ]
  },
  {
   "cell_type": "code",
   "execution_count": 57,
   "id": "substantial-undergraduate",
   "metadata": {
    "ExecuteTime": {
     "end_time": "2021-07-14T08:10:59.505391Z",
     "start_time": "2021-07-14T08:10:59.492426Z"
    }
   },
   "outputs": [
    {
     "name": "stdout",
     "output_type": "stream",
     "text": [
      "Number of features total: 8\n",
      "Number of features selected: 7\n"
     ]
    }
   ],
   "source": [
    "test_df_most_imp, main_df_most_imp = get_dfs_with_most_important_features(test_df, feature_imp_df_gbc, 7)"
   ]
  },
  {
   "cell_type": "code",
   "execution_count": 58,
   "id": "dedicated-boutique",
   "metadata": {
    "ExecuteTime": {
     "end_time": "2021-07-14T08:10:59.521348Z",
     "start_time": "2021-07-14T08:10:59.507401Z"
    }
   },
   "outputs": [],
   "source": [
    "train_data, valid_data, train_value, valid_value  = train_test_split(main_df_most_imp, Survived, test_size = 0.2, random_state = rand_state, shuffle = True)"
   ]
  },
  {
   "cell_type": "code",
   "execution_count": 59,
   "id": "hired-class",
   "metadata": {
    "ExecuteTime": {
     "end_time": "2021-07-14T08:11:25.312375Z",
     "start_time": "2021-07-14T08:10:59.522345Z"
    }
   },
   "outputs": [
    {
     "data": {
      "text/plain": [
       "GridSearchCV(estimator=GradientBoostingClassifier(learning_rate=0.01,\n",
       "                                                  max_features='sqrt',\n",
       "                                                  min_samples_leaf=5,\n",
       "                                                  min_samples_split=10,\n",
       "                                                  random_state=200),\n",
       "             param_grid=[{'max_depth': [5, 7, 9],\n",
       "                          'n_estimators': [100, 200, 300, 500]}])"
      ]
     },
     "execution_count": 59,
     "metadata": {},
     "output_type": "execute_result"
    }
   ],
   "source": [
    "GBC_new = get_gradient_boosting_model()\n",
    "GBC_new.fit(train_data, train_value)"
   ]
  },
  {
   "cell_type": "code",
   "execution_count": 60,
   "id": "fatty-cleaners",
   "metadata": {
    "ExecuteTime": {
     "end_time": "2021-07-14T08:11:25.519122Z",
     "start_time": "2021-07-14T08:11:25.314373Z"
    }
   },
   "outputs": [
    {
     "name": "stdout",
     "output_type": "stream",
     "text": [
      "ML model name: GradientBoostingClassifier\n",
      "ML_model parameters: \n",
      "\n",
      " {'ccp_alpha': 0.0, 'criterion': 'friedman_mse', 'init': None, 'learning_rate': 0.01, 'loss': 'deviance', 'max_depth': 7, 'max_features': 'sqrt', 'max_leaf_nodes': None, 'min_impurity_decrease': 0.0, 'min_impurity_split': None, 'min_samples_leaf': 5, 'min_samples_split': 10, 'min_weight_fraction_leaf': 0.0, 'n_estimators': 300, 'n_iter_no_change': None, 'random_state': 200, 'subsample': 1.0, 'tol': 0.0001, 'validation_fraction': 0.1, 'verbose': 0, 'warm_start': False} \n",
      "\n",
      "              precision    recall  f1-score   support\n",
      "\n",
      "           0       0.76      0.87      0.81       104\n",
      "           1       0.77      0.63      0.69        75\n",
      "\n",
      "    accuracy                           0.77       179\n",
      "   macro avg       0.77      0.75      0.75       179\n",
      "weighted avg       0.77      0.77      0.76       179\n",
      "\n",
      "Accuracy score: 0.7653631284916201\n",
      "ROC-AUC score: 0.7460256410256411\n"
     ]
    },
    {
     "data": {
      "image/png": "[encoded data removed]",
      "text/plain": [
       "<Figure size 432x288 with 2 Axes>"
      ]
     },
     "metadata": {
      "needs_background": "light"
     },
     "output_type": "display_data"
    }
   ],
   "source": [
    "make_post_hoc_report(GBC_new, valid_data, valid_value, 'GradientBoostingClassifier')"
   ]
  },
  {
   "cell_type": "code",
   "execution_count": 61,
   "id": "certain-bibliography",
   "metadata": {
    "ExecuteTime": {
     "end_time": "2021-07-14T08:11:25.535079Z",
     "start_time": "2021-07-14T08:11:25.520118Z"
    }
   },
   "outputs": [],
   "source": [
    "make_csv_sub(test_df_most_imp, PassengerID, GBC_new, 'gender_submission_gbc_new.csv')"
   ]
  }
 ],
 "metadata": {
  "kernelspec": {
   "display_name": "MainEnv",
   "language": "python",
   "name": "mainenv"
  },
  "language_info": {
   "codemirror_mode": {
    "name": "ipython",
    "version": 3
   },
   "file_extension": ".py",
   "mimetype": "text/x-python",
   "name": "python",
   "nbconvert_exporter": "python",
   "pygments_lexer": "ipython3",
   "version": "3.8.7"
  }
 },
 "nbformat": 4,
 "nbformat_minor": 5
}
