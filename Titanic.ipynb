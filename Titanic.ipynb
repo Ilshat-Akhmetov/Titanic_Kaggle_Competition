{
 "cells": [
  {
   "cell_type": "code",
   "execution_count": 1,
   "id": "simple-carroll",
   "metadata": {
    "ExecuteTime": {
     "end_time": "2022-10-28T03:20:06.654997Z",
     "start_time": "2022-10-28T03:20:04.840490Z"
    }
   },
   "outputs": [],
   "source": [
    "import pandas as pd\n",
    "import numpy as np\n",
    "\n",
    "import matplotlib.pyplot as plt\n",
    "import seaborn as sns\n",
    "\n",
    "import re\n",
    "\n",
    "from sklearn.preprocessing import StandardScaler                           \n",
    "from sklearn.linear_model import LogisticRegression\n",
    "from sklearn.ensemble import RandomForestClassifier\n",
    "from sklearn.model_selection import train_test_split, GridSearchCV, cross_val_score\n",
    "from sklearn.preprocessing import LabelEncoder\n",
    "from sklearn.metrics import (classification_report, \n",
    "                             plot_confusion_matrix, \n",
    "                             accuracy_score, \n",
    "                             auc,\n",
    "                             precision_recall_curve,\n",
    "                             roc_auc_score)\n",
    "\n",
    "import warnings\n",
    "warnings.filterwarnings('ignore')\n",
    "\n",
    "import scipy.stats as sps\n",
    "\n",
    "rand_state = 9789#9789#555#115"
   ]
  },
  {
   "cell_type": "markdown",
   "id": "simplified-experiment",
   "metadata": {},
   "source": [
    "# Data overview"
   ]
  },
  {
   "cell_type": "code",
   "execution_count": 2,
   "id": "great-entity",
   "metadata": {
    "ExecuteTime": {
     "end_time": "2022-10-28T03:20:06.686415Z",
     "start_time": "2022-10-28T03:20:06.654997Z"
    }
   },
   "outputs": [],
   "source": [
    "main_df = pd.read_csv(\"train.csv\")\n",
    "test_df = pd.read_csv(\"test.csv\")\n",
    "PassengerID = test_df['PassengerId']\n",
    "Survived = main_df['Survived']"
   ]
  },
  {
   "cell_type": "code",
   "execution_count": 3,
   "id": "minute-chest",
   "metadata": {
    "ExecuteTime": {
     "end_time": "2022-10-28T03:20:06.720257Z",
     "start_time": "2022-10-28T03:20:06.689382Z"
    }
   },
   "outputs": [
    {
     "data": {
      "text/html": [
       "<div>\n",
       "<style scoped>\n",
       "    .dataframe tbody tr th:only-of-type {\n",
       "        vertical-align: middle;\n",
       "    }\n",
       "\n",
       "    .dataframe tbody tr th {\n",
       "        vertical-align: top;\n",
       "    }\n",
       "\n",
       "    .dataframe thead th {\n",
       "        text-align: right;\n",
       "    }\n",
       "</style>\n",
       "<table border=\"1\" class=\"dataframe\">\n",
       "  <thead>\n",
       "    <tr style=\"text-align: right;\">\n",
       "      <th></th>\n",
       "      <th>PassengerId</th>\n",
       "      <th>Survived</th>\n",
       "      <th>Pclass</th>\n",
       "      <th>Name</th>\n",
       "      <th>Sex</th>\n",
       "      <th>Age</th>\n",
       "      <th>SibSp</th>\n",
       "      <th>Parch</th>\n",
       "      <th>Ticket</th>\n",
       "      <th>Fare</th>\n",
       "      <th>Cabin</th>\n",
       "      <th>Embarked</th>\n",
       "    </tr>\n",
       "  </thead>\n",
       "  <tbody>\n",
       "    <tr>\n",
       "      <th>0</th>\n",
       "      <td>1</td>\n",
       "      <td>0</td>\n",
       "      <td>3</td>\n",
       "      <td>Braund, Mr. Owen Harris</td>\n",
       "      <td>male</td>\n",
       "      <td>22.0</td>\n",
       "      <td>1</td>\n",
       "      <td>0</td>\n",
       "      <td>A/5 21171</td>\n",
       "      <td>7.2500</td>\n",
       "      <td>NaN</td>\n",
       "      <td>S</td>\n",
       "    </tr>\n",
       "    <tr>\n",
       "      <th>1</th>\n",
       "      <td>2</td>\n",
       "      <td>1</td>\n",
       "      <td>1</td>\n",
       "      <td>Cumings, Mrs. John Bradley (Florence Briggs Th...</td>\n",
       "      <td>female</td>\n",
       "      <td>38.0</td>\n",
       "      <td>1</td>\n",
       "      <td>0</td>\n",
       "      <td>PC 17599</td>\n",
       "      <td>71.2833</td>\n",
       "      <td>C85</td>\n",
       "      <td>C</td>\n",
       "    </tr>\n",
       "    <tr>\n",
       "      <th>2</th>\n",
       "      <td>3</td>\n",
       "      <td>1</td>\n",
       "      <td>3</td>\n",
       "      <td>Heikkinen, Miss. Laina</td>\n",
       "      <td>female</td>\n",
       "      <td>26.0</td>\n",
       "      <td>0</td>\n",
       "      <td>0</td>\n",
       "      <td>STON/O2. 3101282</td>\n",
       "      <td>7.9250</td>\n",
       "      <td>NaN</td>\n",
       "      <td>S</td>\n",
       "    </tr>\n",
       "    <tr>\n",
       "      <th>3</th>\n",
       "      <td>4</td>\n",
       "      <td>1</td>\n",
       "      <td>1</td>\n",
       "      <td>Futrelle, Mrs. Jacques Heath (Lily May Peel)</td>\n",
       "      <td>female</td>\n",
       "      <td>35.0</td>\n",
       "      <td>1</td>\n",
       "      <td>0</td>\n",
       "      <td>113803</td>\n",
       "      <td>53.1000</td>\n",
       "      <td>C123</td>\n",
       "      <td>S</td>\n",
       "    </tr>\n",
       "    <tr>\n",
       "      <th>4</th>\n",
       "      <td>5</td>\n",
       "      <td>0</td>\n",
       "      <td>3</td>\n",
       "      <td>Allen, Mr. William Henry</td>\n",
       "      <td>male</td>\n",
       "      <td>35.0</td>\n",
       "      <td>0</td>\n",
       "      <td>0</td>\n",
       "      <td>373450</td>\n",
       "      <td>8.0500</td>\n",
       "      <td>NaN</td>\n",
       "      <td>S</td>\n",
       "    </tr>\n",
       "  </tbody>\n",
       "</table>\n",
       "</div>"
      ],
      "text/plain": [
       "   PassengerId  Survived  Pclass  \\\n",
       "0            1         0       3   \n",
       "1            2         1       1   \n",
       "2            3         1       3   \n",
       "3            4         1       1   \n",
       "4            5         0       3   \n",
       "\n",
       "                                                Name     Sex   Age  SibSp  \\\n",
       "0                            Braund, Mr. Owen Harris    male  22.0      1   \n",
       "1  Cumings, Mrs. John Bradley (Florence Briggs Th...  female  38.0      1   \n",
       "2                             Heikkinen, Miss. Laina  female  26.0      0   \n",
       "3       Futrelle, Mrs. Jacques Heath (Lily May Peel)  female  35.0      1   \n",
       "4                           Allen, Mr. William Henry    male  35.0      0   \n",
       "\n",
       "   Parch            Ticket     Fare Cabin Embarked  \n",
       "0      0         A/5 21171   7.2500   NaN        S  \n",
       "1      0          PC 17599  71.2833   C85        C  \n",
       "2      0  STON/O2. 3101282   7.9250   NaN        S  \n",
       "3      0            113803  53.1000  C123        S  \n",
       "4      0            373450   8.0500   NaN        S  "
      ]
     },
     "execution_count": 3,
     "metadata": {},
     "output_type": "execute_result"
    }
   ],
   "source": [
    "main_df.head()"
   ]
  },
  {
   "cell_type": "code",
   "execution_count": 4,
   "id": "eight-furniture",
   "metadata": {
    "ExecuteTime": {
     "end_time": "2022-10-28T03:20:06.740416Z",
     "start_time": "2022-10-28T03:20:06.722258Z"
    }
   },
   "outputs": [
    {
     "data": {
      "text/html": [
       "<div>\n",
       "<style scoped>\n",
       "    .dataframe tbody tr th:only-of-type {\n",
       "        vertical-align: middle;\n",
       "    }\n",
       "\n",
       "    .dataframe tbody tr th {\n",
       "        vertical-align: top;\n",
       "    }\n",
       "\n",
       "    .dataframe thead th {\n",
       "        text-align: right;\n",
       "    }\n",
       "</style>\n",
       "<table border=\"1\" class=\"dataframe\">\n",
       "  <thead>\n",
       "    <tr style=\"text-align: right;\">\n",
       "      <th></th>\n",
       "      <th>PassengerId</th>\n",
       "      <th>Pclass</th>\n",
       "      <th>Name</th>\n",
       "      <th>Sex</th>\n",
       "      <th>Age</th>\n",
       "      <th>SibSp</th>\n",
       "      <th>Parch</th>\n",
       "      <th>Ticket</th>\n",
       "      <th>Fare</th>\n",
       "      <th>Cabin</th>\n",
       "      <th>Embarked</th>\n",
       "    </tr>\n",
       "  </thead>\n",
       "  <tbody>\n",
       "    <tr>\n",
       "      <th>0</th>\n",
       "      <td>892</td>\n",
       "      <td>3</td>\n",
       "      <td>Kelly, Mr. James</td>\n",
       "      <td>male</td>\n",
       "      <td>34.5</td>\n",
       "      <td>0</td>\n",
       "      <td>0</td>\n",
       "      <td>330911</td>\n",
       "      <td>7.8292</td>\n",
       "      <td>NaN</td>\n",
       "      <td>Q</td>\n",
       "    </tr>\n",
       "    <tr>\n",
       "      <th>1</th>\n",
       "      <td>893</td>\n",
       "      <td>3</td>\n",
       "      <td>Wilkes, Mrs. James (Ellen Needs)</td>\n",
       "      <td>female</td>\n",
       "      <td>47.0</td>\n",
       "      <td>1</td>\n",
       "      <td>0</td>\n",
       "      <td>363272</td>\n",
       "      <td>7.0000</td>\n",
       "      <td>NaN</td>\n",
       "      <td>S</td>\n",
       "    </tr>\n",
       "    <tr>\n",
       "      <th>2</th>\n",
       "      <td>894</td>\n",
       "      <td>2</td>\n",
       "      <td>Myles, Mr. Thomas Francis</td>\n",
       "      <td>male</td>\n",
       "      <td>62.0</td>\n",
       "      <td>0</td>\n",
       "      <td>0</td>\n",
       "      <td>240276</td>\n",
       "      <td>9.6875</td>\n",
       "      <td>NaN</td>\n",
       "      <td>Q</td>\n",
       "    </tr>\n",
       "    <tr>\n",
       "      <th>3</th>\n",
       "      <td>895</td>\n",
       "      <td>3</td>\n",
       "      <td>Wirz, Mr. Albert</td>\n",
       "      <td>male</td>\n",
       "      <td>27.0</td>\n",
       "      <td>0</td>\n",
       "      <td>0</td>\n",
       "      <td>315154</td>\n",
       "      <td>8.6625</td>\n",
       "      <td>NaN</td>\n",
       "      <td>S</td>\n",
       "    </tr>\n",
       "    <tr>\n",
       "      <th>4</th>\n",
       "      <td>896</td>\n",
       "      <td>3</td>\n",
       "      <td>Hirvonen, Mrs. Alexander (Helga E Lindqvist)</td>\n",
       "      <td>female</td>\n",
       "      <td>22.0</td>\n",
       "      <td>1</td>\n",
       "      <td>1</td>\n",
       "      <td>3101298</td>\n",
       "      <td>12.2875</td>\n",
       "      <td>NaN</td>\n",
       "      <td>S</td>\n",
       "    </tr>\n",
       "  </tbody>\n",
       "</table>\n",
       "</div>"
      ],
      "text/plain": [
       "   PassengerId  Pclass                                          Name     Sex  \\\n",
       "0          892       3                              Kelly, Mr. James    male   \n",
       "1          893       3              Wilkes, Mrs. James (Ellen Needs)  female   \n",
       "2          894       2                     Myles, Mr. Thomas Francis    male   \n",
       "3          895       3                              Wirz, Mr. Albert    male   \n",
       "4          896       3  Hirvonen, Mrs. Alexander (Helga E Lindqvist)  female   \n",
       "\n",
       "    Age  SibSp  Parch   Ticket     Fare Cabin Embarked  \n",
       "0  34.5      0      0   330911   7.8292   NaN        Q  \n",
       "1  47.0      1      0   363272   7.0000   NaN        S  \n",
       "2  62.0      0      0   240276   9.6875   NaN        Q  \n",
       "3  27.0      0      0   315154   8.6625   NaN        S  \n",
       "4  22.0      1      1  3101298  12.2875   NaN        S  "
      ]
     },
     "execution_count": 4,
     "metadata": {},
     "output_type": "execute_result"
    }
   ],
   "source": [
    "test_df.head()"
   ]
  },
  {
   "cell_type": "markdown",
   "id": "honey-corpus",
   "metadata": {},
   "source": [
    "# Feature engineering"
   ]
  },
  {
   "cell_type": "code",
   "execution_count": 5,
   "id": "distant-broad",
   "metadata": {
    "ExecuteTime": {
     "end_time": "2022-10-28T03:20:06.756523Z",
     "start_time": "2022-10-28T03:20:06.740416Z"
    }
   },
   "outputs": [],
   "source": [
    "def make_title(df):\n",
    "    re_title_template = '([A-Za-z]+)\\.'\n",
    "    df['Title'] = df.Name.apply(lambda x: re.search(re_title_template, x).group(1))"
   ]
  },
  {
   "cell_type": "code",
   "execution_count": 6,
   "id": "traditional-religious",
   "metadata": {
    "ExecuteTime": {
     "end_time": "2022-10-28T03:20:06.773734Z",
     "start_time": "2022-10-28T03:20:06.758513Z"
    }
   },
   "outputs": [],
   "source": [
    "make_title(main_df)\n",
    "make_title(test_df)"
   ]
  },
  {
   "cell_type": "code",
   "execution_count": 7,
   "id": "purple-begin",
   "metadata": {
    "ExecuteTime": {
     "end_time": "2022-10-28T03:20:06.789294Z",
     "start_time": "2022-10-28T03:20:06.773734Z"
    }
   },
   "outputs": [
    {
     "data": {
      "text/plain": [
       "Mr          517\n",
       "Miss        182\n",
       "Mrs         125\n",
       "Master       40\n",
       "Dr            7\n",
       "Rev           6\n",
       "Col           2\n",
       "Major         2\n",
       "Mlle          2\n",
       "Ms            1\n",
       "Lady          1\n",
       "Capt          1\n",
       "Sir           1\n",
       "Jonkheer      1\n",
       "Countess      1\n",
       "Don           1\n",
       "Mme           1\n",
       "Name: Title, dtype: int64"
      ]
     },
     "execution_count": 7,
     "metadata": {},
     "output_type": "execute_result"
    }
   ],
   "source": [
    "main_df.Title.value_counts()"
   ]
  },
  {
   "cell_type": "code",
   "execution_count": 8,
   "id": "diagnostic-labor",
   "metadata": {
    "ExecuteTime": {
     "end_time": "2022-10-28T03:20:06.804844Z",
     "start_time": "2022-10-28T03:20:06.789294Z"
    }
   },
   "outputs": [],
   "source": [
    "def replace_title_name(x):\n",
    "    title = x['Title']\n",
    "    man_mr_titles = ['Don', 'Major', 'Capt', 'Jonkheer', 'Rev', 'Col', 'Sir']\n",
    "    woman_mrs_titles = ['Countess', 'Mme','Dona']\n",
    "    woman_miss_titles = ['Mlle', 'Ms','Lady']\n",
    "    if title in man_mr_titles:\n",
    "        return 'Mr'\n",
    "    elif title in woman_mrs_titles:\n",
    "        return 'Mrs'\n",
    "    elif title in woman_miss_titles:\n",
    "        return 'Miss'\n",
    "    elif title =='Dr':\n",
    "        if x['Sex'] == 'Male':\n",
    "            return 'Mr'\n",
    "        else:\n",
    "            return 'Mrs'\n",
    "    else:\n",
    "        return title"
   ]
  },
  {
   "cell_type": "code",
   "execution_count": 9,
   "id": "familiar-bristol",
   "metadata": {
    "ExecuteTime": {
     "end_time": "2022-10-28T03:20:06.838047Z",
     "start_time": "2022-10-28T03:20:06.806841Z"
    }
   },
   "outputs": [],
   "source": [
    "main_df['Title'] = main_df.apply(replace_title_name, axis = 1)\n",
    "test_df['Title'] = test_df.apply(replace_title_name, axis = 1)"
   ]
  },
  {
   "cell_type": "code",
   "execution_count": 10,
   "id": "statutory-drama",
   "metadata": {
    "ExecuteTime": {
     "end_time": "2022-10-28T03:20:06.853406Z",
     "start_time": "2022-10-28T03:20:06.838047Z"
    }
   },
   "outputs": [
    {
     "data": {
      "text/plain": [
       "Mr        531\n",
       "Miss      186\n",
       "Mrs       134\n",
       "Master     40\n",
       "Name: Title, dtype: int64"
      ]
     },
     "execution_count": 10,
     "metadata": {},
     "output_type": "execute_result"
    }
   ],
   "source": [
    "main_df.Title.value_counts()"
   ]
  },
  {
   "cell_type": "code",
   "execution_count": 11,
   "id": "driven-vienna",
   "metadata": {
    "ExecuteTime": {
     "end_time": "2022-10-28T03:20:06.872561Z",
     "start_time": "2022-10-28T03:20:06.855425Z"
    }
   },
   "outputs": [
    {
     "data": {
      "text/plain": [
       "Mr        244\n",
       "Miss       79\n",
       "Mrs        74\n",
       "Master     21\n",
       "Name: Title, dtype: int64"
      ]
     },
     "execution_count": 11,
     "metadata": {},
     "output_type": "execute_result"
    }
   ],
   "source": [
    "test_df.Title.value_counts()"
   ]
  },
  {
   "cell_type": "code",
   "execution_count": 12,
   "id": "certified-batman",
   "metadata": {
    "ExecuteTime": {
     "end_time": "2022-10-28T03:20:06.888529Z",
     "start_time": "2022-10-28T03:20:06.873541Z"
    }
   },
   "outputs": [],
   "source": [
    "def make_features(df):\n",
    "    children_with_nanny = (df['Age']<18) & (df['Parch']==0)\n",
    "    df['Family_Size'] = df['SibSp'] + df['Parch']\n",
    "    # children without parents travell with nanny\n",
    "    df.Family_Size[children_with_nanny] = df.apply(lambda x: x['SibSp'] + 1, axis = 1)\n",
    "    # family size and the person himself\n",
    "    df['Fare_Per_Person'] = df['Fare'] / (df['Family_Size'] + 1)"
   ]
  },
  {
   "cell_type": "code",
   "execution_count": 13,
   "id": "automatic-radiation",
   "metadata": {
    "ExecuteTime": {
     "end_time": "2022-10-28T03:20:06.921931Z",
     "start_time": "2022-10-28T03:20:06.889530Z"
    }
   },
   "outputs": [],
   "source": [
    "make_features(main_df)\n",
    "make_features(test_df)"
   ]
  },
  {
   "cell_type": "code",
   "execution_count": 14,
   "id": "progressive-establishment",
   "metadata": {
    "ExecuteTime": {
     "end_time": "2022-10-28T03:20:06.937855Z",
     "start_time": "2022-10-28T03:20:06.921931Z"
    }
   },
   "outputs": [],
   "source": [
    "def drop_unecessary_columns(df):\n",
    "    columns_to_drop = ['PassengerId', 'Ticket','Name', 'Cabin','Fare', 'SibSp', 'Parch'] # 'SibSp', 'Parch',, 'Embarked' maybe too\n",
    "    if 'Survived' in df.columns:\n",
    "        columns_to_drop.append('Survived')\n",
    "    df.drop(columns = columns_to_drop, inplace = True)\n",
    "\n",
    "drop_unecessary_columns(main_df)\n",
    "drop_unecessary_columns(test_df)"
   ]
  },
  {
   "cell_type": "markdown",
   "id": "statewide-malaysia",
   "metadata": {},
   "source": [
    "# Train Test Split"
   ]
  },
  {
   "cell_type": "code",
   "execution_count": 15,
   "id": "solid-greensboro",
   "metadata": {
    "ExecuteTime": {
     "end_time": "2022-10-28T03:20:06.956463Z",
     "start_time": "2022-10-28T03:20:06.939854Z"
    }
   },
   "outputs": [],
   "source": [
    "def custom_train_test_split(data, target_data):\n",
    "    train_data, valid_data, train_value, valid_value  = train_test_split(data, target_data, test_size = 0.2, \n",
    "                                                                         random_state = rand_state, shuffle = True, stratify = target_data)\n",
    "    return train_data, valid_data, train_value, valid_value"
   ]
  },
  {
   "cell_type": "code",
   "execution_count": 16,
   "id": "inside-captain",
   "metadata": {
    "ExecuteTime": {
     "end_time": "2022-10-28T03:20:06.974380Z",
     "start_time": "2022-10-28T03:20:06.958984Z"
    }
   },
   "outputs": [],
   "source": [
    "train_data, valid_data, train_value, valid_value  = custom_train_test_split(main_df, Survived)"
   ]
  },
  {
   "cell_type": "markdown",
   "id": "incorrect-links",
   "metadata": {},
   "source": [
    "# Remove nans"
   ]
  },
  {
   "cell_type": "markdown",
   "id": "second-wichita",
   "metadata": {},
   "source": [
    "I needed first to remove nans to add some new features which depend on features with a lot of nans"
   ]
  },
  {
   "cell_type": "code",
   "execution_count": 17,
   "id": "preliminary-fleet",
   "metadata": {
    "ExecuteTime": {
     "end_time": "2022-10-28T03:20:07.020558Z",
     "start_time": "2022-10-28T03:20:06.974380Z"
    }
   },
   "outputs": [],
   "source": [
    "def get_rid_of_nans(df):\n",
    "    df['Age'] = df.groupby(['Sex','Title'])['Age'].transform(\n",
    "    lambda grp: grp.fillna(np.mean(grp)))\n",
    "#     df['Fare'] = df.groupby(['Sex','Title'])['Fare'].transform(\n",
    "#     lambda grp: grp.fillna(np.mean(grp)))\n",
    "    df['Fare_Per_Person'] = df.groupby(['Sex','Title'])['Fare_Per_Person'].transform(\n",
    "    lambda grp: grp.fillna(np.mean(grp)))\n",
    "    df['Embarked'].fillna(value = df['Embarked'].mode()[0], inplace = True)\n",
    "    #df['Cabin'].fillna(value = 'NoCabin', inplace = True)\n",
    "    re_cabin_template = \"[A-Za-z]+\"\n",
    "    #df['Cabin'] = df['Cabin'].apply(lambda x: re.search(re_cabin_template, x).group(0))\n",
    "\n",
    "get_rid_of_nans(train_data)\n",
    "get_rid_of_nans(valid_data)\n",
    "get_rid_of_nans(test_df)"
   ]
  },
  {
   "cell_type": "code",
   "execution_count": 18,
   "id": "horizontal-header",
   "metadata": {
    "ExecuteTime": {
     "end_time": "2022-10-28T03:20:07.035745Z",
     "start_time": "2022-10-28T03:20:07.021814Z"
    }
   },
   "outputs": [
    {
     "data": {
      "text/plain": [
       "Pclass             0\n",
       "Sex                0\n",
       "Age                0\n",
       "Embarked           0\n",
       "Title              0\n",
       "Family_Size        0\n",
       "Fare_Per_Person    0\n",
       "dtype: int64"
      ]
     },
     "execution_count": 18,
     "metadata": {},
     "output_type": "execute_result"
    }
   ],
   "source": [
    "train_data.isna().sum()"
   ]
  },
  {
   "cell_type": "markdown",
   "id": "impaired-blocking",
   "metadata": {},
   "source": [
    "# Feature engineering part II"
   ]
  },
  {
   "cell_type": "code",
   "execution_count": 19,
   "id": "above-juvenile",
   "metadata": {
    "ExecuteTime": {
     "end_time": "2022-10-28T03:20:07.071856Z",
     "start_time": "2022-10-28T03:20:07.037744Z"
    }
   },
   "outputs": [],
   "source": [
    "def add_new_features(df: pd.DataFrame) -> None:\n",
    "    df['Age*Class'] = df['Age'] * df['Pclass']\n",
    "    df['is_child'] = df['Age'].apply(lambda x: 1 if x < 18 else 0)\n",
    "    df['is_adult_man'] = df.apply(lambda x: 1 if x['Sex']=='male' and x['Age']>=18 else 0, axis=1)\n",
    "    df['is_alone'] = df['Family_Size'].apply(lambda x: 1 if x == 0 else 0)\n",
    "    \n",
    "add_new_features(train_data)\n",
    "add_new_features(valid_data)\n",
    "add_new_features(test_df)"
   ]
  },
  {
   "cell_type": "markdown",
   "id": "norman-denial",
   "metadata": {},
   "source": [
    "## Labelling categorical features"
   ]
  },
  {
   "cell_type": "code",
   "execution_count": 20,
   "id": "virtual-centre",
   "metadata": {
    "ExecuteTime": {
     "end_time": "2022-10-28T03:20:07.107667Z",
     "start_time": "2022-10-28T03:20:07.071856Z"
    }
   },
   "outputs": [],
   "source": [
    "def encoding_columns(df):\n",
    "#     LE = LabelEncoder()\n",
    "#     for feature in df.select_dtypes(include = ['object']):\n",
    "#         df[feature] = LE.fit_transform(df[feature])\n",
    "    df['Sex'] = df['Sex'].apply(lambda x: 1 if x=='male' else 0)\n",
    "    df['Sex'] = df['Sex'].astype('int32')\n",
    "    df = pd.get_dummies(df)\n",
    "    return df\n",
    "\n",
    "train_data = encoding_columns(train_data)\n",
    "valid_data = encoding_columns(valid_data)\n",
    "test_df = encoding_columns(test_df)"
   ]
  },
  {
   "cell_type": "markdown",
   "id": "smoking-member",
   "metadata": {},
   "source": [
    "# Remove outliers"
   ]
  },
  {
   "cell_type": "code",
   "execution_count": 21,
   "id": "prescription-convenience",
   "metadata": {
    "ExecuteTime": {
     "end_time": "2022-10-28T03:20:07.284694Z",
     "start_time": "2022-10-28T03:20:07.109366Z"
    }
   },
   "outputs": [
    {
     "data": {
      "text/plain": [
       "<AxesSubplot:xlabel='Survived', ylabel='Age'>"
      ]
     },
     "execution_count": 21,
     "metadata": {},
     "output_type": "execute_result"
    },
    {
     "data": {
      "image/png": "[encoded data removed]",
      "text/plain": [
       "<Figure size 432x288 with 1 Axes>"
      ]
     },
     "metadata": {
      "needs_background": "light"
     },
     "output_type": "display_data"
    }
   ],
   "source": [
    "sns.scatterplot(train_value, train_data['Age'])"
   ]
  },
  {
   "cell_type": "code",
   "execution_count": 22,
   "id": "amended-peter",
   "metadata": {
    "ExecuteTime": {
     "end_time": "2022-10-28T03:20:07.294424Z",
     "start_time": "2022-10-28T03:20:07.286688Z"
    }
   },
   "outputs": [],
   "source": [
    "outl_age = train_data['Age']>76\n",
    "train_data = train_data[~outl_age]\n",
    "train_value = train_value[~outl_age]"
   ]
  },
  {
   "cell_type": "code",
   "execution_count": 23,
   "id": "educated-vampire",
   "metadata": {
    "ExecuteTime": {
     "end_time": "2022-10-28T03:20:07.468860Z",
     "start_time": "2022-10-28T03:20:07.301260Z"
    }
   },
   "outputs": [
    {
     "data": {
      "text/plain": [
       "<AxesSubplot:xlabel='Survived', ylabel='Fare_Per_Person'>"
      ]
     },
     "execution_count": 23,
     "metadata": {},
     "output_type": "execute_result"
    },
    {
     "data": {
      "image/png": "[encoded data removed]",
      "text/plain": [
       "<Figure size 432x288 with 1 Axes>"
      ]
     },
     "metadata": {
      "needs_background": "light"
     },
     "output_type": "display_data"
    }
   ],
   "source": [
    "sns.scatterplot(train_value, train_data['Fare_Per_Person'])"
   ]
  },
  {
   "cell_type": "code",
   "execution_count": 24,
   "id": "potential-promotion",
   "metadata": {
    "ExecuteTime": {
     "end_time": "2022-10-28T03:20:07.489324Z",
     "start_time": "2022-10-28T03:20:07.470851Z"
    }
   },
   "outputs": [],
   "source": [
    "outl_fare_per_person = train_data['Fare_Per_Person']>300\n",
    "train_data = train_data[~outl_fare_per_person]\n",
    "train_value = train_value[~outl_fare_per_person]"
   ]
  },
  {
   "cell_type": "code",
   "execution_count": 25,
   "id": "integral-vault",
   "metadata": {
    "ExecuteTime": {
     "end_time": "2022-10-28T03:20:07.634673Z",
     "start_time": "2022-10-28T03:20:07.489324Z"
    }
   },
   "outputs": [
    {
     "data": {
      "text/plain": [
       "<AxesSubplot:xlabel='Survived', ylabel='Age*Class'>"
      ]
     },
     "execution_count": 25,
     "metadata": {},
     "output_type": "execute_result"
    },
    {
     "data": {
      "image/png": "[encoded data removed]",
      "text/plain": [
       "<Figure size 432x288 with 1 Axes>"
      ]
     },
     "metadata": {
      "needs_background": "light"
     },
     "output_type": "display_data"
    }
   ],
   "source": [
    "sns.scatterplot(train_value, train_data['Age*Class'])"
   ]
  },
  {
   "cell_type": "code",
   "execution_count": 26,
   "id": "appreciated-sugar",
   "metadata": {
    "ExecuteTime": {
     "end_time": "2022-10-28T03:20:07.654868Z",
     "start_time": "2022-10-28T03:20:07.636676Z"
    }
   },
   "outputs": [],
   "source": [
    "age_class_outl = train_data['Age*Class']>160\n",
    "train_data = train_data[~age_class_outl]\n",
    "train_value = train_value[~age_class_outl]"
   ]
  },
  {
   "cell_type": "markdown",
   "id": "signed-little",
   "metadata": {},
   "source": [
    "# Some experiments before training in order to find out  which parameters are approximately the best"
   ]
  },
  {
   "cell_type": "code",
   "execution_count": 27,
   "id": "balanced-attack",
   "metadata": {
    "ExecuteTime": {
     "end_time": "2022-10-28T03:20:07.670284Z",
     "start_time": "2022-10-28T03:20:07.654868Z"
    }
   },
   "outputs": [],
   "source": [
    "param_grid = {\n",
    "    #\"max_depth\": [10, 11, 12]\n",
    "    'max_samples': [100, 500, 600, None]\n",
    "    #'random_state': [555, 777, 115, 9789, 543, 999, 1000, 2022]\n",
    "    #\"max_features\": [4,5]\n",
    "    #\"min_samples_split\": [6, 10],\n",
    "    #\"min_samples_leaf\": [3, 5]\n",
    "}\n",
    "\n",
    "rf_cl = RandomForestClassifier(random_state=rand_state, \n",
    "                               n_estimators = 1500, \n",
    "                               max_features = 4,\n",
    "                               max_depth = 10,\n",
    "                               max_samples=100,\n",
    "                               class_weight='balanced',\n",
    "                              criterion='entropy')\n",
    "\n",
    "rf_cl_tuned = GridSearchCV(estimator=rf_cl,\n",
    "                            scoring='accuracy',\n",
    "                            param_grid=param_grid,\n",
    "                            cv=5,\n",
    "                            n_jobs=-5,\n",
    "                            verbose=2)"
   ]
  },
  {
   "cell_type": "code",
   "execution_count": 28,
   "id": "running-ghana",
   "metadata": {
    "ExecuteTime": {
     "end_time": "2022-10-28T03:20:07.685522Z",
     "start_time": "2022-10-28T03:20:07.670284Z"
    }
   },
   "outputs": [],
   "source": [
    "main_df_target = pd.concat((train_value, valid_value))\n",
    "main_df_data = pd.concat((train_data, valid_data))"
   ]
  },
  {
   "cell_type": "code",
   "execution_count": 29,
   "id": "challenging-acoustic",
   "metadata": {
    "ExecuteTime": {
     "end_time": "2022-10-28T03:20:07.703082Z",
     "start_time": "2022-10-28T03:20:07.687563Z"
    }
   },
   "outputs": [],
   "source": [
    "# rf_cl_tuned.fit(main_df_data, main_df_target)\n",
    "# print(rf_cl_tuned.best_estimator_)\n",
    "# print(rf_cl_tuned.best_score_)"
   ]
  },
  {
   "cell_type": "markdown",
   "id": "abstract-prerequisite",
   "metadata": {},
   "source": [
    "# Scaling features"
   ]
  },
  {
   "cell_type": "code",
   "execution_count": 30,
   "id": "collaborative-latvia",
   "metadata": {
    "ExecuteTime": {
     "end_time": "2022-10-28T03:20:07.737271Z",
     "start_time": "2022-10-28T03:20:07.703761Z"
    }
   },
   "outputs": [],
   "source": [
    "float_features = ['Age', 'Fare_Per_Person', 'Age*Class']#, 'Fare'] #,'\n",
    "scaler = StandardScaler()\n",
    "train_data[float_features] = scaler.fit_transform(train_data[float_features])\n",
    "valid_data[float_features] = scaler.transform(valid_data[float_features])\n",
    "test_df[float_features] = scaler.transform(test_df[float_features])"
   ]
  },
  {
   "cell_type": "markdown",
   "id": "mature-france",
   "metadata": {},
   "source": [
    "# RandomForest"
   ]
  },
  {
   "cell_type": "code",
   "execution_count": 51,
   "id": "favorite-glass",
   "metadata": {
    "ExecuteTime": {
     "end_time": "2022-10-28T03:21:03.360873Z",
     "start_time": "2022-10-28T03:21:03.345242Z"
    }
   },
   "outputs": [],
   "source": [
    "def get_random_forest_model() -> object:\n",
    "#     RFC = RandomForestClassifier(max_depth=5, max_features=5, \n",
    "#                                  min_samples_split=10, n_estimators=1000, \n",
    "#                                  random_state=rand_state, \n",
    "#                                  min_samples_leaf=5, criterion='entropy')\n",
    "     RFC = RandomForestClassifier(max_depth=10,\n",
    "                                 max_samples=100,\n",
    "                       n_estimators=1500, \n",
    "                       max_features=4, \n",
    "                       class_weight='balanced',\n",
    "                       random_state=rand_state, \n",
    "                       criterion='entropy')\n",
    "#      RFC = RandomForestClassifier(max_depth=12,\n",
    "#                                  max_samples=200,\n",
    "#                        n_estimators=1500, \n",
    "#                        max_features=5, \n",
    "#                        #class_weight='balanced',\n",
    "#                        random_state=rand_state, \n",
    "#                        criterion='entropy')\n",
    "     return RFC"
   ]
  },
  {
   "cell_type": "code",
   "execution_count": 52,
   "id": "piano-republican",
   "metadata": {
    "ExecuteTime": {
     "end_time": "2022-10-28T03:21:12.107084Z",
     "start_time": "2022-10-28T03:21:03.949222Z"
    }
   },
   "outputs": [
    {
     "name": "stdout",
     "output_type": "stream",
     "text": [
      "[0.84745763 0.84180791 0.88135593 0.82386364 0.84659091]\n",
      "0.8482152028762198\n"
     ]
    }
   ],
   "source": [
    "RFC = get_random_forest_model()\n",
    "scores = cross_val_score(RFC, main_df_data, main_df_target, scoring=\"accuracy\", cv = 5)\n",
    "print(scores)\n",
    "print(scores.mean())"
   ]
  },
  {
   "cell_type": "code",
   "execution_count": 53,
   "id": "synthetic-tomato",
   "metadata": {
    "ExecuteTime": {
     "end_time": "2022-10-28T03:21:13.607490Z",
     "start_time": "2022-10-28T03:21:12.108489Z"
    }
   },
   "outputs": [
    {
     "data": {
      "text/plain": [
       "RandomForestClassifier(class_weight='balanced', criterion='entropy',\n",
       "                       max_depth=10, max_features=4, max_samples=100,\n",
       "                       n_estimators=1500, random_state=9789)"
      ]
     },
     "execution_count": 53,
     "metadata": {},
     "output_type": "execute_result"
    }
   ],
   "source": [
    "RFC = get_random_forest_model()\n",
    "RFC.fit(train_data, train_value)"
   ]
  },
  {
   "cell_type": "markdown",
   "id": "hungarian-produce",
   "metadata": {},
   "source": [
    "# Logitstic Regression"
   ]
  },
  {
   "cell_type": "code",
   "execution_count": 54,
   "id": "accomplished-affect",
   "metadata": {
    "ExecuteTime": {
     "end_time": "2022-10-28T03:21:13.613643Z",
     "start_time": "2022-10-28T03:21:13.609488Z"
    }
   },
   "outputs": [],
   "source": [
    "def get_logistic_regression() -> object:\n",
    "    LRC = LogisticRegression(tol=1e-6, \n",
    "                             max_iter = 10000, \n",
    "                             penalty='none',\n",
    "                             #C=0.5,\n",
    "                             solver='lbfgs')#, class_weight='balanced')\n",
    "    return LRC\n",
    "\n"
   ]
  },
  {
   "cell_type": "code",
   "execution_count": 55,
   "id": "acceptable-wealth",
   "metadata": {
    "ExecuteTime": {
     "end_time": "2022-10-28T03:21:13.629725Z",
     "start_time": "2022-10-28T03:21:13.613643Z"
    }
   },
   "outputs": [],
   "source": [
    "# LRC = get_logistic_regression()\n",
    "# scores = cross_val_score(LRC, main_df_data, main_df_target, \n",
    "#                          scoring=\"accuracy\", cv = 5)\n",
    "# print(scores)\n",
    "# print(scores.mean())"
   ]
  },
  {
   "cell_type": "code",
   "execution_count": 56,
   "id": "limiting-cattle",
   "metadata": {
    "ExecuteTime": {
     "end_time": "2022-10-28T03:21:13.692404Z",
     "start_time": "2022-10-28T03:21:13.632865Z"
    }
   },
   "outputs": [
    {
     "data": {
      "text/plain": [
       "LogisticRegression(max_iter=10000, penalty='none', tol=1e-06)"
      ]
     },
     "execution_count": 56,
     "metadata": {},
     "output_type": "execute_result"
    }
   ],
   "source": [
    "LRC = get_logistic_regression()\n",
    "LRC.fit(train_data, train_value)"
   ]
  },
  {
   "cell_type": "markdown",
   "id": "deluxe-syndication",
   "metadata": {},
   "source": [
    "# PostHoc Analysis"
   ]
  },
  {
   "cell_type": "code",
   "execution_count": 57,
   "id": "unlikely-andrews",
   "metadata": {
    "ExecuteTime": {
     "end_time": "2022-10-28T03:21:13.708209Z",
     "start_time": "2022-10-28T03:21:13.693085Z"
    }
   },
   "outputs": [],
   "source": [
    "def get_feature_importancy(ml_model):\n",
    "    try:\n",
    "        feature_importancy = ml_model.best_estimator_.feature_importances_\n",
    "    except:\n",
    "        feature_importancy = ml_model.feature_importances_\n",
    "    return feature_importancy"
   ]
  },
  {
   "cell_type": "code",
   "execution_count": 58,
   "id": "australian-jefferson",
   "metadata": {
    "ExecuteTime": {
     "end_time": "2022-10-28T03:21:13.723696Z",
     "start_time": "2022-10-28T03:21:13.709176Z"
    }
   },
   "outputs": [],
   "source": [
    "def get_ml_params(ml_model):\n",
    "    try:\n",
    "        ml_params = ml_model.best_estimator_.get_params()\n",
    "    except:\n",
    "        ml_params = ml_model.get_params()\n",
    "    return ml_params"
   ]
  },
  {
   "cell_type": "code",
   "execution_count": 59,
   "id": "exterior-macedonia",
   "metadata": {
    "ExecuteTime": {
     "end_time": "2022-10-28T03:21:13.742304Z",
     "start_time": "2022-10-28T03:21:13.726192Z"
    }
   },
   "outputs": [],
   "source": [
    "def get_feature_importance_df(train_data, ml_model):\n",
    "    feature_importancy = get_feature_importancy(ml_model)\n",
    "    feature_imp_df = pd.DataFrame({'Feature': train_data.columns , 'Importance': feature_importancy })\n",
    "    feature_imp_df = feature_imp_df.sort_values('Importance', ascending = False)\n",
    "    return feature_imp_df"
   ]
  },
  {
   "cell_type": "code",
   "execution_count": 60,
   "id": "great-strip",
   "metadata": {
    "ExecuteTime": {
     "end_time": "2022-10-28T03:21:13.758055Z",
     "start_time": "2022-10-28T03:21:13.742778Z"
    }
   },
   "outputs": [],
   "source": [
    "def make_metrics_report(y_test, y_pred, probs_predicted):\n",
    "    precision, recall, thresholds = precision_recall_curve(y_test, probs_predicted)\n",
    "    print(classification_report(y_test,y_pred))\n",
    "    print(\"Accuracy score: {}\".format(accuracy_score(y_test, y_pred)))\n",
    "    print(\"ROC-AUC score: {}\".format(roc_auc_score(y_test, probs_predicted)))\n",
    "    print(\"PR-AUC score: {}\".format(auc(recall, precision)))"
   ]
  },
  {
   "cell_type": "code",
   "execution_count": 61,
   "id": "listed-event",
   "metadata": {
    "ExecuteTime": {
     "end_time": "2022-10-28T03:21:13.773832Z",
     "start_time": "2022-10-28T03:21:13.759269Z"
    }
   },
   "outputs": [],
   "source": [
    "def make_feature_importance_report(df, ml_model_name):\n",
    "    print(\"ML model name: {} \\n\".format(ml_model_name))\n",
    "    print(df)\n",
    "    sns.barplot(x = df['Importance'], y = df['Feature'] )"
   ]
  },
  {
   "cell_type": "code",
   "execution_count": 62,
   "id": "configured-sunrise",
   "metadata": {
    "ExecuteTime": {
     "end_time": "2022-10-28T03:21:13.791415Z",
     "start_time": "2022-10-28T03:21:13.776169Z"
    }
   },
   "outputs": [],
   "source": [
    "def make_post_hoc_report(ml_model, valid_data, valid_value, ml_model_name):\n",
    "    print(\"ML model name: {} \\n\".format(ml_model_name))\n",
    "    ml_params = get_ml_params(ml_model)\n",
    "    print(\"ML_model parameters: \\n\\n {} \\n\".format(ml_params))\n",
    "    plot_confusion_matrix(ml_model, valid_data, valid_value)\n",
    "    value_predicted = ml_model.predict(valid_data)\n",
    "    probs_predicted = ml_model.predict_proba(valid_data)[:, 1]\n",
    "    make_metrics_report(valid_value, value_predicted, probs_predicted)"
   ]
  },
  {
   "cell_type": "code",
   "execution_count": 63,
   "id": "thorough-destiny",
   "metadata": {
    "ExecuteTime": {
     "end_time": "2022-10-28T03:21:13.940625Z",
     "start_time": "2022-10-28T03:21:13.792403Z"
    }
   },
   "outputs": [],
   "source": [
    "feature_imp_df_rfc = get_feature_importance_df(train_data, RFC)"
   ]
  },
  {
   "cell_type": "code",
   "execution_count": 64,
   "id": "finished-elevation",
   "metadata": {
    "ExecuteTime": {
     "end_time": "2022-10-28T03:21:14.495609Z",
     "start_time": "2022-10-28T03:21:13.941608Z"
    }
   },
   "outputs": [
    {
     "name": "stdout",
     "output_type": "stream",
     "text": [
      "ML model name: RandomForestClassifier \n",
      "\n",
      "ML_model parameters: \n",
      "\n",
      " {'bootstrap': True, 'ccp_alpha': 0.0, 'class_weight': 'balanced', 'criterion': 'entropy', 'max_depth': 10, 'max_features': 4, 'max_leaf_nodes': None, 'max_samples': 100, 'min_impurity_decrease': 0.0, 'min_impurity_split': None, 'min_samples_leaf': 1, 'min_samples_split': 2, 'min_weight_fraction_leaf': 0.0, 'n_estimators': 1500, 'n_jobs': None, 'oob_score': False, 'random_state': 9789, 'verbose': 0, 'warm_start': False} \n",
      "\n",
      "              precision    recall  f1-score   support\n",
      "\n",
      "           0       0.82      0.95      0.88       110\n",
      "           1       0.88      0.67      0.76        69\n",
      "\n",
      "    accuracy                           0.84       179\n",
      "   macro avg       0.85      0.81      0.82       179\n",
      "weighted avg       0.84      0.84      0.83       179\n",
      "\n",
      "Accuracy score: 0.8379888268156425\n",
      "ROC-AUC score: 0.8515151515151516\n",
      "PR-AUC score: 0.8460589458232671\n"
     ]
    },
    {
     "data": {
      "image/png": "[encoded data removed]",
      "text/plain": [
       "<Figure size 432x288 with 2 Axes>"
      ]
     },
     "metadata": {
      "needs_background": "light"
     },
     "output_type": "display_data"
    }
   ],
   "source": [
    "make_post_hoc_report(RFC, valid_data, valid_value, 'RandomForestClassifier')"
   ]
  },
  {
   "cell_type": "code",
   "execution_count": 65,
   "id": "rental-creativity",
   "metadata": {
    "ExecuteTime": {
     "end_time": "2022-10-28T03:21:14.670475Z",
     "start_time": "2022-10-28T03:21:14.497614Z"
    }
   },
   "outputs": [
    {
     "name": "stdout",
     "output_type": "stream",
     "text": [
      "ML model name: LogisticRegression \n",
      "\n",
      "ML_model parameters: \n",
      "\n",
      " {'C': 1.0, 'class_weight': None, 'dual': False, 'fit_intercept': True, 'intercept_scaling': 1, 'l1_ratio': None, 'max_iter': 10000, 'multi_class': 'auto', 'n_jobs': None, 'penalty': 'none', 'random_state': None, 'solver': 'lbfgs', 'tol': 1e-06, 'verbose': 0, 'warm_start': False} \n",
      "\n",
      "              precision    recall  f1-score   support\n",
      "\n",
      "           0       0.82      0.89      0.86       110\n",
      "           1       0.80      0.70      0.74        69\n",
      "\n",
      "    accuracy                           0.82       179\n",
      "   macro avg       0.81      0.79      0.80       179\n",
      "weighted avg       0.81      0.82      0.81       179\n",
      "\n",
      "Accuracy score: 0.8156424581005587\n",
      "ROC-AUC score: 0.8648221343873518\n",
      "PR-AUC score: 0.8418973972811302\n"
     ]
    },
    {
     "data": {
      "image/png": "[encoded data removed]",
      "text/plain": [
       "<Figure size 432x288 with 2 Axes>"
      ]
     },
     "metadata": {
      "needs_background": "light"
     },
     "output_type": "display_data"
    }
   ],
   "source": [
    "make_post_hoc_report(LRC, valid_data, valid_value, 'LogisticRegression')"
   ]
  },
  {
   "cell_type": "code",
   "execution_count": 66,
   "id": "transsexual-saudi",
   "metadata": {
    "ExecuteTime": {
     "end_time": "2022-10-28T03:21:14.919955Z",
     "start_time": "2022-10-28T03:21:14.672433Z"
    }
   },
   "outputs": [
    {
     "name": "stdout",
     "output_type": "stream",
     "text": [
      "ML model name: RandomForestClassifier \n",
      "\n",
      "            Feature  Importance\n",
      "4   Fare_Per_Person    0.197719\n",
      "5         Age*Class    0.162059\n",
      "2               Age    0.136383\n",
      "14         Title_Mr    0.091093\n",
      "1               Sex    0.076494\n",
      "7      is_adult_man    0.074944\n",
      "3       Family_Size    0.065919\n",
      "0            Pclass    0.064184\n",
      "11       Embarked_S    0.023986\n",
      "15        Title_Mrs    0.021380\n",
      "13       Title_Miss    0.020906\n",
      "9        Embarked_C    0.020901\n",
      "8          is_alone    0.020127\n",
      "10       Embarked_Q    0.011800\n",
      "6          is_child    0.007670\n",
      "12     Title_Master    0.004434\n"
     ]
    },
    {
     "data": {
      "image/png": "[encoded data removed]",
      "text/plain": [
       "<Figure size 432x288 with 1 Axes>"
      ]
     },
     "metadata": {
      "needs_background": "light"
     },
     "output_type": "display_data"
    }
   ],
   "source": [
    "make_feature_importance_report(feature_imp_df_rfc, \"RandomForestClassifier\")"
   ]
  },
  {
   "cell_type": "code",
   "execution_count": 67,
   "id": "fabulous-corrections",
   "metadata": {
    "ExecuteTime": {
     "end_time": "2022-10-28T03:21:14.938633Z",
     "start_time": "2022-10-28T03:21:14.921941Z"
    }
   },
   "outputs": [],
   "source": [
    "def get_best_acc(model, valid_data, valid_value) -> float:\n",
    "    predict_probs = model.predict_proba(valid_data)[:,1]\n",
    "    n_points = 50\n",
    "    linsp = np.linspace(0.2, 0.8, n_points)\n",
    "    accs = []\n",
    "    max_acc = 0\n",
    "    max_acc_thr = 0\n",
    "    for thresh  in linsp:\n",
    "        predictions = [int(prob >= thresh) for prob in predict_probs]\n",
    "        acc = accuracy_score(valid_value, predictions)\n",
    "        if acc >= max_acc:\n",
    "            max_acc = acc\n",
    "            max_acc_thr = thresh\n",
    "        accs.append(acc)\n",
    "        #print(\"thresh: {} acc: {}\".format(thresh, acc))\n",
    "    print(\"max acc: {} threshold: {}\".format(max_acc, max_acc_thr))\n",
    "    plt.plot(linsp, accs)\n",
    "    return max_acc_thr\n",
    "    "
   ]
  },
  {
   "cell_type": "code",
   "execution_count": 68,
   "id": "proper-creator",
   "metadata": {
    "ExecuteTime": {
     "end_time": "2022-10-28T03:21:15.208096Z",
     "start_time": "2022-10-28T03:21:14.940630Z"
    }
   },
   "outputs": [
    {
     "name": "stdout",
     "output_type": "stream",
     "text": [
      "max acc: 0.8435754189944135 threshold: 0.48163265306122455\n"
     ]
    },
    {
     "data": {
      "image/png": "[encoded data removed]",
      "text/plain": [
       "<Figure size 432x288 with 1 Axes>"
      ]
     },
     "metadata": {
      "needs_background": "light"
     },
     "output_type": "display_data"
    }
   ],
   "source": [
    "rfc_thr = get_best_acc(RFC, valid_data, valid_value)"
   ]
  },
  {
   "cell_type": "code",
   "execution_count": 69,
   "id": "absent-horizon",
   "metadata": {
    "ExecuteTime": {
     "end_time": "2022-10-28T03:21:15.371864Z",
     "start_time": "2022-10-28T03:21:15.210098Z"
    }
   },
   "outputs": [
    {
     "name": "stdout",
     "output_type": "stream",
     "text": [
      "max acc: 0.8268156424581006 threshold: 0.37142857142857144\n"
     ]
    },
    {
     "data": {
      "image/png": "[encoded data removed]",
      "text/plain": [
       "<Figure size 432x288 with 1 Axes>"
      ]
     },
     "metadata": {
      "needs_background": "light"
     },
     "output_type": "display_data"
    }
   ],
   "source": [
    "lrc_thr = get_best_acc(LRC, valid_data, valid_value)"
   ]
  },
  {
   "cell_type": "markdown",
   "id": "sixth-birth",
   "metadata": {},
   "source": [
    "# Write results to the CSV submission files"
   ]
  },
  {
   "cell_type": "code",
   "execution_count": 70,
   "id": "musical-fitness",
   "metadata": {
    "ExecuteTime": {
     "end_time": "2022-10-28T03:21:15.565204Z",
     "start_time": "2022-10-28T03:21:15.374753Z"
    }
   },
   "outputs": [],
   "source": [
    "def make_csv_sub(df, PassengerID, ml_model, filename, threshold: float=0.5):\n",
    "    test_predictions_probs = ml_model.predict_proba(df)[:,1]\n",
    "    test_predictions = [int(prob >= threshold) for prob in test_predictions_probs]\n",
    "    submit_df = pd.DataFrame({\"PassengerID\": PassengerID, \"Survived\": test_predictions})\n",
    "    submit_df.to_csv(filename, index = False)\n",
    "    \n",
    "default_thr = 0.5\n",
    "make_csv_sub(test_df, PassengerID, RFC, 'submission_rfc.csv', rfc_thr)\n",
    "make_csv_sub(test_df, PassengerID, LRC, 'submission_lrc.csv', default_thr)"
   ]
  },
  {
   "cell_type": "code",
   "execution_count": null,
   "id": "traditional-highway",
   "metadata": {},
   "outputs": [],
   "source": []
  }
 ],
 "metadata": {
  "kernelspec": {
   "display_name": "MainEnv",
   "language": "python",
   "name": "mainenv"
  },
  "language_info": {
   "codemirror_mode": {
    "name": "ipython",
    "version": 3
   },
   "file_extension": ".py",
   "mimetype": "text/x-python",
   "name": "python",
   "nbconvert_exporter": "python",
   "pygments_lexer": "ipython3",
   "version": "3.8.7"
  }
 },
 "nbformat": 4,
 "nbformat_minor": 5
}
