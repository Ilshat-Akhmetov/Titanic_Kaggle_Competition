{
 "cells": [
  {
   "cell_type": "code",
   "execution_count": 1,
   "id": "simple-carroll",
   "metadata": {
    "ExecuteTime": {
     "end_time": "2021-07-13T09:49:00.616787Z",
     "start_time": "2021-07-13T09:48:59.037529Z"
    }
   },
   "outputs": [],
   "source": [
    "import pandas as pd\n",
    "import sklearn\n",
    "import re\n",
    "from sklearn.ensemble import RandomForestClassifier\n",
    "from sklearn.model_selection import train_test_split, GridSearchCV\n",
    "from sklearn.preprocessing import LabelEncoder\n",
    "import seaborn as sns\n",
    "from sklearn.metrics import classification_report, plot_confusion_matrix, accuracy_score, roc_auc_score"
   ]
  },
  {
   "cell_type": "markdown",
   "id": "simplified-experiment",
   "metadata": {},
   "source": [
    "## First look"
   ]
  },
  {
   "cell_type": "code",
   "execution_count": 2,
   "id": "great-entity",
   "metadata": {
    "ExecuteTime": {
     "end_time": "2021-07-13T09:49:00.647731Z",
     "start_time": "2021-07-13T09:49:00.618790Z"
    }
   },
   "outputs": [],
   "source": [
    "main_df = pd.read_csv(\"train.csv\")\n",
    "test_df = pd.read_csv(\"test.csv\")\n",
    "PassengerID = test_df['PassengerId']"
   ]
  },
  {
   "cell_type": "code",
   "execution_count": 3,
   "id": "minute-chest",
   "metadata": {
    "ExecuteTime": {
     "end_time": "2021-07-13T09:49:00.678652Z",
     "start_time": "2021-07-13T09:49:00.648732Z"
    }
   },
   "outputs": [
    {
     "data": {
      "text/html": [
       "<div>\n",
       "<style scoped>\n",
       "    .dataframe tbody tr th:only-of-type {\n",
       "        vertical-align: middle;\n",
       "    }\n",
       "\n",
       "    .dataframe tbody tr th {\n",
       "        vertical-align: top;\n",
       "    }\n",
       "\n",
       "    .dataframe thead th {\n",
       "        text-align: right;\n",
       "    }\n",
       "</style>\n",
       "<table border=\"1\" class=\"dataframe\">\n",
       "  <thead>\n",
       "    <tr style=\"text-align: right;\">\n",
       "      <th></th>\n",
       "      <th>PassengerId</th>\n",
       "      <th>Survived</th>\n",
       "      <th>Pclass</th>\n",
       "      <th>Name</th>\n",
       "      <th>Sex</th>\n",
       "      <th>Age</th>\n",
       "      <th>SibSp</th>\n",
       "      <th>Parch</th>\n",
       "      <th>Ticket</th>\n",
       "      <th>Fare</th>\n",
       "      <th>Cabin</th>\n",
       "      <th>Embarked</th>\n",
       "    </tr>\n",
       "  </thead>\n",
       "  <tbody>\n",
       "    <tr>\n",
       "      <th>0</th>\n",
       "      <td>1</td>\n",
       "      <td>0</td>\n",
       "      <td>3</td>\n",
       "      <td>Braund, Mr. Owen Harris</td>\n",
       "      <td>male</td>\n",
       "      <td>22.0</td>\n",
       "      <td>1</td>\n",
       "      <td>0</td>\n",
       "      <td>A/5 21171</td>\n",
       "      <td>7.2500</td>\n",
       "      <td>NaN</td>\n",
       "      <td>S</td>\n",
       "    </tr>\n",
       "    <tr>\n",
       "      <th>1</th>\n",
       "      <td>2</td>\n",
       "      <td>1</td>\n",
       "      <td>1</td>\n",
       "      <td>Cumings, Mrs. John Bradley (Florence Briggs Th...</td>\n",
       "      <td>female</td>\n",
       "      <td>38.0</td>\n",
       "      <td>1</td>\n",
       "      <td>0</td>\n",
       "      <td>PC 17599</td>\n",
       "      <td>71.2833</td>\n",
       "      <td>C85</td>\n",
       "      <td>C</td>\n",
       "    </tr>\n",
       "    <tr>\n",
       "      <th>2</th>\n",
       "      <td>3</td>\n",
       "      <td>1</td>\n",
       "      <td>3</td>\n",
       "      <td>Heikkinen, Miss. Laina</td>\n",
       "      <td>female</td>\n",
       "      <td>26.0</td>\n",
       "      <td>0</td>\n",
       "      <td>0</td>\n",
       "      <td>STON/O2. 3101282</td>\n",
       "      <td>7.9250</td>\n",
       "      <td>NaN</td>\n",
       "      <td>S</td>\n",
       "    </tr>\n",
       "    <tr>\n",
       "      <th>3</th>\n",
       "      <td>4</td>\n",
       "      <td>1</td>\n",
       "      <td>1</td>\n",
       "      <td>Futrelle, Mrs. Jacques Heath (Lily May Peel)</td>\n",
       "      <td>female</td>\n",
       "      <td>35.0</td>\n",
       "      <td>1</td>\n",
       "      <td>0</td>\n",
       "      <td>113803</td>\n",
       "      <td>53.1000</td>\n",
       "      <td>C123</td>\n",
       "      <td>S</td>\n",
       "    </tr>\n",
       "    <tr>\n",
       "      <th>4</th>\n",
       "      <td>5</td>\n",
       "      <td>0</td>\n",
       "      <td>3</td>\n",
       "      <td>Allen, Mr. William Henry</td>\n",
       "      <td>male</td>\n",
       "      <td>35.0</td>\n",
       "      <td>0</td>\n",
       "      <td>0</td>\n",
       "      <td>373450</td>\n",
       "      <td>8.0500</td>\n",
       "      <td>NaN</td>\n",
       "      <td>S</td>\n",
       "    </tr>\n",
       "    <tr>\n",
       "      <th>...</th>\n",
       "      <td>...</td>\n",
       "      <td>...</td>\n",
       "      <td>...</td>\n",
       "      <td>...</td>\n",
       "      <td>...</td>\n",
       "      <td>...</td>\n",
       "      <td>...</td>\n",
       "      <td>...</td>\n",
       "      <td>...</td>\n",
       "      <td>...</td>\n",
       "      <td>...</td>\n",
       "      <td>...</td>\n",
       "    </tr>\n",
       "    <tr>\n",
       "      <th>886</th>\n",
       "      <td>887</td>\n",
       "      <td>0</td>\n",
       "      <td>2</td>\n",
       "      <td>Montvila, Rev. Juozas</td>\n",
       "      <td>male</td>\n",
       "      <td>27.0</td>\n",
       "      <td>0</td>\n",
       "      <td>0</td>\n",
       "      <td>211536</td>\n",
       "      <td>13.0000</td>\n",
       "      <td>NaN</td>\n",
       "      <td>S</td>\n",
       "    </tr>\n",
       "    <tr>\n",
       "      <th>887</th>\n",
       "      <td>888</td>\n",
       "      <td>1</td>\n",
       "      <td>1</td>\n",
       "      <td>Graham, Miss. Margaret Edith</td>\n",
       "      <td>female</td>\n",
       "      <td>19.0</td>\n",
       "      <td>0</td>\n",
       "      <td>0</td>\n",
       "      <td>112053</td>\n",
       "      <td>30.0000</td>\n",
       "      <td>B42</td>\n",
       "      <td>S</td>\n",
       "    </tr>\n",
       "    <tr>\n",
       "      <th>888</th>\n",
       "      <td>889</td>\n",
       "      <td>0</td>\n",
       "      <td>3</td>\n",
       "      <td>Johnston, Miss. Catherine Helen \"Carrie\"</td>\n",
       "      <td>female</td>\n",
       "      <td>NaN</td>\n",
       "      <td>1</td>\n",
       "      <td>2</td>\n",
       "      <td>W./C. 6607</td>\n",
       "      <td>23.4500</td>\n",
       "      <td>NaN</td>\n",
       "      <td>S</td>\n",
       "    </tr>\n",
       "    <tr>\n",
       "      <th>889</th>\n",
       "      <td>890</td>\n",
       "      <td>1</td>\n",
       "      <td>1</td>\n",
       "      <td>Behr, Mr. Karl Howell</td>\n",
       "      <td>male</td>\n",
       "      <td>26.0</td>\n",
       "      <td>0</td>\n",
       "      <td>0</td>\n",
       "      <td>111369</td>\n",
       "      <td>30.0000</td>\n",
       "      <td>C148</td>\n",
       "      <td>C</td>\n",
       "    </tr>\n",
       "    <tr>\n",
       "      <th>890</th>\n",
       "      <td>891</td>\n",
       "      <td>0</td>\n",
       "      <td>3</td>\n",
       "      <td>Dooley, Mr. Patrick</td>\n",
       "      <td>male</td>\n",
       "      <td>32.0</td>\n",
       "      <td>0</td>\n",
       "      <td>0</td>\n",
       "      <td>370376</td>\n",
       "      <td>7.7500</td>\n",
       "      <td>NaN</td>\n",
       "      <td>Q</td>\n",
       "    </tr>\n",
       "  </tbody>\n",
       "</table>\n",
       "<p>891 rows × 12 columns</p>\n",
       "</div>"
      ],
      "text/plain": [
       "     PassengerId  Survived  Pclass  \\\n",
       "0              1         0       3   \n",
       "1              2         1       1   \n",
       "2              3         1       3   \n",
       "3              4         1       1   \n",
       "4              5         0       3   \n",
       "..           ...       ...     ...   \n",
       "886          887         0       2   \n",
       "887          888         1       1   \n",
       "888          889         0       3   \n",
       "889          890         1       1   \n",
       "890          891         0       3   \n",
       "\n",
       "                                                  Name     Sex   Age  SibSp  \\\n",
       "0                              Braund, Mr. Owen Harris    male  22.0      1   \n",
       "1    Cumings, Mrs. John Bradley (Florence Briggs Th...  female  38.0      1   \n",
       "2                               Heikkinen, Miss. Laina  female  26.0      0   \n",
       "3         Futrelle, Mrs. Jacques Heath (Lily May Peel)  female  35.0      1   \n",
       "4                             Allen, Mr. William Henry    male  35.0      0   \n",
       "..                                                 ...     ...   ...    ...   \n",
       "886                              Montvila, Rev. Juozas    male  27.0      0   \n",
       "887                       Graham, Miss. Margaret Edith  female  19.0      0   \n",
       "888           Johnston, Miss. Catherine Helen \"Carrie\"  female   NaN      1   \n",
       "889                              Behr, Mr. Karl Howell    male  26.0      0   \n",
       "890                                Dooley, Mr. Patrick    male  32.0      0   \n",
       "\n",
       "     Parch            Ticket     Fare Cabin Embarked  \n",
       "0        0         A/5 21171   7.2500   NaN        S  \n",
       "1        0          PC 17599  71.2833   C85        C  \n",
       "2        0  STON/O2. 3101282   7.9250   NaN        S  \n",
       "3        0            113803  53.1000  C123        S  \n",
       "4        0            373450   8.0500   NaN        S  \n",
       "..     ...               ...      ...   ...      ...  \n",
       "886      0            211536  13.0000   NaN        S  \n",
       "887      0            112053  30.0000   B42        S  \n",
       "888      2        W./C. 6607  23.4500   NaN        S  \n",
       "889      0            111369  30.0000  C148        C  \n",
       "890      0            370376   7.7500   NaN        Q  \n",
       "\n",
       "[891 rows x 12 columns]"
      ]
     },
     "execution_count": 3,
     "metadata": {},
     "output_type": "execute_result"
    }
   ],
   "source": [
    "main_df"
   ]
  },
  {
   "cell_type": "code",
   "execution_count": 4,
   "id": "eight-furniture",
   "metadata": {
    "ExecuteTime": {
     "end_time": "2021-07-13T09:49:00.710568Z",
     "start_time": "2021-07-13T09:49:00.680645Z"
    }
   },
   "outputs": [
    {
     "data": {
      "text/html": [
       "<div>\n",
       "<style scoped>\n",
       "    .dataframe tbody tr th:only-of-type {\n",
       "        vertical-align: middle;\n",
       "    }\n",
       "\n",
       "    .dataframe tbody tr th {\n",
       "        vertical-align: top;\n",
       "    }\n",
       "\n",
       "    .dataframe thead th {\n",
       "        text-align: right;\n",
       "    }\n",
       "</style>\n",
       "<table border=\"1\" class=\"dataframe\">\n",
       "  <thead>\n",
       "    <tr style=\"text-align: right;\">\n",
       "      <th></th>\n",
       "      <th>PassengerId</th>\n",
       "      <th>Pclass</th>\n",
       "      <th>Name</th>\n",
       "      <th>Sex</th>\n",
       "      <th>Age</th>\n",
       "      <th>SibSp</th>\n",
       "      <th>Parch</th>\n",
       "      <th>Ticket</th>\n",
       "      <th>Fare</th>\n",
       "      <th>Cabin</th>\n",
       "      <th>Embarked</th>\n",
       "    </tr>\n",
       "  </thead>\n",
       "  <tbody>\n",
       "    <tr>\n",
       "      <th>0</th>\n",
       "      <td>892</td>\n",
       "      <td>3</td>\n",
       "      <td>Kelly, Mr. James</td>\n",
       "      <td>male</td>\n",
       "      <td>34.5</td>\n",
       "      <td>0</td>\n",
       "      <td>0</td>\n",
       "      <td>330911</td>\n",
       "      <td>7.8292</td>\n",
       "      <td>NaN</td>\n",
       "      <td>Q</td>\n",
       "    </tr>\n",
       "    <tr>\n",
       "      <th>1</th>\n",
       "      <td>893</td>\n",
       "      <td>3</td>\n",
       "      <td>Wilkes, Mrs. James (Ellen Needs)</td>\n",
       "      <td>female</td>\n",
       "      <td>47.0</td>\n",
       "      <td>1</td>\n",
       "      <td>0</td>\n",
       "      <td>363272</td>\n",
       "      <td>7.0000</td>\n",
       "      <td>NaN</td>\n",
       "      <td>S</td>\n",
       "    </tr>\n",
       "    <tr>\n",
       "      <th>2</th>\n",
       "      <td>894</td>\n",
       "      <td>2</td>\n",
       "      <td>Myles, Mr. Thomas Francis</td>\n",
       "      <td>male</td>\n",
       "      <td>62.0</td>\n",
       "      <td>0</td>\n",
       "      <td>0</td>\n",
       "      <td>240276</td>\n",
       "      <td>9.6875</td>\n",
       "      <td>NaN</td>\n",
       "      <td>Q</td>\n",
       "    </tr>\n",
       "    <tr>\n",
       "      <th>3</th>\n",
       "      <td>895</td>\n",
       "      <td>3</td>\n",
       "      <td>Wirz, Mr. Albert</td>\n",
       "      <td>male</td>\n",
       "      <td>27.0</td>\n",
       "      <td>0</td>\n",
       "      <td>0</td>\n",
       "      <td>315154</td>\n",
       "      <td>8.6625</td>\n",
       "      <td>NaN</td>\n",
       "      <td>S</td>\n",
       "    </tr>\n",
       "    <tr>\n",
       "      <th>4</th>\n",
       "      <td>896</td>\n",
       "      <td>3</td>\n",
       "      <td>Hirvonen, Mrs. Alexander (Helga E Lindqvist)</td>\n",
       "      <td>female</td>\n",
       "      <td>22.0</td>\n",
       "      <td>1</td>\n",
       "      <td>1</td>\n",
       "      <td>3101298</td>\n",
       "      <td>12.2875</td>\n",
       "      <td>NaN</td>\n",
       "      <td>S</td>\n",
       "    </tr>\n",
       "    <tr>\n",
       "      <th>...</th>\n",
       "      <td>...</td>\n",
       "      <td>...</td>\n",
       "      <td>...</td>\n",
       "      <td>...</td>\n",
       "      <td>...</td>\n",
       "      <td>...</td>\n",
       "      <td>...</td>\n",
       "      <td>...</td>\n",
       "      <td>...</td>\n",
       "      <td>...</td>\n",
       "      <td>...</td>\n",
       "    </tr>\n",
       "    <tr>\n",
       "      <th>413</th>\n",
       "      <td>1305</td>\n",
       "      <td>3</td>\n",
       "      <td>Spector, Mr. Woolf</td>\n",
       "      <td>male</td>\n",
       "      <td>NaN</td>\n",
       "      <td>0</td>\n",
       "      <td>0</td>\n",
       "      <td>A.5. 3236</td>\n",
       "      <td>8.0500</td>\n",
       "      <td>NaN</td>\n",
       "      <td>S</td>\n",
       "    </tr>\n",
       "    <tr>\n",
       "      <th>414</th>\n",
       "      <td>1306</td>\n",
       "      <td>1</td>\n",
       "      <td>Oliva y Ocana, Dona. Fermina</td>\n",
       "      <td>female</td>\n",
       "      <td>39.0</td>\n",
       "      <td>0</td>\n",
       "      <td>0</td>\n",
       "      <td>PC 17758</td>\n",
       "      <td>108.9000</td>\n",
       "      <td>C105</td>\n",
       "      <td>C</td>\n",
       "    </tr>\n",
       "    <tr>\n",
       "      <th>415</th>\n",
       "      <td>1307</td>\n",
       "      <td>3</td>\n",
       "      <td>Saether, Mr. Simon Sivertsen</td>\n",
       "      <td>male</td>\n",
       "      <td>38.5</td>\n",
       "      <td>0</td>\n",
       "      <td>0</td>\n",
       "      <td>SOTON/O.Q. 3101262</td>\n",
       "      <td>7.2500</td>\n",
       "      <td>NaN</td>\n",
       "      <td>S</td>\n",
       "    </tr>\n",
       "    <tr>\n",
       "      <th>416</th>\n",
       "      <td>1308</td>\n",
       "      <td>3</td>\n",
       "      <td>Ware, Mr. Frederick</td>\n",
       "      <td>male</td>\n",
       "      <td>NaN</td>\n",
       "      <td>0</td>\n",
       "      <td>0</td>\n",
       "      <td>359309</td>\n",
       "      <td>8.0500</td>\n",
       "      <td>NaN</td>\n",
       "      <td>S</td>\n",
       "    </tr>\n",
       "    <tr>\n",
       "      <th>417</th>\n",
       "      <td>1309</td>\n",
       "      <td>3</td>\n",
       "      <td>Peter, Master. Michael J</td>\n",
       "      <td>male</td>\n",
       "      <td>NaN</td>\n",
       "      <td>1</td>\n",
       "      <td>1</td>\n",
       "      <td>2668</td>\n",
       "      <td>22.3583</td>\n",
       "      <td>NaN</td>\n",
       "      <td>C</td>\n",
       "    </tr>\n",
       "  </tbody>\n",
       "</table>\n",
       "<p>418 rows × 11 columns</p>\n",
       "</div>"
      ],
      "text/plain": [
       "     PassengerId  Pclass                                          Name  \\\n",
       "0            892       3                              Kelly, Mr. James   \n",
       "1            893       3              Wilkes, Mrs. James (Ellen Needs)   \n",
       "2            894       2                     Myles, Mr. Thomas Francis   \n",
       "3            895       3                              Wirz, Mr. Albert   \n",
       "4            896       3  Hirvonen, Mrs. Alexander (Helga E Lindqvist)   \n",
       "..           ...     ...                                           ...   \n",
       "413         1305       3                            Spector, Mr. Woolf   \n",
       "414         1306       1                  Oliva y Ocana, Dona. Fermina   \n",
       "415         1307       3                  Saether, Mr. Simon Sivertsen   \n",
       "416         1308       3                           Ware, Mr. Frederick   \n",
       "417         1309       3                      Peter, Master. Michael J   \n",
       "\n",
       "        Sex   Age  SibSp  Parch              Ticket      Fare Cabin Embarked  \n",
       "0      male  34.5      0      0              330911    7.8292   NaN        Q  \n",
       "1    female  47.0      1      0              363272    7.0000   NaN        S  \n",
       "2      male  62.0      0      0              240276    9.6875   NaN        Q  \n",
       "3      male  27.0      0      0              315154    8.6625   NaN        S  \n",
       "4    female  22.0      1      1             3101298   12.2875   NaN        S  \n",
       "..      ...   ...    ...    ...                 ...       ...   ...      ...  \n",
       "413    male   NaN      0      0           A.5. 3236    8.0500   NaN        S  \n",
       "414  female  39.0      0      0            PC 17758  108.9000  C105        C  \n",
       "415    male  38.5      0      0  SOTON/O.Q. 3101262    7.2500   NaN        S  \n",
       "416    male   NaN      0      0              359309    8.0500   NaN        S  \n",
       "417    male   NaN      1      1                2668   22.3583   NaN        C  \n",
       "\n",
       "[418 rows x 11 columns]"
      ]
     },
     "execution_count": 4,
     "metadata": {},
     "output_type": "execute_result"
    }
   ],
   "source": [
    "test_df"
   ]
  },
  {
   "cell_type": "markdown",
   "id": "accredited-storage",
   "metadata": {},
   "source": [
    "## Dealing with NaNs"
   ]
  },
  {
   "cell_type": "code",
   "execution_count": 5,
   "id": "secret-adult",
   "metadata": {
    "ExecuteTime": {
     "end_time": "2021-07-13T09:49:00.726526Z",
     "start_time": "2021-07-13T09:49:00.711565Z"
    }
   },
   "outputs": [
    {
     "data": {
      "text/plain": [
       "PassengerId      0\n",
       "Survived         0\n",
       "Pclass           0\n",
       "Name             0\n",
       "Sex              0\n",
       "Age            177\n",
       "SibSp            0\n",
       "Parch            0\n",
       "Ticket           0\n",
       "Fare             0\n",
       "Cabin          687\n",
       "Embarked         2\n",
       "dtype: int64"
      ]
     },
     "execution_count": 5,
     "metadata": {},
     "output_type": "execute_result"
    }
   ],
   "source": [
    "main_df.isna().sum()"
   ]
  },
  {
   "cell_type": "code",
   "execution_count": 6,
   "id": "voluntary-impossible",
   "metadata": {
    "ExecuteTime": {
     "end_time": "2021-07-13T09:49:00.742480Z",
     "start_time": "2021-07-13T09:49:00.728521Z"
    }
   },
   "outputs": [
    {
     "data": {
      "text/plain": [
       "PassengerId      0\n",
       "Pclass           0\n",
       "Name             0\n",
       "Sex              0\n",
       "Age             86\n",
       "SibSp            0\n",
       "Parch            0\n",
       "Ticket           0\n",
       "Fare             1\n",
       "Cabin          327\n",
       "Embarked         0\n",
       "dtype: int64"
      ]
     },
     "execution_count": 6,
     "metadata": {},
     "output_type": "execute_result"
    }
   ],
   "source": [
    "test_df.isna().sum()"
   ]
  },
  {
   "cell_type": "code",
   "execution_count": 7,
   "id": "adequate-andrews",
   "metadata": {
    "ExecuteTime": {
     "end_time": "2021-07-13T09:49:00.758449Z",
     "start_time": "2021-07-13T09:49:00.744476Z"
    }
   },
   "outputs": [],
   "source": [
    "def get_rid_of_nans(df):\n",
    "    df['Age'].fillna(value = df['Age'].mean(), inplace = True)\n",
    "    df['Fare'].fillna(value = df['Fare'].mean(), inplace = True)\n",
    "    df['Embarked'].fillna(value = df['Embarked'].mode()[0], inplace = True)\n",
    "    df['Cabin'].fillna(value = 'NoCabin', inplace = True)\n",
    "    re_cabin_template = \"[A-Za-z]+\"\n",
    "    df['Cabin'] = df['Cabin'].apply(lambda x: re.search(re_cabin_template, x).group(0))"
   ]
  },
  {
   "cell_type": "code",
   "execution_count": 8,
   "id": "monetary-sudan",
   "metadata": {
    "ExecuteTime": {
     "end_time": "2021-07-13T09:49:00.774397Z",
     "start_time": "2021-07-13T09:49:00.763427Z"
    }
   },
   "outputs": [],
   "source": [
    "get_rid_of_nans(main_df)\n",
    "get_rid_of_nans(test_df)"
   ]
  },
  {
   "cell_type": "code",
   "execution_count": 9,
   "id": "seeing-hughes",
   "metadata": {
    "ExecuteTime": {
     "end_time": "2021-07-13T09:49:00.790353Z",
     "start_time": "2021-07-13T09:49:00.778387Z"
    }
   },
   "outputs": [
    {
     "data": {
      "text/plain": [
       "PassengerId    0\n",
       "Survived       0\n",
       "Pclass         0\n",
       "Name           0\n",
       "Sex            0\n",
       "Age            0\n",
       "SibSp          0\n",
       "Parch          0\n",
       "Ticket         0\n",
       "Fare           0\n",
       "Cabin          0\n",
       "Embarked       0\n",
       "dtype: int64"
      ]
     },
     "execution_count": 9,
     "metadata": {},
     "output_type": "execute_result"
    }
   ],
   "source": [
    "main_df.isna().sum()"
   ]
  },
  {
   "cell_type": "markdown",
   "id": "honey-corpus",
   "metadata": {},
   "source": [
    "## Feature engineering"
   ]
  },
  {
   "cell_type": "code",
   "execution_count": 10,
   "id": "distant-broad",
   "metadata": {
    "ExecuteTime": {
     "end_time": "2021-07-13T09:49:00.805520Z",
     "start_time": "2021-07-13T09:49:00.794342Z"
    }
   },
   "outputs": [],
   "source": [
    "def make_title(df):\n",
    "    re_title_template = '([A-Za-z]+)\\.'\n",
    "    df['Title'] = df.Name.apply(lambda x: re.search(re_title_template, x).group(1))"
   ]
  },
  {
   "cell_type": "code",
   "execution_count": 11,
   "id": "traditional-religious",
   "metadata": {
    "ExecuteTime": {
     "end_time": "2021-07-13T09:49:00.821476Z",
     "start_time": "2021-07-13T09:49:00.807514Z"
    }
   },
   "outputs": [],
   "source": [
    "make_title(main_df)\n",
    "make_title(test_df)"
   ]
  },
  {
   "cell_type": "code",
   "execution_count": 12,
   "id": "purple-begin",
   "metadata": {
    "ExecuteTime": {
     "end_time": "2021-07-13T09:49:00.837434Z",
     "start_time": "2021-07-13T09:49:00.825469Z"
    }
   },
   "outputs": [
    {
     "data": {
      "text/plain": [
       "Mr          517\n",
       "Miss        182\n",
       "Mrs         125\n",
       "Master       40\n",
       "Dr            7\n",
       "Rev           6\n",
       "Major         2\n",
       "Col           2\n",
       "Mlle          2\n",
       "Lady          1\n",
       "Capt          1\n",
       "Ms            1\n",
       "Don           1\n",
       "Mme           1\n",
       "Sir           1\n",
       "Countess      1\n",
       "Jonkheer      1\n",
       "Name: Title, dtype: int64"
      ]
     },
     "execution_count": 12,
     "metadata": {},
     "output_type": "execute_result"
    }
   ],
   "source": [
    "main_df.Title.value_counts()"
   ]
  },
  {
   "cell_type": "code",
   "execution_count": 13,
   "id": "diagnostic-labor",
   "metadata": {
    "ExecuteTime": {
     "end_time": "2021-07-13T09:49:00.853431Z",
     "start_time": "2021-07-13T09:49:00.841436Z"
    }
   },
   "outputs": [],
   "source": [
    "def replace_title_name(x):\n",
    "    title = x['Title']\n",
    "    man_mr_titles = ['Don', 'Major', 'Capt', 'Jonkheer', 'Rev', 'Col', 'Sir']\n",
    "    woman_mrs_titles = ['Countess', 'Mme','Dona']\n",
    "    woman_miss_titles = ['Mlle', 'Ms','Lady']\n",
    "    if title in man_mr_titles:\n",
    "        return 'Mr'\n",
    "    elif title in woman_mrs_titles:\n",
    "        return 'Mrs'\n",
    "    elif title in woman_miss_titles:\n",
    "        return 'Miss'\n",
    "    elif title =='Dr':\n",
    "        if x['Sex'] == 'Male':\n",
    "            return 'Mr'\n",
    "        else:\n",
    "            return 'Mrs'\n",
    "    else:\n",
    "        return title"
   ]
  },
  {
   "cell_type": "code",
   "execution_count": 14,
   "id": "dressed-french",
   "metadata": {
    "ExecuteTime": {
     "end_time": "2021-07-13T09:49:00.884848Z",
     "start_time": "2021-07-13T09:49:00.856426Z"
    }
   },
   "outputs": [
    {
     "data": {
      "text/html": [
       "<div>\n",
       "<style scoped>\n",
       "    .dataframe tbody tr th:only-of-type {\n",
       "        vertical-align: middle;\n",
       "    }\n",
       "\n",
       "    .dataframe tbody tr th {\n",
       "        vertical-align: top;\n",
       "    }\n",
       "\n",
       "    .dataframe thead th {\n",
       "        text-align: right;\n",
       "    }\n",
       "</style>\n",
       "<table border=\"1\" class=\"dataframe\">\n",
       "  <thead>\n",
       "    <tr style=\"text-align: right;\">\n",
       "      <th></th>\n",
       "      <th>PassengerId</th>\n",
       "      <th>Pclass</th>\n",
       "      <th>Name</th>\n",
       "      <th>Sex</th>\n",
       "      <th>Age</th>\n",
       "      <th>SibSp</th>\n",
       "      <th>Parch</th>\n",
       "      <th>Ticket</th>\n",
       "      <th>Fare</th>\n",
       "      <th>Cabin</th>\n",
       "      <th>Embarked</th>\n",
       "      <th>Title</th>\n",
       "    </tr>\n",
       "  </thead>\n",
       "  <tbody>\n",
       "    <tr>\n",
       "      <th>0</th>\n",
       "      <td>892</td>\n",
       "      <td>3</td>\n",
       "      <td>Kelly, Mr. James</td>\n",
       "      <td>male</td>\n",
       "      <td>34.50000</td>\n",
       "      <td>0</td>\n",
       "      <td>0</td>\n",
       "      <td>330911</td>\n",
       "      <td>7.8292</td>\n",
       "      <td>NoCabin</td>\n",
       "      <td>Q</td>\n",
       "      <td>Mr</td>\n",
       "    </tr>\n",
       "    <tr>\n",
       "      <th>1</th>\n",
       "      <td>893</td>\n",
       "      <td>3</td>\n",
       "      <td>Wilkes, Mrs. James (Ellen Needs)</td>\n",
       "      <td>female</td>\n",
       "      <td>47.00000</td>\n",
       "      <td>1</td>\n",
       "      <td>0</td>\n",
       "      <td>363272</td>\n",
       "      <td>7.0000</td>\n",
       "      <td>NoCabin</td>\n",
       "      <td>S</td>\n",
       "      <td>Mrs</td>\n",
       "    </tr>\n",
       "    <tr>\n",
       "      <th>2</th>\n",
       "      <td>894</td>\n",
       "      <td>2</td>\n",
       "      <td>Myles, Mr. Thomas Francis</td>\n",
       "      <td>male</td>\n",
       "      <td>62.00000</td>\n",
       "      <td>0</td>\n",
       "      <td>0</td>\n",
       "      <td>240276</td>\n",
       "      <td>9.6875</td>\n",
       "      <td>NoCabin</td>\n",
       "      <td>Q</td>\n",
       "      <td>Mr</td>\n",
       "    </tr>\n",
       "    <tr>\n",
       "      <th>3</th>\n",
       "      <td>895</td>\n",
       "      <td>3</td>\n",
       "      <td>Wirz, Mr. Albert</td>\n",
       "      <td>male</td>\n",
       "      <td>27.00000</td>\n",
       "      <td>0</td>\n",
       "      <td>0</td>\n",
       "      <td>315154</td>\n",
       "      <td>8.6625</td>\n",
       "      <td>NoCabin</td>\n",
       "      <td>S</td>\n",
       "      <td>Mr</td>\n",
       "    </tr>\n",
       "    <tr>\n",
       "      <th>4</th>\n",
       "      <td>896</td>\n",
       "      <td>3</td>\n",
       "      <td>Hirvonen, Mrs. Alexander (Helga E Lindqvist)</td>\n",
       "      <td>female</td>\n",
       "      <td>22.00000</td>\n",
       "      <td>1</td>\n",
       "      <td>1</td>\n",
       "      <td>3101298</td>\n",
       "      <td>12.2875</td>\n",
       "      <td>NoCabin</td>\n",
       "      <td>S</td>\n",
       "      <td>Mrs</td>\n",
       "    </tr>\n",
       "    <tr>\n",
       "      <th>...</th>\n",
       "      <td>...</td>\n",
       "      <td>...</td>\n",
       "      <td>...</td>\n",
       "      <td>...</td>\n",
       "      <td>...</td>\n",
       "      <td>...</td>\n",
       "      <td>...</td>\n",
       "      <td>...</td>\n",
       "      <td>...</td>\n",
       "      <td>...</td>\n",
       "      <td>...</td>\n",
       "      <td>...</td>\n",
       "    </tr>\n",
       "    <tr>\n",
       "      <th>413</th>\n",
       "      <td>1305</td>\n",
       "      <td>3</td>\n",
       "      <td>Spector, Mr. Woolf</td>\n",
       "      <td>male</td>\n",
       "      <td>30.27259</td>\n",
       "      <td>0</td>\n",
       "      <td>0</td>\n",
       "      <td>A.5. 3236</td>\n",
       "      <td>8.0500</td>\n",
       "      <td>NoCabin</td>\n",
       "      <td>S</td>\n",
       "      <td>Mr</td>\n",
       "    </tr>\n",
       "    <tr>\n",
       "      <th>414</th>\n",
       "      <td>1306</td>\n",
       "      <td>1</td>\n",
       "      <td>Oliva y Ocana, Dona. Fermina</td>\n",
       "      <td>female</td>\n",
       "      <td>39.00000</td>\n",
       "      <td>0</td>\n",
       "      <td>0</td>\n",
       "      <td>PC 17758</td>\n",
       "      <td>108.9000</td>\n",
       "      <td>C</td>\n",
       "      <td>C</td>\n",
       "      <td>Dona</td>\n",
       "    </tr>\n",
       "    <tr>\n",
       "      <th>415</th>\n",
       "      <td>1307</td>\n",
       "      <td>3</td>\n",
       "      <td>Saether, Mr. Simon Sivertsen</td>\n",
       "      <td>male</td>\n",
       "      <td>38.50000</td>\n",
       "      <td>0</td>\n",
       "      <td>0</td>\n",
       "      <td>SOTON/O.Q. 3101262</td>\n",
       "      <td>7.2500</td>\n",
       "      <td>NoCabin</td>\n",
       "      <td>S</td>\n",
       "      <td>Mr</td>\n",
       "    </tr>\n",
       "    <tr>\n",
       "      <th>416</th>\n",
       "      <td>1308</td>\n",
       "      <td>3</td>\n",
       "      <td>Ware, Mr. Frederick</td>\n",
       "      <td>male</td>\n",
       "      <td>30.27259</td>\n",
       "      <td>0</td>\n",
       "      <td>0</td>\n",
       "      <td>359309</td>\n",
       "      <td>8.0500</td>\n",
       "      <td>NoCabin</td>\n",
       "      <td>S</td>\n",
       "      <td>Mr</td>\n",
       "    </tr>\n",
       "    <tr>\n",
       "      <th>417</th>\n",
       "      <td>1309</td>\n",
       "      <td>3</td>\n",
       "      <td>Peter, Master. Michael J</td>\n",
       "      <td>male</td>\n",
       "      <td>30.27259</td>\n",
       "      <td>1</td>\n",
       "      <td>1</td>\n",
       "      <td>2668</td>\n",
       "      <td>22.3583</td>\n",
       "      <td>NoCabin</td>\n",
       "      <td>C</td>\n",
       "      <td>Master</td>\n",
       "    </tr>\n",
       "  </tbody>\n",
       "</table>\n",
       "<p>418 rows × 12 columns</p>\n",
       "</div>"
      ],
      "text/plain": [
       "     PassengerId  Pclass                                          Name  \\\n",
       "0            892       3                              Kelly, Mr. James   \n",
       "1            893       3              Wilkes, Mrs. James (Ellen Needs)   \n",
       "2            894       2                     Myles, Mr. Thomas Francis   \n",
       "3            895       3                              Wirz, Mr. Albert   \n",
       "4            896       3  Hirvonen, Mrs. Alexander (Helga E Lindqvist)   \n",
       "..           ...     ...                                           ...   \n",
       "413         1305       3                            Spector, Mr. Woolf   \n",
       "414         1306       1                  Oliva y Ocana, Dona. Fermina   \n",
       "415         1307       3                  Saether, Mr. Simon Sivertsen   \n",
       "416         1308       3                           Ware, Mr. Frederick   \n",
       "417         1309       3                      Peter, Master. Michael J   \n",
       "\n",
       "        Sex       Age  SibSp  Parch              Ticket      Fare    Cabin  \\\n",
       "0      male  34.50000      0      0              330911    7.8292  NoCabin   \n",
       "1    female  47.00000      1      0              363272    7.0000  NoCabin   \n",
       "2      male  62.00000      0      0              240276    9.6875  NoCabin   \n",
       "3      male  27.00000      0      0              315154    8.6625  NoCabin   \n",
       "4    female  22.00000      1      1             3101298   12.2875  NoCabin   \n",
       "..      ...       ...    ...    ...                 ...       ...      ...   \n",
       "413    male  30.27259      0      0           A.5. 3236    8.0500  NoCabin   \n",
       "414  female  39.00000      0      0            PC 17758  108.9000        C   \n",
       "415    male  38.50000      0      0  SOTON/O.Q. 3101262    7.2500  NoCabin   \n",
       "416    male  30.27259      0      0              359309    8.0500  NoCabin   \n",
       "417    male  30.27259      1      1                2668   22.3583  NoCabin   \n",
       "\n",
       "    Embarked   Title  \n",
       "0          Q      Mr  \n",
       "1          S     Mrs  \n",
       "2          Q      Mr  \n",
       "3          S      Mr  \n",
       "4          S     Mrs  \n",
       "..       ...     ...  \n",
       "413        S      Mr  \n",
       "414        C    Dona  \n",
       "415        S      Mr  \n",
       "416        S      Mr  \n",
       "417        C  Master  \n",
       "\n",
       "[418 rows x 12 columns]"
      ]
     },
     "execution_count": 14,
     "metadata": {},
     "output_type": "execute_result"
    }
   ],
   "source": [
    "test_df"
   ]
  },
  {
   "cell_type": "code",
   "execution_count": 15,
   "id": "familiar-bristol",
   "metadata": {
    "ExecuteTime": {
     "end_time": "2021-07-13T09:49:00.915758Z",
     "start_time": "2021-07-13T09:49:00.886837Z"
    }
   },
   "outputs": [],
   "source": [
    "main_df['Title'] = main_df.apply(replace_title_name, axis = 1)\n",
    "test_df['Title'] = test_df.apply(replace_title_name, axis = 1)"
   ]
  },
  {
   "cell_type": "code",
   "execution_count": 16,
   "id": "statutory-drama",
   "metadata": {
    "ExecuteTime": {
     "end_time": "2021-07-13T09:49:00.931715Z",
     "start_time": "2021-07-13T09:49:00.917755Z"
    }
   },
   "outputs": [
    {
     "data": {
      "text/plain": [
       "Mr        531\n",
       "Miss      186\n",
       "Mrs       134\n",
       "Master     40\n",
       "Name: Title, dtype: int64"
      ]
     },
     "execution_count": 16,
     "metadata": {},
     "output_type": "execute_result"
    }
   ],
   "source": [
    "main_df.Title.value_counts()"
   ]
  },
  {
   "cell_type": "code",
   "execution_count": 17,
   "id": "driven-vienna",
   "metadata": {
    "ExecuteTime": {
     "end_time": "2021-07-13T09:49:00.946684Z",
     "start_time": "2021-07-13T09:49:00.932726Z"
    }
   },
   "outputs": [
    {
     "data": {
      "text/plain": [
       "Mr        244\n",
       "Miss       79\n",
       "Mrs        74\n",
       "Master     21\n",
       "Name: Title, dtype: int64"
      ]
     },
     "execution_count": 17,
     "metadata": {},
     "output_type": "execute_result"
    }
   ],
   "source": [
    "test_df.Title.value_counts()"
   ]
  },
  {
   "cell_type": "code",
   "execution_count": 18,
   "id": "certified-batman",
   "metadata": {
    "ExecuteTime": {
     "end_time": "2021-07-13T09:49:00.962644Z",
     "start_time": "2021-07-13T09:49:00.948677Z"
    }
   },
   "outputs": [],
   "source": [
    "def make_features(df):\n",
    "    children_with_nanny = (df['Age']<18) & (df['Parch']==0)\n",
    "    df['Family_Size'] = df['SibSp'] + df['Parch']\n",
    "    # children without parents travell with nanny\n",
    "    df.Family_Size[children_with_nanny] = df.apply(lambda x: x['SibSp'] + 1, axis = 1)\n",
    "    # family size and the person himself\n",
    "    df['Fare_Per_Person'] = df['Fare'] / (df['Family_Size'] + 1)\n",
    "    df['Age*Class'] = df['Age'] * df['Pclass']"
   ]
  },
  {
   "cell_type": "code",
   "execution_count": 19,
   "id": "automatic-radiation",
   "metadata": {
    "ExecuteTime": {
     "end_time": "2021-07-13T09:49:01.010512Z",
     "start_time": "2021-07-13T09:49:00.963641Z"
    }
   },
   "outputs": [
    {
     "name": "stderr",
     "output_type": "stream",
     "text": [
      "<ipython-input-18-e57317e3a635>:5: SettingWithCopyWarning: \n",
      "A value is trying to be set on a copy of a slice from a DataFrame\n",
      "\n",
      "See the caveats in the documentation: https://pandas.pydata.org/pandas-docs/stable/user_guide/indexing.html#returning-a-view-versus-a-copy\n",
      "  df.Family_Size[children_with_nanny] = df.apply(lambda x: x['SibSp'] + 1, axis = 1)\n",
      "<ipython-input-18-e57317e3a635>:5: SettingWithCopyWarning: \n",
      "A value is trying to be set on a copy of a slice from a DataFrame\n",
      "\n",
      "See the caveats in the documentation: https://pandas.pydata.org/pandas-docs/stable/user_guide/indexing.html#returning-a-view-versus-a-copy\n",
      "  df.Family_Size[children_with_nanny] = df.apply(lambda x: x['SibSp'] + 1, axis = 1)\n"
     ]
    }
   ],
   "source": [
    "make_features(main_df)\n",
    "make_features(test_df)"
   ]
  },
  {
   "cell_type": "code",
   "execution_count": 20,
   "id": "progressive-establishment",
   "metadata": {
    "ExecuteTime": {
     "end_time": "2021-07-13T09:49:01.025475Z",
     "start_time": "2021-07-13T09:49:01.011513Z"
    }
   },
   "outputs": [],
   "source": [
    "def drop_columns(df):\n",
    "    columns_to_drop = ['PassengerId', 'Ticket', 'Embarked','Name']\n",
    "    df.drop(columns = columns_to_drop, inplace = True)\n",
    "#     columns_to_drop = ['SibSp', 'Parch', 'Fare']\n",
    "#     df.drop(columns = columns_to_drop, inplace = True)"
   ]
  },
  {
   "cell_type": "code",
   "execution_count": 21,
   "id": "moderate-technician",
   "metadata": {
    "ExecuteTime": {
     "end_time": "2021-07-13T09:49:01.041432Z",
     "start_time": "2021-07-13T09:49:01.027471Z"
    }
   },
   "outputs": [],
   "source": [
    "drop_columns(main_df)\n",
    "drop_columns(test_df)"
   ]
  },
  {
   "cell_type": "markdown",
   "id": "informational-stuart",
   "metadata": {},
   "source": [
    "## Data preprocessing"
   ]
  },
  {
   "cell_type": "code",
   "execution_count": 22,
   "id": "several-royalty",
   "metadata": {
    "ExecuteTime": {
     "end_time": "2021-07-13T09:49:01.056725Z",
     "start_time": "2021-07-13T09:49:01.042432Z"
    }
   },
   "outputs": [],
   "source": [
    "rand_state = 200"
   ]
  },
  {
   "cell_type": "code",
   "execution_count": 23,
   "id": "bigger-cleanup",
   "metadata": {
    "ExecuteTime": {
     "end_time": "2021-07-13T09:49:01.088639Z",
     "start_time": "2021-07-13T09:49:01.059718Z"
    }
   },
   "outputs": [
    {
     "data": {
      "text/html": [
       "<div>\n",
       "<style scoped>\n",
       "    .dataframe tbody tr th:only-of-type {\n",
       "        vertical-align: middle;\n",
       "    }\n",
       "\n",
       "    .dataframe tbody tr th {\n",
       "        vertical-align: top;\n",
       "    }\n",
       "\n",
       "    .dataframe thead th {\n",
       "        text-align: right;\n",
       "    }\n",
       "</style>\n",
       "<table border=\"1\" class=\"dataframe\">\n",
       "  <thead>\n",
       "    <tr style=\"text-align: right;\">\n",
       "      <th></th>\n",
       "      <th>Survived</th>\n",
       "      <th>Pclass</th>\n",
       "      <th>Sex</th>\n",
       "      <th>Age</th>\n",
       "      <th>SibSp</th>\n",
       "      <th>Parch</th>\n",
       "      <th>Fare</th>\n",
       "      <th>Cabin</th>\n",
       "      <th>Title</th>\n",
       "      <th>Family_Size</th>\n",
       "      <th>Fare_Per_Person</th>\n",
       "      <th>Age*Class</th>\n",
       "    </tr>\n",
       "  </thead>\n",
       "  <tbody>\n",
       "    <tr>\n",
       "      <th>0</th>\n",
       "      <td>0</td>\n",
       "      <td>3</td>\n",
       "      <td>male</td>\n",
       "      <td>22.000000</td>\n",
       "      <td>1</td>\n",
       "      <td>0</td>\n",
       "      <td>7.2500</td>\n",
       "      <td>NoCabin</td>\n",
       "      <td>Mr</td>\n",
       "      <td>1</td>\n",
       "      <td>3.62500</td>\n",
       "      <td>66.000000</td>\n",
       "    </tr>\n",
       "    <tr>\n",
       "      <th>1</th>\n",
       "      <td>1</td>\n",
       "      <td>1</td>\n",
       "      <td>female</td>\n",
       "      <td>38.000000</td>\n",
       "      <td>1</td>\n",
       "      <td>0</td>\n",
       "      <td>71.2833</td>\n",
       "      <td>C</td>\n",
       "      <td>Mrs</td>\n",
       "      <td>1</td>\n",
       "      <td>35.64165</td>\n",
       "      <td>38.000000</td>\n",
       "    </tr>\n",
       "    <tr>\n",
       "      <th>2</th>\n",
       "      <td>1</td>\n",
       "      <td>3</td>\n",
       "      <td>female</td>\n",
       "      <td>26.000000</td>\n",
       "      <td>0</td>\n",
       "      <td>0</td>\n",
       "      <td>7.9250</td>\n",
       "      <td>NoCabin</td>\n",
       "      <td>Miss</td>\n",
       "      <td>0</td>\n",
       "      <td>7.92500</td>\n",
       "      <td>78.000000</td>\n",
       "    </tr>\n",
       "    <tr>\n",
       "      <th>3</th>\n",
       "      <td>1</td>\n",
       "      <td>1</td>\n",
       "      <td>female</td>\n",
       "      <td>35.000000</td>\n",
       "      <td>1</td>\n",
       "      <td>0</td>\n",
       "      <td>53.1000</td>\n",
       "      <td>C</td>\n",
       "      <td>Mrs</td>\n",
       "      <td>1</td>\n",
       "      <td>26.55000</td>\n",
       "      <td>35.000000</td>\n",
       "    </tr>\n",
       "    <tr>\n",
       "      <th>4</th>\n",
       "      <td>0</td>\n",
       "      <td>3</td>\n",
       "      <td>male</td>\n",
       "      <td>35.000000</td>\n",
       "      <td>0</td>\n",
       "      <td>0</td>\n",
       "      <td>8.0500</td>\n",
       "      <td>NoCabin</td>\n",
       "      <td>Mr</td>\n",
       "      <td>0</td>\n",
       "      <td>8.05000</td>\n",
       "      <td>105.000000</td>\n",
       "    </tr>\n",
       "    <tr>\n",
       "      <th>...</th>\n",
       "      <td>...</td>\n",
       "      <td>...</td>\n",
       "      <td>...</td>\n",
       "      <td>...</td>\n",
       "      <td>...</td>\n",
       "      <td>...</td>\n",
       "      <td>...</td>\n",
       "      <td>...</td>\n",
       "      <td>...</td>\n",
       "      <td>...</td>\n",
       "      <td>...</td>\n",
       "      <td>...</td>\n",
       "    </tr>\n",
       "    <tr>\n",
       "      <th>886</th>\n",
       "      <td>0</td>\n",
       "      <td>2</td>\n",
       "      <td>male</td>\n",
       "      <td>27.000000</td>\n",
       "      <td>0</td>\n",
       "      <td>0</td>\n",
       "      <td>13.0000</td>\n",
       "      <td>NoCabin</td>\n",
       "      <td>Mr</td>\n",
       "      <td>0</td>\n",
       "      <td>13.00000</td>\n",
       "      <td>54.000000</td>\n",
       "    </tr>\n",
       "    <tr>\n",
       "      <th>887</th>\n",
       "      <td>1</td>\n",
       "      <td>1</td>\n",
       "      <td>female</td>\n",
       "      <td>19.000000</td>\n",
       "      <td>0</td>\n",
       "      <td>0</td>\n",
       "      <td>30.0000</td>\n",
       "      <td>B</td>\n",
       "      <td>Miss</td>\n",
       "      <td>0</td>\n",
       "      <td>30.00000</td>\n",
       "      <td>19.000000</td>\n",
       "    </tr>\n",
       "    <tr>\n",
       "      <th>888</th>\n",
       "      <td>0</td>\n",
       "      <td>3</td>\n",
       "      <td>female</td>\n",
       "      <td>29.699118</td>\n",
       "      <td>1</td>\n",
       "      <td>2</td>\n",
       "      <td>23.4500</td>\n",
       "      <td>NoCabin</td>\n",
       "      <td>Miss</td>\n",
       "      <td>3</td>\n",
       "      <td>5.86250</td>\n",
       "      <td>89.097353</td>\n",
       "    </tr>\n",
       "    <tr>\n",
       "      <th>889</th>\n",
       "      <td>1</td>\n",
       "      <td>1</td>\n",
       "      <td>male</td>\n",
       "      <td>26.000000</td>\n",
       "      <td>0</td>\n",
       "      <td>0</td>\n",
       "      <td>30.0000</td>\n",
       "      <td>C</td>\n",
       "      <td>Mr</td>\n",
       "      <td>0</td>\n",
       "      <td>30.00000</td>\n",
       "      <td>26.000000</td>\n",
       "    </tr>\n",
       "    <tr>\n",
       "      <th>890</th>\n",
       "      <td>0</td>\n",
       "      <td>3</td>\n",
       "      <td>male</td>\n",
       "      <td>32.000000</td>\n",
       "      <td>0</td>\n",
       "      <td>0</td>\n",
       "      <td>7.7500</td>\n",
       "      <td>NoCabin</td>\n",
       "      <td>Mr</td>\n",
       "      <td>0</td>\n",
       "      <td>7.75000</td>\n",
       "      <td>96.000000</td>\n",
       "    </tr>\n",
       "  </tbody>\n",
       "</table>\n",
       "<p>891 rows × 12 columns</p>\n",
       "</div>"
      ],
      "text/plain": [
       "     Survived  Pclass     Sex        Age  SibSp  Parch     Fare    Cabin  \\\n",
       "0           0       3    male  22.000000      1      0   7.2500  NoCabin   \n",
       "1           1       1  female  38.000000      1      0  71.2833        C   \n",
       "2           1       3  female  26.000000      0      0   7.9250  NoCabin   \n",
       "3           1       1  female  35.000000      1      0  53.1000        C   \n",
       "4           0       3    male  35.000000      0      0   8.0500  NoCabin   \n",
       "..        ...     ...     ...        ...    ...    ...      ...      ...   \n",
       "886         0       2    male  27.000000      0      0  13.0000  NoCabin   \n",
       "887         1       1  female  19.000000      0      0  30.0000        B   \n",
       "888         0       3  female  29.699118      1      2  23.4500  NoCabin   \n",
       "889         1       1    male  26.000000      0      0  30.0000        C   \n",
       "890         0       3    male  32.000000      0      0   7.7500  NoCabin   \n",
       "\n",
       "    Title  Family_Size  Fare_Per_Person   Age*Class  \n",
       "0      Mr            1          3.62500   66.000000  \n",
       "1     Mrs            1         35.64165   38.000000  \n",
       "2    Miss            0          7.92500   78.000000  \n",
       "3     Mrs            1         26.55000   35.000000  \n",
       "4      Mr            0          8.05000  105.000000  \n",
       "..    ...          ...              ...         ...  \n",
       "886    Mr            0         13.00000   54.000000  \n",
       "887  Miss            0         30.00000   19.000000  \n",
       "888  Miss            3          5.86250   89.097353  \n",
       "889    Mr            0         30.00000   26.000000  \n",
       "890    Mr            0          7.75000   96.000000  \n",
       "\n",
       "[891 rows x 12 columns]"
      ]
     },
     "execution_count": 23,
     "metadata": {},
     "output_type": "execute_result"
    }
   ],
   "source": [
    "main_df"
   ]
  },
  {
   "cell_type": "code",
   "execution_count": 24,
   "id": "narrow-distribution",
   "metadata": {
    "ExecuteTime": {
     "end_time": "2021-07-13T09:49:01.104596Z",
     "start_time": "2021-07-13T09:49:01.092632Z"
    }
   },
   "outputs": [
    {
     "data": {
      "text/plain": [
       "Survived             int64\n",
       "Pclass               int64\n",
       "Sex                 object\n",
       "Age                float64\n",
       "SibSp                int64\n",
       "Parch                int64\n",
       "Fare               float64\n",
       "Cabin               object\n",
       "Title               object\n",
       "Family_Size          int64\n",
       "Fare_Per_Person    float64\n",
       "Age*Class          float64\n",
       "dtype: object"
      ]
     },
     "execution_count": 24,
     "metadata": {},
     "output_type": "execute_result"
    }
   ],
   "source": [
    "main_df.dtypes"
   ]
  },
  {
   "cell_type": "code",
   "execution_count": 25,
   "id": "pursuant-asthma",
   "metadata": {
    "ExecuteTime": {
     "end_time": "2021-07-13T09:49:01.120553Z",
     "start_time": "2021-07-13T09:49:01.108589Z"
    }
   },
   "outputs": [],
   "source": [
    "def encoding_columns(df):\n",
    "    LE = LabelEncoder()\n",
    "    for feature in df.select_dtypes(include = ['object']):\n",
    "        df[feature] = LE.fit_transform(df[feature])\n",
    "    return "
   ]
  },
  {
   "cell_type": "code",
   "execution_count": 26,
   "id": "unexpected-hammer",
   "metadata": {
    "ExecuteTime": {
     "end_time": "2021-07-13T09:49:01.151983Z",
     "start_time": "2021-07-13T09:49:01.122558Z"
    }
   },
   "outputs": [],
   "source": [
    "encoding_columns(main_df)\n",
    "encoding_columns(test_df)"
   ]
  },
  {
   "cell_type": "code",
   "execution_count": 27,
   "id": "inside-captain",
   "metadata": {
    "ExecuteTime": {
     "end_time": "2021-07-13T09:49:01.167942Z",
     "start_time": "2021-07-13T09:49:01.152982Z"
    }
   },
   "outputs": [],
   "source": [
    "train_data, valid_data, train_value, valid_value  = train_test_split(main_df.drop(columns = ['Survived']), main_df['Survived'], test_size = 0.2, random_state = rand_state, shuffle = True)"
   ]
  },
  {
   "cell_type": "markdown",
   "id": "mature-france",
   "metadata": {},
   "source": [
    "## Building and train ML Model"
   ]
  },
  {
   "cell_type": "code",
   "execution_count": 28,
   "id": "favorite-glass",
   "metadata": {
    "ExecuteTime": {
     "end_time": "2021-07-13T09:49:01.183902Z",
     "start_time": "2021-07-13T09:49:01.169935Z"
    }
   },
   "outputs": [],
   "source": [
    "def get_ml_model():\n",
    "    tuned_parameters = [{'n_estimators': [100, 200, 300, 500],\n",
    "                     'max_depth': [5,7,9,12,15,18], 'max_samples': [100, 150, 200]}]\n",
    "    # RFC = RandomForestClassifier(n_estimators = 100, max_depth = 3, min_samples_split = 10, min_samples_leaf = 5, random_state = rand_state, max_samples = 200)\n",
    "    Random_Forest = RandomForestClassifier(random_state = rand_state, min_samples_split = 10, min_samples_leaf = 5, criterion = 'entropy')\n",
    "    RFC = GridSearchCV(Random_Forest, tuned_parameters)\n",
    "    return RFC"
   ]
  },
  {
   "cell_type": "code",
   "execution_count": 29,
   "id": "synthetic-tomato",
   "metadata": {
    "ExecuteTime": {
     "end_time": "2021-07-13T09:49:01.199926Z",
     "start_time": "2021-07-13T09:49:01.184897Z"
    }
   },
   "outputs": [],
   "source": [
    "RFC = get_ml_model()"
   ]
  },
  {
   "cell_type": "code",
   "execution_count": 30,
   "id": "numerous-space",
   "metadata": {
    "ExecuteTime": {
     "end_time": "2021-07-13T09:51:08.260606Z",
     "start_time": "2021-07-13T09:49:01.200915Z"
    }
   },
   "outputs": [
    {
     "data": {
      "text/plain": [
       "GridSearchCV(estimator=RandomForestClassifier(criterion='entropy',\n",
       "                                              min_samples_leaf=5,\n",
       "                                              min_samples_split=10,\n",
       "                                              random_state=200),\n",
       "             param_grid=[{'max_depth': [5, 7, 9, 12, 15, 18],\n",
       "                          'max_samples': [100, 150, 200],\n",
       "                          'n_estimators': [100, 200, 300, 500]}])"
      ]
     },
     "execution_count": 30,
     "metadata": {},
     "output_type": "execute_result"
    }
   ],
   "source": [
    "RFC.fit(train_data, train_value)"
   ]
  },
  {
   "cell_type": "code",
   "execution_count": 31,
   "id": "overall-serve",
   "metadata": {
    "ExecuteTime": {
     "end_time": "2021-07-13T09:51:08.323305Z",
     "start_time": "2021-07-13T09:51:08.261604Z"
    }
   },
   "outputs": [],
   "source": [
    "value_predicted = RFC.predict(valid_data)"
   ]
  },
  {
   "cell_type": "markdown",
   "id": "thirty-exemption",
   "metadata": {},
   "source": [
    "## Wriring results to CSV file submission"
   ]
  },
  {
   "cell_type": "code",
   "execution_count": 32,
   "id": "sudden-cologne",
   "metadata": {
    "ExecuteTime": {
     "end_time": "2021-07-13T09:51:08.355097Z",
     "start_time": "2021-07-13T09:51:08.324178Z"
    }
   },
   "outputs": [
    {
     "data": {
      "text/html": [
       "<div>\n",
       "<style scoped>\n",
       "    .dataframe tbody tr th:only-of-type {\n",
       "        vertical-align: middle;\n",
       "    }\n",
       "\n",
       "    .dataframe tbody tr th {\n",
       "        vertical-align: top;\n",
       "    }\n",
       "\n",
       "    .dataframe thead th {\n",
       "        text-align: right;\n",
       "    }\n",
       "</style>\n",
       "<table border=\"1\" class=\"dataframe\">\n",
       "  <thead>\n",
       "    <tr style=\"text-align: right;\">\n",
       "      <th></th>\n",
       "      <th>Pclass</th>\n",
       "      <th>Sex</th>\n",
       "      <th>Age</th>\n",
       "      <th>SibSp</th>\n",
       "      <th>Parch</th>\n",
       "      <th>Fare</th>\n",
       "      <th>Cabin</th>\n",
       "      <th>Title</th>\n",
       "      <th>Family_Size</th>\n",
       "      <th>Fare_Per_Person</th>\n",
       "      <th>Age*Class</th>\n",
       "    </tr>\n",
       "  </thead>\n",
       "  <tbody>\n",
       "    <tr>\n",
       "      <th>0</th>\n",
       "      <td>3</td>\n",
       "      <td>1</td>\n",
       "      <td>34.50000</td>\n",
       "      <td>0</td>\n",
       "      <td>0</td>\n",
       "      <td>7.8292</td>\n",
       "      <td>7</td>\n",
       "      <td>2</td>\n",
       "      <td>0</td>\n",
       "      <td>7.829200</td>\n",
       "      <td>103.500000</td>\n",
       "    </tr>\n",
       "    <tr>\n",
       "      <th>1</th>\n",
       "      <td>3</td>\n",
       "      <td>0</td>\n",
       "      <td>47.00000</td>\n",
       "      <td>1</td>\n",
       "      <td>0</td>\n",
       "      <td>7.0000</td>\n",
       "      <td>7</td>\n",
       "      <td>3</td>\n",
       "      <td>1</td>\n",
       "      <td>3.500000</td>\n",
       "      <td>141.000000</td>\n",
       "    </tr>\n",
       "    <tr>\n",
       "      <th>2</th>\n",
       "      <td>2</td>\n",
       "      <td>1</td>\n",
       "      <td>62.00000</td>\n",
       "      <td>0</td>\n",
       "      <td>0</td>\n",
       "      <td>9.6875</td>\n",
       "      <td>7</td>\n",
       "      <td>2</td>\n",
       "      <td>0</td>\n",
       "      <td>9.687500</td>\n",
       "      <td>124.000000</td>\n",
       "    </tr>\n",
       "    <tr>\n",
       "      <th>3</th>\n",
       "      <td>3</td>\n",
       "      <td>1</td>\n",
       "      <td>27.00000</td>\n",
       "      <td>0</td>\n",
       "      <td>0</td>\n",
       "      <td>8.6625</td>\n",
       "      <td>7</td>\n",
       "      <td>2</td>\n",
       "      <td>0</td>\n",
       "      <td>8.662500</td>\n",
       "      <td>81.000000</td>\n",
       "    </tr>\n",
       "    <tr>\n",
       "      <th>4</th>\n",
       "      <td>3</td>\n",
       "      <td>0</td>\n",
       "      <td>22.00000</td>\n",
       "      <td>1</td>\n",
       "      <td>1</td>\n",
       "      <td>12.2875</td>\n",
       "      <td>7</td>\n",
       "      <td>3</td>\n",
       "      <td>2</td>\n",
       "      <td>4.095833</td>\n",
       "      <td>66.000000</td>\n",
       "    </tr>\n",
       "    <tr>\n",
       "      <th>...</th>\n",
       "      <td>...</td>\n",
       "      <td>...</td>\n",
       "      <td>...</td>\n",
       "      <td>...</td>\n",
       "      <td>...</td>\n",
       "      <td>...</td>\n",
       "      <td>...</td>\n",
       "      <td>...</td>\n",
       "      <td>...</td>\n",
       "      <td>...</td>\n",
       "      <td>...</td>\n",
       "    </tr>\n",
       "    <tr>\n",
       "      <th>413</th>\n",
       "      <td>3</td>\n",
       "      <td>1</td>\n",
       "      <td>30.27259</td>\n",
       "      <td>0</td>\n",
       "      <td>0</td>\n",
       "      <td>8.0500</td>\n",
       "      <td>7</td>\n",
       "      <td>2</td>\n",
       "      <td>0</td>\n",
       "      <td>8.050000</td>\n",
       "      <td>90.817771</td>\n",
       "    </tr>\n",
       "    <tr>\n",
       "      <th>414</th>\n",
       "      <td>1</td>\n",
       "      <td>0</td>\n",
       "      <td>39.00000</td>\n",
       "      <td>0</td>\n",
       "      <td>0</td>\n",
       "      <td>108.9000</td>\n",
       "      <td>2</td>\n",
       "      <td>3</td>\n",
       "      <td>0</td>\n",
       "      <td>108.900000</td>\n",
       "      <td>39.000000</td>\n",
       "    </tr>\n",
       "    <tr>\n",
       "      <th>415</th>\n",
       "      <td>3</td>\n",
       "      <td>1</td>\n",
       "      <td>38.50000</td>\n",
       "      <td>0</td>\n",
       "      <td>0</td>\n",
       "      <td>7.2500</td>\n",
       "      <td>7</td>\n",
       "      <td>2</td>\n",
       "      <td>0</td>\n",
       "      <td>7.250000</td>\n",
       "      <td>115.500000</td>\n",
       "    </tr>\n",
       "    <tr>\n",
       "      <th>416</th>\n",
       "      <td>3</td>\n",
       "      <td>1</td>\n",
       "      <td>30.27259</td>\n",
       "      <td>0</td>\n",
       "      <td>0</td>\n",
       "      <td>8.0500</td>\n",
       "      <td>7</td>\n",
       "      <td>2</td>\n",
       "      <td>0</td>\n",
       "      <td>8.050000</td>\n",
       "      <td>90.817771</td>\n",
       "    </tr>\n",
       "    <tr>\n",
       "      <th>417</th>\n",
       "      <td>3</td>\n",
       "      <td>1</td>\n",
       "      <td>30.27259</td>\n",
       "      <td>1</td>\n",
       "      <td>1</td>\n",
       "      <td>22.3583</td>\n",
       "      <td>7</td>\n",
       "      <td>0</td>\n",
       "      <td>2</td>\n",
       "      <td>7.452767</td>\n",
       "      <td>90.817771</td>\n",
       "    </tr>\n",
       "  </tbody>\n",
       "</table>\n",
       "<p>418 rows × 11 columns</p>\n",
       "</div>"
      ],
      "text/plain": [
       "     Pclass  Sex       Age  SibSp  Parch      Fare  Cabin  Title  Family_Size  \\\n",
       "0         3    1  34.50000      0      0    7.8292      7      2            0   \n",
       "1         3    0  47.00000      1      0    7.0000      7      3            1   \n",
       "2         2    1  62.00000      0      0    9.6875      7      2            0   \n",
       "3         3    1  27.00000      0      0    8.6625      7      2            0   \n",
       "4         3    0  22.00000      1      1   12.2875      7      3            2   \n",
       "..      ...  ...       ...    ...    ...       ...    ...    ...          ...   \n",
       "413       3    1  30.27259      0      0    8.0500      7      2            0   \n",
       "414       1    0  39.00000      0      0  108.9000      2      3            0   \n",
       "415       3    1  38.50000      0      0    7.2500      7      2            0   \n",
       "416       3    1  30.27259      0      0    8.0500      7      2            0   \n",
       "417       3    1  30.27259      1      1   22.3583      7      0            2   \n",
       "\n",
       "     Fare_Per_Person   Age*Class  \n",
       "0           7.829200  103.500000  \n",
       "1           3.500000  141.000000  \n",
       "2           9.687500  124.000000  \n",
       "3           8.662500   81.000000  \n",
       "4           4.095833   66.000000  \n",
       "..               ...         ...  \n",
       "413         8.050000   90.817771  \n",
       "414       108.900000   39.000000  \n",
       "415         7.250000  115.500000  \n",
       "416         8.050000   90.817771  \n",
       "417         7.452767   90.817771  \n",
       "\n",
       "[418 rows x 11 columns]"
      ]
     },
     "execution_count": 32,
     "metadata": {},
     "output_type": "execute_result"
    }
   ],
   "source": [
    "test_df"
   ]
  },
  {
   "cell_type": "code",
   "execution_count": 33,
   "id": "provincial-synthetic",
   "metadata": {
    "ExecuteTime": {
     "end_time": "2021-07-13T09:51:08.371057Z",
     "start_time": "2021-07-13T09:51:08.356095Z"
    }
   },
   "outputs": [],
   "source": [
    "def make_csv_sub(df, PassengerID, rfc_classifier):\n",
    "    test_predictions = RFC.predict(df)\n",
    "    submit_df = pd.DataFrame({\"PassengerID\": PassengerID, \"Survived\": test_predictions})\n",
    "    submit_df.to_csv(\"gender_submission.csv\", index = False)"
   ]
  },
  {
   "cell_type": "code",
   "execution_count": 34,
   "id": "herbal-program",
   "metadata": {
    "ExecuteTime": {
     "end_time": "2021-07-13T09:51:08.434072Z",
     "start_time": "2021-07-13T09:51:08.373052Z"
    }
   },
   "outputs": [],
   "source": [
    "make_csv_sub(test_df, PassengerID, RFC)"
   ]
  },
  {
   "cell_type": "markdown",
   "id": "deluxe-syndication",
   "metadata": {},
   "source": [
    "## PostHoc Analysis"
   ]
  },
  {
   "cell_type": "code",
   "execution_count": 35,
   "id": "elder-vegetable",
   "metadata": {
    "ExecuteTime": {
     "end_time": "2021-07-13T09:51:08.450065Z",
     "start_time": "2021-07-13T09:51:08.436055Z"
    }
   },
   "outputs": [
    {
     "data": {
      "text/plain": [
       "<bound method BaseEstimator.get_params of RandomForestClassifier(criterion='entropy', max_depth=15, max_samples=200,\n",
       "                       min_samples_leaf=5, min_samples_split=10,\n",
       "                       n_estimators=300, random_state=200)>"
      ]
     },
     "execution_count": 35,
     "metadata": {},
     "output_type": "execute_result"
    }
   ],
   "source": [
    "RFC.best_estimator_.get_params"
   ]
  },
  {
   "cell_type": "code",
   "execution_count": 36,
   "id": "finished-elevation",
   "metadata": {
    "ExecuteTime": {
     "end_time": "2021-07-13T09:51:08.702313Z",
     "start_time": "2021-07-13T09:51:08.451010Z"
    }
   },
   "outputs": [
    {
     "data": {
      "text/plain": [
       "<sklearn.metrics._plot.confusion_matrix.ConfusionMatrixDisplay at 0x143c170eaf0>"
      ]
     },
     "execution_count": 36,
     "metadata": {},
     "output_type": "execute_result"
    },
    {
     "data": {
      "image/png": "[encoded data removed]",
      "text/plain": [
       "<Figure size 432x288 with 2 Axes>"
      ]
     },
     "metadata": {
      "needs_background": "light"
     },
     "output_type": "display_data"
    }
   ],
   "source": [
    "plot_confusion_matrix(RFC, valid_data, valid_value)"
   ]
  },
  {
   "cell_type": "code",
   "execution_count": 37,
   "id": "associate-moment",
   "metadata": {
    "ExecuteTime": {
     "end_time": "2021-07-13T09:51:08.717273Z",
     "start_time": "2021-07-13T09:51:08.704306Z"
    }
   },
   "outputs": [],
   "source": [
    "def make_report(y_test, y_pred):\n",
    "    print(classification_report(y_test,y_pred))\n",
    "    print(\"Accuracy score: {}\".format(accuracy_score(y_test, y_pred)))\n",
    "    print(\"ROC-AUC score: {}\".format(roc_auc_score(valid_value, value_predicted)))"
   ]
  },
  {
   "cell_type": "code",
   "execution_count": 38,
   "id": "biblical-hygiene",
   "metadata": {
    "ExecuteTime": {
     "end_time": "2021-07-13T09:51:08.748253Z",
     "start_time": "2021-07-13T09:51:08.721285Z"
    }
   },
   "outputs": [
    {
     "name": "stdout",
     "output_type": "stream",
     "text": [
      "              precision    recall  f1-score   support\n",
      "\n",
      "           0       0.75      0.88      0.81       104\n",
      "           1       0.78      0.60      0.68        75\n",
      "\n",
      "    accuracy                           0.76       179\n",
      "   macro avg       0.76      0.74      0.74       179\n",
      "weighted avg       0.76      0.76      0.75       179\n",
      "\n",
      "Accuracy score: 0.7597765363128491\n",
      "ROC-AUC score: 0.7375\n"
     ]
    }
   ],
   "source": [
    "make_report(valid_value, value_predicted)"
   ]
  },
  {
   "cell_type": "code",
   "execution_count": 39,
   "id": "mineral-diana",
   "metadata": {
    "ExecuteTime": {
     "end_time": "2021-07-13T09:51:08.841780Z",
     "start_time": "2021-07-13T09:51:08.750184Z"
    }
   },
   "outputs": [
    {
     "data": {
      "text/html": [
       "<div>\n",
       "<style scoped>\n",
       "    .dataframe tbody tr th:only-of-type {\n",
       "        vertical-align: middle;\n",
       "    }\n",
       "\n",
       "    .dataframe tbody tr th {\n",
       "        vertical-align: top;\n",
       "    }\n",
       "\n",
       "    .dataframe thead th {\n",
       "        text-align: right;\n",
       "    }\n",
       "</style>\n",
       "<table border=\"1\" class=\"dataframe\">\n",
       "  <thead>\n",
       "    <tr style=\"text-align: right;\">\n",
       "      <th></th>\n",
       "      <th>Feature</th>\n",
       "      <th>Importance</th>\n",
       "    </tr>\n",
       "  </thead>\n",
       "  <tbody>\n",
       "    <tr>\n",
       "      <th>1</th>\n",
       "      <td>Sex</td>\n",
       "      <td>0.255173</td>\n",
       "    </tr>\n",
       "    <tr>\n",
       "      <th>7</th>\n",
       "      <td>Title</td>\n",
       "      <td>0.132710</td>\n",
       "    </tr>\n",
       "    <tr>\n",
       "      <th>10</th>\n",
       "      <td>Age*Class</td>\n",
       "      <td>0.124429</td>\n",
       "    </tr>\n",
       "    <tr>\n",
       "      <th>9</th>\n",
       "      <td>Fare_Per_Person</td>\n",
       "      <td>0.123239</td>\n",
       "    </tr>\n",
       "    <tr>\n",
       "      <th>5</th>\n",
       "      <td>Fare</td>\n",
       "      <td>0.104385</td>\n",
       "    </tr>\n",
       "    <tr>\n",
       "      <th>2</th>\n",
       "      <td>Age</td>\n",
       "      <td>0.073052</td>\n",
       "    </tr>\n",
       "    <tr>\n",
       "      <th>0</th>\n",
       "      <td>Pclass</td>\n",
       "      <td>0.065294</td>\n",
       "    </tr>\n",
       "    <tr>\n",
       "      <th>8</th>\n",
       "      <td>Family_Size</td>\n",
       "      <td>0.043563</td>\n",
       "    </tr>\n",
       "    <tr>\n",
       "      <th>6</th>\n",
       "      <td>Cabin</td>\n",
       "      <td>0.040925</td>\n",
       "    </tr>\n",
       "    <tr>\n",
       "      <th>3</th>\n",
       "      <td>SibSp</td>\n",
       "      <td>0.025889</td>\n",
       "    </tr>\n",
       "    <tr>\n",
       "      <th>4</th>\n",
       "      <td>Parch</td>\n",
       "      <td>0.011342</td>\n",
       "    </tr>\n",
       "  </tbody>\n",
       "</table>\n",
       "</div>"
      ],
      "text/plain": [
       "            Feature  Importance\n",
       "1               Sex    0.255173\n",
       "7             Title    0.132710\n",
       "10        Age*Class    0.124429\n",
       "9   Fare_Per_Person    0.123239\n",
       "5              Fare    0.104385\n",
       "2               Age    0.073052\n",
       "0            Pclass    0.065294\n",
       "8       Family_Size    0.043563\n",
       "6             Cabin    0.040925\n",
       "3             SibSp    0.025889\n",
       "4             Parch    0.011342"
      ]
     },
     "execution_count": 39,
     "metadata": {},
     "output_type": "execute_result"
    }
   ],
   "source": [
    "feature_imp_df = pd.DataFrame({'Feature': train_data.columns , 'Importance':RFC.best_estimator_.feature_importances_ })\n",
    "feature_imp_df = feature_imp_df.sort_values('Importance', ascending = False)\n",
    "feature_imp_df"
   ]
  },
  {
   "cell_type": "code",
   "execution_count": 40,
   "id": "foreign-ottawa",
   "metadata": {
    "ExecuteTime": {
     "end_time": "2021-07-13T09:51:09.047539Z",
     "start_time": "2021-07-13T09:51:08.843777Z"
    }
   },
   "outputs": [
    {
     "data": {
      "text/plain": [
       "<AxesSubplot:xlabel='Importance', ylabel='Feature'>"
      ]
     },
     "execution_count": 40,
     "metadata": {},
     "output_type": "execute_result"
    },
    {
     "data": {
      "image/png": "[encoded data removed]",
      "text/plain": [
       "<Figure size 432x288 with 1 Axes>"
      ]
     },
     "metadata": {
      "needs_background": "light"
     },
     "output_type": "display_data"
    }
   ],
   "source": [
    "sns.barplot(x = feature_imp_df['Importance'], y = feature_imp_df['Feature'] )"
   ]
  },
  {
   "cell_type": "markdown",
   "id": "structured-nothing",
   "metadata": {},
   "source": [
    "## Make new model based on knowledge of feature importance"
   ]
  },
  {
   "cell_type": "code",
   "execution_count": 41,
   "id": "robust-vintage",
   "metadata": {
    "ExecuteTime": {
     "end_time": "2021-07-13T09:51:09.063500Z",
     "start_time": "2021-07-13T09:51:09.048536Z"
    }
   },
   "outputs": [
    {
     "name": "stdout",
     "output_type": "stream",
     "text": [
      "Number of all features: 11\n"
     ]
    }
   ],
   "source": [
    "print(\"Number of all features: {}\".format(len(train_data.columns)))"
   ]
  },
  {
   "cell_type": "code",
   "execution_count": 42,
   "id": "hearing-poverty",
   "metadata": {
    "ExecuteTime": {
     "end_time": "2021-07-13T09:51:09.079454Z",
     "start_time": "2021-07-13T09:51:09.066492Z"
    }
   },
   "outputs": [],
   "source": [
    "N_features = 9\n",
    "selected_imp_features = feature_imp_df['Feature'][:N_features].to_list()"
   ]
  },
  {
   "cell_type": "code",
   "execution_count": 43,
   "id": "mysterious-magic",
   "metadata": {
    "ExecuteTime": {
     "end_time": "2021-07-13T09:51:09.095412Z",
     "start_time": "2021-07-13T09:51:09.081449Z"
    }
   },
   "outputs": [
    {
     "data": {
      "text/plain": [
       "['Sex',\n",
       " 'Title',\n",
       " 'Age*Class',\n",
       " 'Fare_Per_Person',\n",
       " 'Fare',\n",
       " 'Age',\n",
       " 'Pclass',\n",
       " 'Family_Size',\n",
       " 'Cabin']"
      ]
     },
     "execution_count": 43,
     "metadata": {},
     "output_type": "execute_result"
    }
   ],
   "source": [
    "selected_imp_features"
   ]
  },
  {
   "cell_type": "code",
   "execution_count": 44,
   "id": "dutch-ability",
   "metadata": {
    "ExecuteTime": {
     "end_time": "2021-07-13T09:51:09.111369Z",
     "start_time": "2021-07-13T09:51:09.096409Z"
    }
   },
   "outputs": [],
   "source": [
    "test_df_most_imp = test_df[selected_imp_features]"
   ]
  },
  {
   "cell_type": "code",
   "execution_count": 45,
   "id": "manual-cancellation",
   "metadata": {
    "ExecuteTime": {
     "end_time": "2021-07-13T09:51:09.126338Z",
     "start_time": "2021-07-13T09:51:09.113364Z"
    }
   },
   "outputs": [],
   "source": [
    "selected_imp_features.append(\"Survived\")\n",
    "main_df_most_imp = main_df[selected_imp_features]"
   ]
  },
  {
   "cell_type": "code",
   "execution_count": 46,
   "id": "industrial-sentence",
   "metadata": {
    "ExecuteTime": {
     "end_time": "2021-07-13T09:51:09.142292Z",
     "start_time": "2021-07-13T09:51:09.128332Z"
    }
   },
   "outputs": [],
   "source": [
    "train_data, valid_data, train_value, valid_value  = train_test_split(main_df_most_imp.drop(columns = ['Survived']), main_df_most_imp['Survived'], test_size = 0.2, random_state = rand_state, shuffle = True)"
   ]
  },
  {
   "cell_type": "code",
   "execution_count": 47,
   "id": "norwegian-horse",
   "metadata": {
    "ExecuteTime": {
     "end_time": "2021-07-13T09:53:12.892145Z",
     "start_time": "2021-07-13T09:51:09.143283Z"
    }
   },
   "outputs": [
    {
     "data": {
      "text/plain": [
       "GridSearchCV(estimator=RandomForestClassifier(criterion='entropy',\n",
       "                                              min_samples_leaf=5,\n",
       "                                              min_samples_split=10,\n",
       "                                              random_state=200),\n",
       "             param_grid=[{'max_depth': [5, 7, 9, 12, 15, 18],\n",
       "                          'max_samples': [100, 150, 200],\n",
       "                          'n_estimators': [100, 200, 300, 500]}])"
      ]
     },
     "execution_count": 47,
     "metadata": {},
     "output_type": "execute_result"
    }
   ],
   "source": [
    "RFC.fit(train_data, train_value)"
   ]
  },
  {
   "cell_type": "code",
   "execution_count": 48,
   "id": "endangered-storm",
   "metadata": {
    "ExecuteTime": {
     "end_time": "2021-07-13T09:53:12.923713Z",
     "start_time": "2021-07-13T09:53:12.893124Z"
    }
   },
   "outputs": [],
   "source": [
    "value_predicted = RFC.predict(valid_data)"
   ]
  },
  {
   "cell_type": "code",
   "execution_count": 49,
   "id": "cordless-awareness",
   "metadata": {
    "ExecuteTime": {
     "end_time": "2021-07-13T09:53:13.114116Z",
     "start_time": "2021-07-13T09:53:12.925707Z"
    }
   },
   "outputs": [
    {
     "data": {
      "text/plain": [
       "<sklearn.metrics._plot.confusion_matrix.ConfusionMatrixDisplay at 0x143c177adc0>"
      ]
     },
     "execution_count": 49,
     "metadata": {},
     "output_type": "execute_result"
    },
    {
     "data": {
      "image/png": "[encoded data removed]",
      "text/plain": [
       "<Figure size 432x288 with 2 Axes>"
      ]
     },
     "metadata": {
      "needs_background": "light"
     },
     "output_type": "display_data"
    }
   ],
   "source": [
    "plot_confusion_matrix(RFC, valid_data, valid_value)"
   ]
  },
  {
   "cell_type": "code",
   "execution_count": 50,
   "id": "affiliated-sierra",
   "metadata": {
    "ExecuteTime": {
     "end_time": "2021-07-13T09:53:13.130051Z",
     "start_time": "2021-07-13T09:53:13.115092Z"
    }
   },
   "outputs": [
    {
     "name": "stdout",
     "output_type": "stream",
     "text": [
      "              precision    recall  f1-score   support\n",
      "\n",
      "           0       0.75      0.88      0.81       104\n",
      "           1       0.79      0.60      0.68        75\n",
      "\n",
      "    accuracy                           0.77       179\n",
      "   macro avg       0.77      0.74      0.75       179\n",
      "weighted avg       0.77      0.77      0.76       179\n",
      "\n",
      "Accuracy score: 0.7653631284916201\n",
      "ROC-AUC score: 0.7423076923076923\n"
     ]
    }
   ],
   "source": [
    "make_report(valid_value, value_predicted)"
   ]
  },
  {
   "cell_type": "code",
   "execution_count": 51,
   "id": "overall-creator",
   "metadata": {
    "ExecuteTime": {
     "end_time": "2021-07-13T09:53:13.161378Z",
     "start_time": "2021-07-13T09:53:13.132047Z"
    }
   },
   "outputs": [],
   "source": [
    "make_csv_sub(test_df_most_imp, PassengerID, RFC)"
   ]
  }
 ],
 "metadata": {
  "kernelspec": {
   "display_name": "MainEnv",
   "language": "python",
   "name": "mainenv"
  },
  "language_info": {
   "codemirror_mode": {
    "name": "ipython",
    "version": 3
   },
   "file_extension": ".py",
   "mimetype": "text/x-python",
   "name": "python",
   "nbconvert_exporter": "python",
   "pygments_lexer": "ipython3",
   "version": "3.8.7"
  }
 },
 "nbformat": 4,
 "nbformat_minor": 5
}
